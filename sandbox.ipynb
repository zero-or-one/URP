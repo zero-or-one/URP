{
 "cells": [
  {
   "cell_type": "code",
   "execution_count": 1,
   "id": "e1a0892e",
   "metadata": {},
   "outputs": [],
   "source": [
    "import numpy as np\n",
    "import torch\n",
    "import matplotlib.pyplot as plt\n",
    "%matplotlib inline\n",
    "from torch.autograd import Variable\n",
    "\n",
    "from sklearn.model_selection import train_test_split\n",
    "from sklearn.linear_model import LinearRegression \n",
    "from sklearn.metrics import mean_squared_error\n",
    "import pandas as pd\n"
   ]
  },
  {
   "cell_type": "code",
   "execution_count": 2,
   "id": "cc834a06",
   "metadata": {},
   "outputs": [],
   "source": [
    "#housing = pd.read_csv('housing.csv')\n",
    "# dataset taken from https://www.kaggle.com/camnugent/california-housing-prices#x_train, x_test, y_train, y_test = train_test_split(housing.median_income, housing.median_house_value, test_size = 0.2)\n",
    "#x_train.shape"
   ]
  },
  {
   "cell_type": "code",
   "execution_count": 3,
   "id": "d62a15a9",
   "metadata": {},
   "outputs": [
    {
     "data": {
      "text/plain": [
       "(20, 1)"
      ]
     },
     "execution_count": 3,
     "metadata": {},
     "output_type": "execute_result"
    }
   ],
   "source": [
    "# create dummy data\n",
    "x_values = [i for i in range(20)]\n",
    "x = np.array(x_values, dtype=np.float32)\n",
    "x = x.reshape(-1, 1)\n",
    "\n",
    "y_values = [2*i + 1 +  5*np.random.normal() for i in x_values] # small noise added\n",
    "y = np.array(y_values, dtype=np.float32)\n",
    "y = y.reshape(-1, 1)\n",
    "y.shape"
   ]
  },
  {
   "cell_type": "code",
   "execution_count": 4,
   "id": "34f51fd6",
   "metadata": {},
   "outputs": [
    {
     "data": {
      "text/plain": [
       "[<matplotlib.lines.Line2D at 0x20274ba1610>]"
      ]
     },
     "execution_count": 4,
     "metadata": {},
     "output_type": "execute_result"
    },
    {
     "data": {
      "image/png": "[encoded data removed]",
      "text/plain": [
       "<Figure size 432x288 with 1 Axes>"
      ]
     },
     "metadata": {
      "needs_background": "light"
     },
     "output_type": "display_data"
    }
   ],
   "source": [
    "plt.plot(x, y, 'go', label='True data', alpha=0.5)"
   ]
  },
  {
   "cell_type": "code",
   "execution_count": 5,
   "id": "8f88db2d",
   "metadata": {},
   "outputs": [],
   "source": [
    "# simple linear regression model\n",
    "class linearRegression(torch.nn.Module):\n",
    "    def __init__(self, inputSize, outputSize):\n",
    "        super(linearRegression, self).__init__()\n",
    "        self.linear = torch.nn.Linear(inputSize, outputSize)\n",
    "\n",
    "    def forward(self, x):\n",
    "        out = self.linear(x)\n",
    "        return out"
   ]
  },
  {
   "cell_type": "code",
   "execution_count": 6,
   "id": "4f40d3ee",
   "metadata": {},
   "outputs": [],
   "source": [
    "inputDim = 1        \n",
    "outputDim = 1      \n",
    "learningRate = 0.005\n",
    "epochs = 200\n",
    "\n",
    "model = linearRegression(inputDim, outputDim)\n",
    "\n",
    "if torch.cuda.is_available():\n",
    "    model.cuda()"
   ]
  },
  {
   "cell_type": "code",
   "execution_count": 7,
   "id": "28179ffc",
   "metadata": {},
   "outputs": [],
   "source": [
    "criterion = torch.nn.MSELoss() \n",
    "optimizer = torch.optim.SGD(model.parameters(), lr=learningRate)"
   ]
  },
  {
   "cell_type": "code",
   "execution_count": 8,
   "id": "3e6240cb",
   "metadata": {},
   "outputs": [
    {
     "name": "stdout",
     "output_type": "stream",
     "text": [
      "epoch 0, loss 651.3448486328125\n",
      "epoch 1, loss 64.05729675292969\n",
      "epoch 2, loss 29.57004165649414\n",
      "epoch 3, loss 27.54364585876465\n",
      "epoch 4, loss 27.423376083374023\n",
      "epoch 5, loss 27.4150333404541\n",
      "epoch 6, loss 27.413284301757812\n",
      "epoch 7, loss 27.411916732788086\n",
      "epoch 8, loss 27.410593032836914\n",
      "epoch 9, loss 27.409265518188477\n",
      "epoch 10, loss 27.407949447631836\n",
      "epoch 11, loss 27.406635284423828\n",
      "epoch 12, loss 27.40533447265625\n",
      "epoch 13, loss 27.404041290283203\n",
      "epoch 14, loss 27.402751922607422\n",
      "epoch 15, loss 27.40146827697754\n",
      "epoch 16, loss 27.400196075439453\n",
      "epoch 17, loss 27.39892578125\n",
      "epoch 18, loss 27.39766502380371\n",
      "epoch 19, loss 27.396413803100586\n",
      "epoch 20, loss 27.395160675048828\n",
      "epoch 21, loss 27.3939208984375\n",
      "epoch 22, loss 27.3926944732666\n",
      "epoch 23, loss 27.39145851135254\n",
      "epoch 24, loss 27.390239715576172\n",
      "epoch 25, loss 27.389022827148438\n",
      "epoch 26, loss 27.3878173828125\n",
      "epoch 27, loss 27.386615753173828\n",
      "epoch 28, loss 27.38541603088379\n",
      "epoch 29, loss 27.384227752685547\n",
      "epoch 30, loss 27.383045196533203\n",
      "epoch 31, loss 27.38187026977539\n",
      "epoch 32, loss 27.38070297241211\n",
      "epoch 33, loss 27.37953758239746\n",
      "epoch 34, loss 27.378381729125977\n",
      "epoch 35, loss 27.37723159790039\n",
      "epoch 36, loss 27.376079559326172\n",
      "epoch 37, loss 27.374942779541016\n",
      "epoch 38, loss 27.37381362915039\n",
      "epoch 39, loss 27.3726863861084\n",
      "epoch 40, loss 27.371562957763672\n",
      "epoch 41, loss 27.370447158813477\n",
      "epoch 42, loss 27.369338989257812\n",
      "epoch 43, loss 27.368236541748047\n",
      "epoch 44, loss 27.367137908935547\n",
      "epoch 45, loss 27.36604881286621\n",
      "epoch 46, loss 27.364959716796875\n",
      "epoch 47, loss 27.3638858795166\n",
      "epoch 48, loss 27.362808227539062\n",
      "epoch 49, loss 27.361736297607422\n",
      "epoch 50, loss 27.360675811767578\n",
      "epoch 51, loss 27.359619140625\n",
      "epoch 52, loss 27.358572006225586\n",
      "epoch 53, loss 27.357524871826172\n",
      "epoch 54, loss 27.356487274169922\n",
      "epoch 55, loss 27.355443954467773\n",
      "epoch 56, loss 27.354419708251953\n",
      "epoch 57, loss 27.353403091430664\n",
      "epoch 58, loss 27.35238265991211\n",
      "epoch 59, loss 27.351369857788086\n",
      "epoch 60, loss 27.350360870361328\n",
      "epoch 61, loss 27.349361419677734\n",
      "epoch 62, loss 27.34836196899414\n",
      "epoch 63, loss 27.347370147705078\n",
      "epoch 64, loss 27.346389770507812\n",
      "epoch 65, loss 27.34540367126465\n",
      "epoch 66, loss 27.344430923461914\n",
      "epoch 67, loss 27.343460083007812\n",
      "epoch 68, loss 27.342498779296875\n",
      "epoch 69, loss 27.341543197631836\n",
      "epoch 70, loss 27.340585708618164\n",
      "epoch 71, loss 27.339635848999023\n",
      "epoch 72, loss 27.338687896728516\n",
      "epoch 73, loss 27.337749481201172\n",
      "epoch 74, loss 27.336816787719727\n",
      "epoch 75, loss 27.335886001586914\n",
      "epoch 76, loss 27.3349609375\n",
      "epoch 77, loss 27.334041595458984\n",
      "epoch 78, loss 27.333133697509766\n",
      "epoch 79, loss 27.332218170166016\n",
      "epoch 80, loss 27.331317901611328\n",
      "epoch 81, loss 27.33041763305664\n",
      "epoch 82, loss 27.329519271850586\n",
      "epoch 83, loss 27.328628540039062\n",
      "epoch 84, loss 27.327749252319336\n",
      "epoch 85, loss 27.326862335205078\n",
      "epoch 86, loss 27.32598876953125\n",
      "epoch 87, loss 27.325115203857422\n",
      "epoch 88, loss 27.324254989624023\n",
      "epoch 89, loss 27.323389053344727\n",
      "epoch 90, loss 27.322528839111328\n",
      "epoch 91, loss 27.321674346923828\n",
      "epoch 92, loss 27.320825576782227\n",
      "epoch 93, loss 27.31998634338379\n",
      "epoch 94, loss 27.31914710998535\n",
      "epoch 95, loss 27.318309783935547\n",
      "epoch 96, loss 27.317480087280273\n",
      "epoch 97, loss 27.316654205322266\n",
      "epoch 98, loss 27.31583595275879\n",
      "epoch 99, loss 27.315017700195312\n",
      "epoch 100, loss 27.314205169677734\n",
      "epoch 101, loss 27.313396453857422\n",
      "epoch 102, loss 27.31259536743164\n",
      "epoch 103, loss 27.311792373657227\n",
      "epoch 104, loss 27.310998916625977\n",
      "epoch 105, loss 27.31020164489746\n",
      "epoch 106, loss 27.309417724609375\n",
      "epoch 107, loss 27.308635711669922\n",
      "epoch 108, loss 27.307857513427734\n",
      "epoch 109, loss 27.307086944580078\n",
      "epoch 110, loss 27.306310653686523\n",
      "epoch 111, loss 27.3055477142334\n",
      "epoch 112, loss 27.304784774780273\n",
      "epoch 113, loss 27.30402183532715\n",
      "epoch 114, loss 27.303272247314453\n",
      "epoch 115, loss 27.302520751953125\n",
      "epoch 116, loss 27.301773071289062\n",
      "epoch 117, loss 27.301036834716797\n",
      "epoch 118, loss 27.300296783447266\n",
      "epoch 119, loss 27.299564361572266\n",
      "epoch 120, loss 27.2988338470459\n",
      "epoch 121, loss 27.298105239868164\n",
      "epoch 122, loss 27.297388076782227\n",
      "epoch 123, loss 27.296667098999023\n",
      "epoch 124, loss 27.29595375061035\n",
      "epoch 125, loss 27.295242309570312\n",
      "epoch 126, loss 27.294530868530273\n",
      "epoch 127, loss 27.2938289642334\n",
      "epoch 128, loss 27.293136596679688\n",
      "epoch 129, loss 27.292434692382812\n",
      "epoch 130, loss 27.2917423248291\n",
      "epoch 131, loss 27.291051864624023\n",
      "epoch 132, loss 27.29037094116211\n",
      "epoch 133, loss 27.289684295654297\n",
      "epoch 134, loss 27.289016723632812\n",
      "epoch 135, loss 27.288339614868164\n",
      "epoch 136, loss 27.287670135498047\n",
      "epoch 137, loss 27.286998748779297\n",
      "epoch 138, loss 27.28633689880371\n",
      "epoch 139, loss 27.28567886352539\n",
      "epoch 140, loss 27.2850284576416\n",
      "epoch 141, loss 27.284374237060547\n",
      "epoch 142, loss 27.283721923828125\n",
      "epoch 143, loss 27.2830810546875\n",
      "epoch 144, loss 27.282434463500977\n",
      "epoch 145, loss 27.281795501708984\n",
      "epoch 146, loss 27.281164169311523\n",
      "epoch 147, loss 27.280532836914062\n",
      "epoch 148, loss 27.279903411865234\n",
      "epoch 149, loss 27.279277801513672\n",
      "epoch 150, loss 27.278656005859375\n",
      "epoch 151, loss 27.27803611755371\n",
      "epoch 152, loss 27.27742576599121\n",
      "epoch 153, loss 27.276809692382812\n",
      "epoch 154, loss 27.276203155517578\n",
      "epoch 155, loss 27.27559471130371\n",
      "epoch 156, loss 27.274993896484375\n",
      "epoch 157, loss 27.274394989013672\n",
      "epoch 158, loss 27.2737979888916\n",
      "epoch 159, loss 27.273204803466797\n",
      "epoch 160, loss 27.272619247436523\n",
      "epoch 161, loss 27.27203369140625\n",
      "epoch 162, loss 27.27145004272461\n",
      "epoch 163, loss 27.2708740234375\n",
      "epoch 164, loss 27.270294189453125\n",
      "epoch 165, loss 27.269723892211914\n",
      "epoch 166, loss 27.269149780273438\n",
      "epoch 167, loss 27.268579483032227\n",
      "epoch 168, loss 27.268016815185547\n",
      "epoch 169, loss 27.2674617767334\n",
      "epoch 170, loss 27.266895294189453\n",
      "epoch 171, loss 27.266345977783203\n",
      "epoch 172, loss 27.265789031982422\n",
      "epoch 173, loss 27.265243530273438\n",
      "epoch 174, loss 27.264698028564453\n",
      "epoch 175, loss 27.264148712158203\n",
      "epoch 176, loss 27.26360511779785\n",
      "epoch 177, loss 27.263080596923828\n",
      "epoch 178, loss 27.26253318786621\n",
      "epoch 179, loss 27.26200294494629\n",
      "epoch 180, loss 27.261474609375\n",
      "epoch 181, loss 27.260944366455078\n",
      "epoch 182, loss 27.260425567626953\n",
      "epoch 183, loss 27.25990867614746\n",
      "epoch 184, loss 27.259389877319336\n",
      "epoch 185, loss 27.258865356445312\n",
      "epoch 186, loss 27.25836181640625\n",
      "epoch 187, loss 27.25784683227539\n",
      "epoch 188, loss 27.257343292236328\n",
      "epoch 189, loss 27.256832122802734\n",
      "epoch 190, loss 27.256328582763672\n",
      "epoch 191, loss 27.255834579467773\n",
      "epoch 192, loss 27.255340576171875\n",
      "epoch 193, loss 27.25484848022461\n",
      "epoch 194, loss 27.254352569580078\n",
      "epoch 195, loss 27.253870010375977\n",
      "epoch 196, loss 27.25337791442871\n",
      "epoch 197, loss 27.252899169921875\n",
      "epoch 198, loss 27.25242042541504\n",
      "epoch 199, loss 27.251937866210938\n"
     ]
    }
   ],
   "source": [
    "for epoch in range(epochs):\n",
    "    # Converting inputs and labels to Variable\n",
    "    if torch.cuda.is_available():\n",
    "        inputs = Variable(torch.from_numpy(x).cuda())\n",
    "        labels = Variable(torch.from_numpy(y).cuda())\n",
    "    else:\n",
    "        inputs = Variable(torch.from_numpy(x))\n",
    "        labels = Variable(torch.from_numpy(y))\n",
    "\n",
    "    # Clear gradient buffers because we don't want any gradient from previous epoch to carry forward, dont want to cummulate gradients\n",
    "    optimizer.zero_grad()\n",
    "\n",
    "    # get output from the model, given the inputs\n",
    "    outputs = model(inputs)\n",
    "\n",
    "    # get loss for the predicted output\n",
    "    loss = criterion(outputs, labels)\n",
    "    #print(loss)\n",
    "    # get gradients w.r.t to parameters\n",
    "    loss.backward()\n",
    "\n",
    "    # update parameters\n",
    "    optimizer.step()\n",
    "\n",
    "    print('epoch {}, loss {}'.format(epoch, loss.item()))"
   ]
  },
  {
   "cell_type": "code",
   "execution_count": 9,
   "id": "7f40d297",
   "metadata": {},
   "outputs": [],
   "source": [
    "with torch.no_grad(): # we don't need gradients in the testing phase\n",
    "    if torch.cuda.is_available():\n",
    "        predicted = model(Variable(torch.from_numpy(x).cuda())).cpu().data.numpy()\n",
    "    else:\n",
    "        predicted = model(Variable(torch.from_numpy(x))).data.numpy()"
   ]
  },
  {
   "cell_type": "code",
   "execution_count": 10,
   "id": "7be966eb",
   "metadata": {},
   "outputs": [
    {
     "data": {
      "image/png": "[encoded data removed]",
      "text/plain": [
       "<Figure size 432x288 with 1 Axes>"
      ]
     },
     "metadata": {
      "needs_background": "light"
     },
     "output_type": "display_data"
    }
   ],
   "source": [
    "plt.clf()\n",
    "plt.plot(x, y, 'go', label='True data', alpha=0.5)\n",
    "plt.plot(x, predicted, '--', label='Predictions', alpha=0.5)\n",
    "plt.legend(loc='best')\n",
    "plt.show()"
   ]
  },
  {
   "cell_type": "code",
   "execution_count": 11,
   "id": "1a006ae1",
   "metadata": {},
   "outputs": [
    {
     "name": "stdout",
     "output_type": "stream",
     "text": [
      "linear.weight tensor([[2.1015]])\n",
      "linear.bias tensor([-0.1103])\n"
     ]
    }
   ],
   "source": [
    "for name, param in model.named_parameters():\n",
    "    if param.requires_grad:\n",
    "        print (name, param.data)"
   ]
  },
  {
   "cell_type": "code",
   "execution_count": 14,
   "id": "b062d5ea",
   "metadata": {},
   "outputs": [],
   "source": [
    "# let's delete point at index 2\n",
    "x_r = np.delete(x, [i for i in range(10, 15)])\n",
    "y_r = np.delete(y, [i for i in range(10, 15)])\n",
    "x_r = x_r.reshape(-1, 1)\n",
    "y_r = y_r.reshape(-1, 1)"
   ]
  },
  {
   "cell_type": "code",
   "execution_count": 15,
   "id": "1d30d1c0",
   "metadata": {},
   "outputs": [
    {
     "data": {
      "text/plain": [
       "[<matplotlib.lines.Line2D at 0x20276de7910>]"
      ]
     },
     "execution_count": 15,
     "metadata": {},
     "output_type": "execute_result"
    },
    {
     "data": {
      "image/png": "[encoded data removed]",
      "text/plain": [
       "<Figure size 432x288 with 1 Axes>"
      ]
     },
     "metadata": {
      "needs_background": "light"
     },
     "output_type": "display_data"
    }
   ],
   "source": [
    "plt.plot(x_r, y_r, 'go', label='True data', alpha=0.5)"
   ]
  },
  {
   "cell_type": "code",
   "execution_count": 16,
   "id": "d66eae32",
   "metadata": {},
   "outputs": [],
   "source": [
    "inputDim = 1        \n",
    "outputDim = 1      \n",
    "learningRate = 0.005 \n",
    "epochs = 100\n",
    "\n",
    "model_retrain = linearRegression(inputDim, outputDim)\n",
    "\n",
    "if torch.cuda.is_available():\n",
    "    model_retain.cuda()"
   ]
  },
  {
   "cell_type": "code",
   "execution_count": 17,
   "id": "66f34e11",
   "metadata": {},
   "outputs": [],
   "source": [
    "criterion = torch.nn.MSELoss() \n",
    "optimizer = torch.optim.SGD(model_retrain.parameters(), lr=learningRate)"
   ]
  },
  {
   "cell_type": "code",
   "execution_count": 18,
   "id": "6b44646b",
   "metadata": {},
   "outputs": [
    {
     "name": "stdout",
     "output_type": "stream",
     "text": [
      "tensor(912.4578, grad_fn=<MseLossBackward>)\n",
      "epoch 0, loss 912.4578247070312\n",
      "tensor(49.8507, grad_fn=<MseLossBackward>)\n",
      "epoch 1, loss 49.8507194519043\n",
      "tensor(25.9387, grad_fn=<MseLossBackward>)\n",
      "epoch 2, loss 25.938743591308594\n",
      "tensor(25.2759, grad_fn=<MseLossBackward>)\n",
      "epoch 3, loss 25.27585220336914\n",
      "tensor(25.2574, grad_fn=<MseLossBackward>)\n",
      "epoch 4, loss 25.257434844970703\n",
      "tensor(25.2569, grad_fn=<MseLossBackward>)\n",
      "epoch 5, loss 25.256872177124023\n",
      "tensor(25.2568, grad_fn=<MseLossBackward>)\n",
      "epoch 6, loss 25.256816864013672\n",
      "tensor(25.2568, grad_fn=<MseLossBackward>)\n",
      "epoch 7, loss 25.256772994995117\n",
      "tensor(25.2567, grad_fn=<MseLossBackward>)\n",
      "epoch 8, loss 25.256725311279297\n",
      "tensor(25.2567, grad_fn=<MseLossBackward>)\n",
      "epoch 9, loss 25.256683349609375\n",
      "tensor(25.2566, grad_fn=<MseLossBackward>)\n",
      "epoch 10, loss 25.25663185119629\n",
      "tensor(25.2566, grad_fn=<MseLossBackward>)\n",
      "epoch 11, loss 25.256591796875\n",
      "tensor(25.2566, grad_fn=<MseLossBackward>)\n",
      "epoch 12, loss 25.256553649902344\n",
      "tensor(25.2565, grad_fn=<MseLossBackward>)\n",
      "epoch 13, loss 25.25650978088379\n",
      "tensor(25.2565, grad_fn=<MseLossBackward>)\n",
      "epoch 14, loss 25.256471633911133\n",
      "tensor(25.2564, grad_fn=<MseLossBackward>)\n",
      "epoch 15, loss 25.256425857543945\n",
      "tensor(25.2564, grad_fn=<MseLossBackward>)\n",
      "epoch 16, loss 25.25638771057129\n",
      "tensor(25.2563, grad_fn=<MseLossBackward>)\n",
      "epoch 17, loss 25.256345748901367\n",
      "tensor(25.2563, grad_fn=<MseLossBackward>)\n",
      "epoch 18, loss 25.256298065185547\n",
      "tensor(25.2563, grad_fn=<MseLossBackward>)\n",
      "epoch 19, loss 25.256261825561523\n",
      "tensor(25.2562, grad_fn=<MseLossBackward>)\n",
      "epoch 20, loss 25.256216049194336\n",
      "tensor(25.2562, grad_fn=<MseLossBackward>)\n",
      "epoch 21, loss 25.25617218017578\n",
      "tensor(25.2561, grad_fn=<MseLossBackward>)\n",
      "epoch 22, loss 25.256135940551758\n",
      "tensor(25.2561, grad_fn=<MseLossBackward>)\n",
      "epoch 23, loss 25.25609588623047\n",
      "tensor(25.2561, grad_fn=<MseLossBackward>)\n",
      "epoch 24, loss 25.256059646606445\n",
      "tensor(25.2560, grad_fn=<MseLossBackward>)\n",
      "epoch 25, loss 25.25601577758789\n",
      "tensor(25.2560, grad_fn=<MseLossBackward>)\n",
      "epoch 26, loss 25.25597381591797\n",
      "tensor(25.2559, grad_fn=<MseLossBackward>)\n",
      "epoch 27, loss 25.25594139099121\n",
      "tensor(25.2559, grad_fn=<MseLossBackward>)\n",
      "epoch 28, loss 25.255897521972656\n",
      "tensor(25.2559, grad_fn=<MseLossBackward>)\n",
      "epoch 29, loss 25.255863189697266\n",
      "tensor(25.2558, grad_fn=<MseLossBackward>)\n",
      "epoch 30, loss 25.25581932067871\n",
      "tensor(25.2558, grad_fn=<MseLossBackward>)\n",
      "epoch 31, loss 25.255781173706055\n",
      "tensor(25.2557, grad_fn=<MseLossBackward>)\n",
      "epoch 32, loss 25.25574493408203\n",
      "tensor(25.2557, grad_fn=<MseLossBackward>)\n",
      "epoch 33, loss 25.25571060180664\n",
      "tensor(25.2557, grad_fn=<MseLossBackward>)\n",
      "epoch 34, loss 25.255672454833984\n",
      "tensor(25.2556, grad_fn=<MseLossBackward>)\n",
      "epoch 35, loss 25.255640029907227\n",
      "tensor(25.2556, grad_fn=<MseLossBackward>)\n",
      "epoch 36, loss 25.255603790283203\n",
      "tensor(25.2556, grad_fn=<MseLossBackward>)\n",
      "epoch 37, loss 25.25556182861328\n",
      "tensor(25.2555, grad_fn=<MseLossBackward>)\n",
      "epoch 38, loss 25.255523681640625\n",
      "tensor(25.2555, grad_fn=<MseLossBackward>)\n",
      "epoch 39, loss 25.255495071411133\n",
      "tensor(25.2555, grad_fn=<MseLossBackward>)\n",
      "epoch 40, loss 25.25545310974121\n",
      "tensor(25.2554, grad_fn=<MseLossBackward>)\n",
      "epoch 41, loss 25.255428314208984\n",
      "tensor(25.2554, grad_fn=<MseLossBackward>)\n",
      "epoch 42, loss 25.25539207458496\n",
      "tensor(25.2553, grad_fn=<MseLossBackward>)\n",
      "epoch 43, loss 25.255348205566406\n",
      "tensor(25.2553, grad_fn=<MseLossBackward>)\n",
      "epoch 44, loss 25.25531578063965\n",
      "tensor(25.2553, grad_fn=<MseLossBackward>)\n",
      "epoch 45, loss 25.25528335571289\n",
      "tensor(25.2552, grad_fn=<MseLossBackward>)\n",
      "epoch 46, loss 25.255247116088867\n",
      "tensor(25.2552, grad_fn=<MseLossBackward>)\n",
      "epoch 47, loss 25.255212783813477\n",
      "tensor(25.2552, grad_fn=<MseLossBackward>)\n",
      "epoch 48, loss 25.25517463684082\n",
      "tensor(25.2551, grad_fn=<MseLossBackward>)\n",
      "epoch 49, loss 25.255146026611328\n",
      "tensor(25.2551, grad_fn=<MseLossBackward>)\n",
      "epoch 50, loss 25.25511360168457\n",
      "tensor(25.2551, grad_fn=<MseLossBackward>)\n",
      "epoch 51, loss 25.255075454711914\n",
      "tensor(25.2550, grad_fn=<MseLossBackward>)\n",
      "epoch 52, loss 25.255048751831055\n",
      "tensor(25.2550, grad_fn=<MseLossBackward>)\n",
      "epoch 53, loss 25.255016326904297\n",
      "tensor(25.2550, grad_fn=<MseLossBackward>)\n",
      "epoch 54, loss 25.25498390197754\n",
      "tensor(25.2549, grad_fn=<MseLossBackward>)\n",
      "epoch 55, loss 25.25494956970215\n",
      "tensor(25.2549, grad_fn=<MseLossBackward>)\n",
      "epoch 56, loss 25.254924774169922\n",
      "tensor(25.2549, grad_fn=<MseLossBackward>)\n",
      "epoch 57, loss 25.254884719848633\n",
      "tensor(25.2549, grad_fn=<MseLossBackward>)\n",
      "epoch 58, loss 25.254854202270508\n",
      "tensor(25.2548, grad_fn=<MseLossBackward>)\n",
      "epoch 59, loss 25.254823684692383\n",
      "tensor(25.2548, grad_fn=<MseLossBackward>)\n",
      "epoch 60, loss 25.254798889160156\n",
      "tensor(25.2548, grad_fn=<MseLossBackward>)\n",
      "epoch 61, loss 25.254764556884766\n",
      "tensor(25.2547, grad_fn=<MseLossBackward>)\n",
      "epoch 62, loss 25.254732131958008\n",
      "tensor(25.2547, grad_fn=<MseLossBackward>)\n",
      "epoch 63, loss 25.25470733642578\n",
      "tensor(25.2547, grad_fn=<MseLossBackward>)\n",
      "epoch 64, loss 25.254674911499023\n",
      "tensor(25.2546, grad_fn=<MseLossBackward>)\n",
      "epoch 65, loss 25.2546443939209\n",
      "tensor(25.2546, grad_fn=<MseLossBackward>)\n",
      "epoch 66, loss 25.254615783691406\n",
      "tensor(25.2546, grad_fn=<MseLossBackward>)\n",
      "epoch 67, loss 25.25458526611328\n",
      "tensor(25.2546, grad_fn=<MseLossBackward>)\n",
      "epoch 68, loss 25.254552841186523\n",
      "tensor(25.2545, grad_fn=<MseLossBackward>)\n",
      "epoch 69, loss 25.254526138305664\n",
      "tensor(25.2545, grad_fn=<MseLossBackward>)\n",
      "epoch 70, loss 25.254497528076172\n",
      "tensor(25.2545, grad_fn=<MseLossBackward>)\n",
      "epoch 71, loss 25.254474639892578\n",
      "tensor(25.2544, grad_fn=<MseLossBackward>)\n",
      "epoch 72, loss 25.254438400268555\n",
      "tensor(25.2544, grad_fn=<MseLossBackward>)\n",
      "epoch 73, loss 25.254411697387695\n",
      "tensor(25.2544, grad_fn=<MseLossBackward>)\n",
      "epoch 74, loss 25.2543888092041\n",
      "tensor(25.2544, grad_fn=<MseLossBackward>)\n",
      "epoch 75, loss 25.25436019897461\n",
      "tensor(25.2543, grad_fn=<MseLossBackward>)\n",
      "epoch 76, loss 25.254329681396484\n",
      "tensor(25.2543, grad_fn=<MseLossBackward>)\n",
      "epoch 77, loss 25.254304885864258\n",
      "tensor(25.2543, grad_fn=<MseLossBackward>)\n",
      "epoch 78, loss 25.254276275634766\n",
      "tensor(25.2542, grad_fn=<MseLossBackward>)\n",
      "epoch 79, loss 25.254249572753906\n",
      "tensor(25.2542, grad_fn=<MseLossBackward>)\n",
      "epoch 80, loss 25.25421905517578\n",
      "tensor(25.2542, grad_fn=<MseLossBackward>)\n",
      "epoch 81, loss 25.25419044494629\n",
      "tensor(25.2542, grad_fn=<MseLossBackward>)\n",
      "epoch 82, loss 25.254167556762695\n",
      "tensor(25.2541, grad_fn=<MseLossBackward>)\n",
      "epoch 83, loss 25.254146575927734\n",
      "tensor(25.2541, grad_fn=<MseLossBackward>)\n",
      "epoch 84, loss 25.254117965698242\n",
      "tensor(25.2541, grad_fn=<MseLossBackward>)\n",
      "epoch 85, loss 25.254091262817383\n",
      "tensor(25.2541, grad_fn=<MseLossBackward>)\n",
      "epoch 86, loss 25.25406265258789\n",
      "tensor(25.2540, grad_fn=<MseLossBackward>)\n",
      "epoch 87, loss 25.25404167175293\n",
      "tensor(25.2540, grad_fn=<MseLossBackward>)\n",
      "epoch 88, loss 25.254011154174805\n",
      "tensor(25.2540, grad_fn=<MseLossBackward>)\n",
      "epoch 89, loss 25.25399398803711\n",
      "tensor(25.2540, grad_fn=<MseLossBackward>)\n",
      "epoch 90, loss 25.253963470458984\n",
      "tensor(25.2539, grad_fn=<MseLossBackward>)\n",
      "epoch 91, loss 25.25393295288086\n",
      "tensor(25.2539, grad_fn=<MseLossBackward>)\n",
      "epoch 92, loss 25.25391387939453\n",
      "tensor(25.2539, grad_fn=<MseLossBackward>)\n",
      "epoch 93, loss 25.253887176513672\n",
      "tensor(25.2539, grad_fn=<MseLossBackward>)\n",
      "epoch 94, loss 25.253868103027344\n",
      "tensor(25.2538, grad_fn=<MseLossBackward>)\n",
      "epoch 95, loss 25.253843307495117\n",
      "tensor(25.2538, grad_fn=<MseLossBackward>)\n",
      "epoch 96, loss 25.25381851196289\n",
      "tensor(25.2538, grad_fn=<MseLossBackward>)\n",
      "epoch 97, loss 25.25379180908203\n",
      "tensor(25.2538, grad_fn=<MseLossBackward>)\n",
      "epoch 98, loss 25.253767013549805\n",
      "tensor(25.2537, grad_fn=<MseLossBackward>)\n",
      "epoch 99, loss 25.25374412536621\n"
     ]
    }
   ],
   "source": [
    "for epoch in range(epochs):\n",
    "    # Converting inputs and labels to Variable\n",
    "    if torch.cuda.is_available():\n",
    "        inputs = Variable(torch.from_numpy(x_r).cuda())\n",
    "        labels = Variable(torch.from_numpy(y_r).cuda())\n",
    "    else:\n",
    "        inputs = Variable(torch.from_numpy(x_r))\n",
    "        labels = Variable(torch.from_numpy(y_r))\n",
    "\n",
    "    # Clear gradient buffers because we don't want any gradient from previous epoch to carry forward, dont want to cummulate gradients\n",
    "    optimizer.zero_grad()\n",
    "\n",
    "    # get output from the model, given the inputs\n",
    "    outputs = model_retrain(inputs)\n",
    "\n",
    "    # get loss for the predicted output\n",
    "    loss = criterion(outputs, labels)\n",
    "    print(loss)\n",
    "    # get gradients w.r.t to parameters\n",
    "    loss.backward()\n",
    "\n",
    "    # update parameters\n",
    "    optimizer.step()\n",
    "\n",
    "    print('epoch {}, loss {}'.format(epoch, loss.item()))"
   ]
  },
  {
   "cell_type": "code",
   "execution_count": 21,
   "id": "6b07c422",
   "metadata": {},
   "outputs": [],
   "source": [
    "with torch.no_grad(): # we don't need gradients in the testing phase\n",
    "    if torch.cuda.is_available():\n",
    "        predicted_r = model_retrain(Variable(torch.from_numpy(x_r).cuda())).cpu().data.numpy()\n",
    "    else:\n",
    "        predicted_r = model_retrain(Variable(torch.from_numpy(x_r))).data.numpy()"
   ]
  },
  {
   "cell_type": "code",
   "execution_count": 22,
   "id": "a8bcd9e2",
   "metadata": {},
   "outputs": [
    {
     "data": {
      "image/png": "[encoded data removed]",
      "text/plain": [
       "<Figure size 432x288 with 1 Axes>"
      ]
     },
     "metadata": {
      "needs_background": "light"
     },
     "output_type": "display_data"
    }
   ],
   "source": [
    "plt.clf()\n",
    "plt.plot(x_r, y_r, 'go', label='True data', alpha=0.5)\n",
    "plt.plot(x_r, predicted_r, '--', label='Predictions', alpha=0.5)\n",
    "plt.legend(loc='best')\n",
    "plt.show()"
   ]
  },
  {
   "cell_type": "code",
   "execution_count": 23,
   "id": "73f2756b",
   "metadata": {},
   "outputs": [
    {
     "name": "stdout",
     "output_type": "stream",
     "text": [
      "linear.weight tensor([[2.0835]])\n",
      "linear.bias tensor([0.7738])\n"
     ]
    }
   ],
   "source": [
    "for name, param in model_retrain.named_parameters():\n",
    "    if param.requires_grad:\n",
    "        print (name, param.data)"
   ]
  },
  {
   "cell_type": "code",
   "execution_count": 26,
   "id": "9666286c",
   "metadata": {},
   "outputs": [
    {
     "data": {
      "image/png": "[encoded data removed]",
      "text/plain": [
       "<Figure size 432x288 with 1 Axes>"
      ]
     },
     "metadata": {
      "needs_background": "light"
     },
     "output_type": "display_data"
    }
   ],
   "source": [
    "plt.clf()\n",
    "plt.plot(x_r, y_r, 'go', color='red', label='Initial data', alpha=0.5)\n",
    "plt.plot(x_r, predicted_r, '--', c='red', label='Predictions', alpha=0.5)\n",
    "plt.plot(x, y, 'go', label='Retaied data', alpha=0.5)\n",
    "plt.plot(x, predicted, '--', label='Retrained predictions', alpha=0.5)\n",
    "plt.legend(loc='best')\n",
    "plt.show()"
   ]
  },
  {
   "cell_type": "code",
   "execution_count": 27,
   "id": "dd080d2c",
   "metadata": {},
   "outputs": [],
   "source": [
    "# find the reflected point with respect to a line\n",
    "# for two dimensions we have eqn x_r, y_r = (p(a2−b2)−2b(aq+c)a2+b2,q(b2−a2)−2a(bp+c)a2+b2)\n",
    "def reflected_coordinates(position, parameters):\n",
    "    p, q = position\n",
    "    b, c = parameters\n",
    "    b =-1*b[0]\n",
    "    c =-1*c[0]\n",
    "    a = 1\n",
    "    x_r = p*(a**2 - b**2) - 2*b*(a*q + c)*a**2 + b**2\n",
    "    y_r = q*(b**2 - a**2) - 2*a*(b*p + c)*a**2 + b**2\n",
    "    reflected = ((1 / (a**2 + b**2))*x_r, (1 / (a**2 + b**2))*y_r)\n",
    "    return reflected"
   ]
  },
  {
   "cell_type": "code",
   "execution_count": 28,
   "id": "07a1af78",
   "metadata": {},
   "outputs": [
    {
     "data": {
      "text/plain": [
       "array([[12.535599],\n",
       "       [18.308867],\n",
       "       [30.088394],\n",
       "       [31.557236],\n",
       "       [24.689701]], dtype=float32)"
      ]
     },
     "execution_count": 28,
     "metadata": {},
     "output_type": "execute_result"
    }
   ],
   "source": [
    "x_d = np.array([x[i] for i in range(10, 15)], dtype=np.float32)\n",
    "x_d = x_d.reshape(-1, 1)\n",
    "y_d = np.array([y[i] for i in range(10, 15)], dtype=np.float32)\n",
    "y_d = y_d.reshape(-1, 1)\n",
    "y_d"
   ]
  },
  {
   "cell_type": "code",
   "execution_count": 29,
   "id": "e305dfe7",
   "metadata": {},
   "outputs": [
    {
     "data": {
      "text/plain": [
       "[tensor([[2.1015]]), tensor([-0.1103])]"
      ]
     },
     "execution_count": 29,
     "metadata": {},
     "output_type": "execute_result"
    }
   ],
   "source": [
    "model_forget = model"
   ]
  },
  {
   "cell_type": "code",
   "execution_count": 30,
   "id": "d9efa2f1",
   "metadata": {},
   "outputs": [],
   "source": [
    "# make reflected coordinates\n",
    "x_reflected = np.array([], dtype=np.float32)\n",
    "y_reflected = np.array([], dtype=np.float32)\n",
    "for i in range(len(x_d)):\n",
    "    coor = reflected_coordinates((x_d[i], y_d[i]), ([2.0176], [2.0155]))\n",
    "    x_reflected = np.append(x_reflected, coor[0])\n",
    "    y_reflected = np.append(y_reflected, coor[1])\n",
    "\n",
    "x_reflected = x_reflected.reshape(-1, 1)\n",
    "y_reflected = y_reflected.reshape(-1, 1)"
   ]
  },
  {
   "cell_type": "code",
   "execution_count": 31,
   "id": "28a53531",
   "metadata": {},
   "outputs": [],
   "source": [
    "learningRate = 0.005\n",
    "criterion = torch.nn.MSELoss() \n",
    "optimizer = torch.optim.SGD(model_forget.parameters(), lr=learningRate)"
   ]
  },
  {
   "cell_type": "code",
   "execution_count": 32,
   "id": "0b82b2f1",
   "metadata": {},
   "outputs": [
    {
     "name": "stdout",
     "output_type": "stream",
     "text": [
      "tensor(44.1917, grad_fn=<MseLossBackward>)\n",
      "epoch 0, loss 44.191741943359375\n",
      "tensor(43.8609, grad_fn=<MseLossBackward>)\n",
      "epoch 1, loss 43.86094284057617\n",
      "tensor(43.6774, grad_fn=<MseLossBackward>)\n",
      "epoch 2, loss 43.6773681640625\n",
      "tensor(43.5165, grad_fn=<MseLossBackward>)\n",
      "epoch 3, loss 43.51649856567383\n",
      "tensor(43.3595, grad_fn=<MseLossBackward>)\n",
      "epoch 4, loss 43.359535217285156\n",
      "tensor(43.2037, grad_fn=<MseLossBackward>)\n",
      "epoch 5, loss 43.20365524291992\n",
      "tensor(43.0484, grad_fn=<MseLossBackward>)\n",
      "epoch 6, loss 43.04844665527344\n",
      "tensor(42.8938, grad_fn=<MseLossBackward>)\n",
      "epoch 7, loss 42.89383316040039\n",
      "tensor(42.7398, grad_fn=<MseLossBackward>)\n",
      "epoch 8, loss 42.73978805541992\n",
      "tensor(42.5863, grad_fn=<MseLossBackward>)\n",
      "epoch 9, loss 42.586334228515625\n",
      "tensor(42.4335, grad_fn=<MseLossBackward>)\n",
      "epoch 10, loss 42.43345260620117\n",
      "tensor(42.2811, grad_fn=<MseLossBackward>)\n",
      "epoch 11, loss 42.2811279296875\n",
      "tensor(42.1294, grad_fn=<MseLossBackward>)\n",
      "epoch 12, loss 42.12938690185547\n",
      "tensor(41.9782, grad_fn=<MseLossBackward>)\n",
      "epoch 13, loss 41.97820281982422\n",
      "tensor(41.8276, grad_fn=<MseLossBackward>)\n",
      "epoch 14, loss 41.82759475708008\n",
      "tensor(41.6776, grad_fn=<MseLossBackward>)\n",
      "epoch 15, loss 41.67755889892578\n",
      "tensor(41.5281, grad_fn=<MseLossBackward>)\n",
      "epoch 16, loss 41.528079986572266\n",
      "tensor(41.3791, grad_fn=<MseLossBackward>)\n",
      "epoch 17, loss 41.37914276123047\n",
      "tensor(41.2308, grad_fn=<MseLossBackward>)\n",
      "epoch 18, loss 41.230796813964844\n",
      "tensor(41.0830, grad_fn=<MseLossBackward>)\n",
      "epoch 19, loss 41.08297348022461\n",
      "tensor(40.9357, grad_fn=<MseLossBackward>)\n",
      "epoch 20, loss 40.93572235107422\n",
      "tensor(40.7890, grad_fn=<MseLossBackward>)\n",
      "epoch 21, loss 40.789024353027344\n",
      "tensor(40.6429, grad_fn=<MseLossBackward>)\n",
      "epoch 22, loss 40.64287567138672\n",
      "tensor(40.4973, grad_fn=<MseLossBackward>)\n",
      "epoch 23, loss 40.49726867675781\n",
      "tensor(40.3522, grad_fn=<MseLossBackward>)\n",
      "epoch 24, loss 40.352195739746094\n",
      "tensor(40.2077, grad_fn=<MseLossBackward>)\n",
      "epoch 25, loss 40.20769500732422\n",
      "tensor(40.0637, grad_fn=<MseLossBackward>)\n",
      "epoch 26, loss 40.063724517822266\n",
      "tensor(39.9203, grad_fn=<MseLossBackward>)\n",
      "epoch 27, loss 39.920291900634766\n",
      "tensor(39.7774, grad_fn=<MseLossBackward>)\n",
      "epoch 28, loss 39.777381896972656\n",
      "tensor(39.6350, grad_fn=<MseLossBackward>)\n",
      "epoch 29, loss 39.635032653808594\n",
      "tensor(39.4932, grad_fn=<MseLossBackward>)\n",
      "epoch 30, loss 39.493194580078125\n",
      "tensor(39.3519, grad_fn=<MseLossBackward>)\n",
      "epoch 31, loss 39.351890563964844\n",
      "tensor(39.2111, grad_fn=<MseLossBackward>)\n",
      "epoch 32, loss 39.21112823486328\n",
      "tensor(39.0709, grad_fn=<MseLossBackward>)\n",
      "epoch 33, loss 39.07088088989258\n",
      "tensor(38.9312, grad_fn=<MseLossBackward>)\n",
      "epoch 34, loss 38.93116760253906\n",
      "tensor(38.7920, grad_fn=<MseLossBackward>)\n",
      "epoch 35, loss 38.791969299316406\n",
      "tensor(38.6533, grad_fn=<MseLossBackward>)\n",
      "epoch 36, loss 38.65331268310547\n",
      "tensor(38.5152, grad_fn=<MseLossBackward>)\n",
      "epoch 37, loss 38.515159606933594\n",
      "tensor(38.3775, grad_fn=<MseLossBackward>)\n",
      "epoch 38, loss 38.377525329589844\n",
      "tensor(38.2404, grad_fn=<MseLossBackward>)\n",
      "epoch 39, loss 38.24040985107422\n",
      "tensor(38.1038, grad_fn=<MseLossBackward>)\n",
      "epoch 40, loss 38.10380172729492\n",
      "tensor(37.9677, grad_fn=<MseLossBackward>)\n",
      "epoch 41, loss 37.96771240234375\n",
      "tensor(37.8321, grad_fn=<MseLossBackward>)\n",
      "epoch 42, loss 37.83213424682617\n",
      "tensor(37.6971, grad_fn=<MseLossBackward>)\n",
      "epoch 43, loss 37.697052001953125\n",
      "tensor(37.5625, grad_fn=<MseLossBackward>)\n",
      "epoch 44, loss 37.562477111816406\n",
      "tensor(37.4284, grad_fn=<MseLossBackward>)\n",
      "epoch 45, loss 37.428428649902344\n",
      "tensor(37.2948, grad_fn=<MseLossBackward>)\n",
      "epoch 46, loss 37.29484939575195\n",
      "tensor(37.1618, grad_fn=<MseLossBackward>)\n",
      "epoch 47, loss 37.16179275512695\n",
      "tensor(37.0292, grad_fn=<MseLossBackward>)\n",
      "epoch 48, loss 37.02924728393555\n",
      "tensor(36.8972, grad_fn=<MseLossBackward>)\n",
      "epoch 49, loss 36.89716339111328\n"
     ]
    }
   ],
   "source": [
    "\n",
    "for epoch in range(50):\n",
    "    # Converting inputs and labels to Variable\n",
    "    if torch.cuda.is_available():\n",
    "        inputs = Variable(torch.from_numpy(x_reflected).cuda())\n",
    "        labels = Variable(torch.from_numpy(y_reflected).cuda())\n",
    "    else:\n",
    "        inputs = Variable(torch.from_numpy(x_reflected))\n",
    "        labels = Variable(torch.from_numpy(y_reflected))\n",
    "\n",
    "    # Clear gradient buffers because we don't want any gradient from previous epoch to carry forward, dont want to cummulate gradients\n",
    "    optimizer.zero_grad()\n",
    "\n",
    "    # get output from the model, given the inputs\n",
    "    outputs = model_forget(inputs)\n",
    "\n",
    "    # get loss for the predicted output\n",
    "    loss = criterion(outputs, labels)\n",
    "    print(loss)\n",
    "    # get gradients w.r.t to parameters\n",
    "    loss.backward()\n",
    "\n",
    "    # update parameters\n",
    "    optimizer.step()\n",
    "\n",
    "    print('epoch {}, loss {}'.format(epoch, loss.item()))"
   ]
  },
  {
   "cell_type": "code",
   "execution_count": 33,
   "id": "5eee4b1f",
   "metadata": {},
   "outputs": [
    {
     "name": "stdout",
     "output_type": "stream",
     "text": [
      "linear.weight tensor([[2.0368]])\n",
      "linear.bias tensor([1.2326])\n"
     ]
    }
   ],
   "source": [
    "for name, param in model_forget.named_parameters():\n",
    "    if param.requires_grad:\n",
    "        print (name, param.data)"
   ]
  },
  {
   "cell_type": "code",
   "execution_count": 34,
   "id": "1624c5a5",
   "metadata": {},
   "outputs": [],
   "source": [
    "with torch.no_grad(): # we don't need gradients in the testing phase\n",
    "    if torch.cuda.is_available():\n",
    "        predicted_d = model_retrain(Variable(torch.from_numpy(x).cuda())).cpu().data.numpy()\n",
    "    else:\n",
    "        predicted_d = model_retrain(Variable(torch.from_numpy(x))).data.numpy()"
   ]
  },
  {
   "cell_type": "code",
   "execution_count": 40,
   "id": "d525c86b",
   "metadata": {},
   "outputs": [
    {
     "data": {
      "image/png": "[encoded data removed]",
      "text/plain": [
       "<Figure size 432x288 with 1 Axes>"
      ]
     },
     "metadata": {
      "needs_background": "light"
     },
     "output_type": "display_data"
    }
   ],
   "source": [
    "plt.clf()\n",
    "plt.plot(x_r, y_r, 'go', color='red', label='Initial data', alpha=0.5)\n",
    "plt.plot(x, predicted, '--', c='red', label='Predictions', alpha=0.5)\n",
    "plt.plot(x, y, 'go', label='Retaied data', alpha=0.5)\n",
    "#plt.plot(x_r, predicted_r, '--', label='Retrained predictions', alpha=0.5)\n",
    "plt.plot(x, predicted_d, '--', c='blue', label='Forgetted predictions', alpha=0.5)\n",
    "plt.legend(loc='best')\n",
    "plt.show()"
   ]
  },
  {
   "cell_type": "code",
   "execution_count": 41,
   "id": "b04c978d",
   "metadata": {},
   "outputs": [
    {
     "data": {
      "image/png": "[encoded data removed]",
      "text/plain": [
       "<Figure size 432x288 with 1 Axes>"
      ]
     },
     "metadata": {
      "needs_background": "light"
     },
     "output_type": "display_data"
    }
   ],
   "source": [
    "plt.clf()\n",
    "plt.plot(x_r, y_r, 'go', color='red', label='Initial data', alpha=0.5)\n",
    "#plt.plot(x, predicted, '--', c='red', label='Predictions', alpha=0.5)\n",
    "plt.plot(x, y, 'go', label='Retaied data', alpha=0.5)\n",
    "plt.plot(x_r, predicted_r, '--', label='Retrained predictions', alpha=0.5)\n",
    "plt.plot(x, predicted_d, '--', c='blue', label='Forgetted predictions', alpha=0.5)\n",
    "plt.legend(loc='best')\n",
    "plt.show()"
   ]
  },
  {
   "cell_type": "code",
   "execution_count": null,
   "id": "c393e3f9",
   "metadata": {},
   "outputs": [],
   "source": []
  }
 ],
 "metadata": {
  "kernelspec": {
   "display_name": "Python 3",
   "language": "python",
   "name": "python3"
  },
  "language_info": {
   "codemirror_mode": {
    "name": "ipython",
    "version": 3
   },
   "file_extension": ".py",
   "mimetype": "text/x-python",
   "name": "python",
   "nbconvert_exporter": "python",
   "pygments_lexer": "ipython3",
   "version": "3.8.5"
  }
 },
 "nbformat": 4,
 "nbformat_minor": 5
}
