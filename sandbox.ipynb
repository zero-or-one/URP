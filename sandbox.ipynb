{
 "cells": [
  {
   "cell_type": "code",
   "execution_count": 1,
   "id": "e1a0892e",
   "metadata": {},
   "outputs": [],
   "source": [
    "import numpy as np\n",
    "import torch\n",
    "import matplotlib.pyplot as plt\n",
    "%matplotlib inline\n",
    "from torch.autograd import Variable\n",
    "\n",
    "from sklearn.model_selection import train_test_split\n",
    "from sklearn.linear_model import LinearRegression \n",
    "from sklearn.metrics import mean_squared_error\n",
    "import pandas as pd\n"
   ]
  },
  {
   "cell_type": "code",
   "execution_count": 2,
   "id": "cc834a06",
   "metadata": {},
   "outputs": [],
   "source": [
    "#housing = pd.read_csv('housing.csv')\n",
    "# dataset taken from https://www.kaggle.com/camnugent/california-housing-prices#x_train, x_test, y_train, y_test = train_test_split(housing.median_income, housing.median_house_value, test_size = 0.2)\n",
    "#x_train.shape"
   ]
  },
  {
   "cell_type": "code",
   "execution_count": 21,
   "id": "d62a15a9",
   "metadata": {},
   "outputs": [
    {
     "data": {
      "text/plain": [
       "(25, 1)"
      ]
     },
     "execution_count": 21,
     "metadata": {},
     "output_type": "execute_result"
    }
   ],
   "source": [
    "# create dummy data\n",
    "x_values = [i for i in range(25)]\n",
    "x = np.array(x_values, dtype=np.float32)\n",
    "x = x.reshape(-1, 1)\n",
    "\n",
    "y_values = [2*i + 1 +  5*np.random.normal()  for i in x_values] # small noise added\n",
    "y = np.array(y_values, dtype=np.float32)\n",
    "y = y.reshape(-1, 1)\n",
    "y.shape"
   ]
  },
  {
   "cell_type": "code",
   "execution_count": 22,
   "id": "34f51fd6",
   "metadata": {},
   "outputs": [
    {
     "data": {
      "text/plain": [
       "[<matplotlib.lines.Line2D at 0x2235036bca0>]"
      ]
     },
     "execution_count": 22,
     "metadata": {},
     "output_type": "execute_result"
    },
    {
     "data": {
      "image/png": "[encoded data removed]",
      "text/plain": [
       "<Figure size 432x288 with 1 Axes>"
      ]
     },
     "metadata": {
      "needs_background": "light"
     },
     "output_type": "display_data"
    }
   ],
   "source": [
    "plt.plot(x, y, 'go', label='True data', alpha=0.5)"
   ]
  },
  {
   "cell_type": "code",
   "execution_count": 23,
   "id": "8f88db2d",
   "metadata": {},
   "outputs": [],
   "source": [
    "# simple linear regression model\n",
    "class linearRegression(torch.nn.Module):\n",
    "    def __init__(self, inputSize, outputSize):\n",
    "        super(linearRegression, self).__init__()\n",
    "        self.linear = torch.nn.Linear(inputSize, outputSize)\n",
    "\n",
    "    def forward(self, x):\n",
    "        out = self.linear(x)\n",
    "        return out"
   ]
  },
  {
   "cell_type": "code",
   "execution_count": 28,
   "id": "4f40d3ee",
   "metadata": {},
   "outputs": [],
   "source": [
    "inputDim = 1        \n",
    "outputDim = 1      \n",
    "learningRate = 0.01 \n",
    "epochs = 100\n",
    "\n",
    "model = linearRegression(inputDim, outputDim)\n",
    "\n",
    "if torch.cuda.is_available():\n",
    "    model.cuda()"
   ]
  },
  {
   "cell_type": "code",
   "execution_count": 29,
   "id": "28179ffc",
   "metadata": {},
   "outputs": [],
   "source": [
    "criterion = torch.nn.MSELoss() \n",
    "optimizer = torch.optim.SGD(model.parameters(), lr=learningRate)"
   ]
  },
  {
   "cell_type": "code",
   "execution_count": 30,
   "id": "3e6240cb",
   "metadata": {},
   "outputs": [
    {
     "name": "stdout",
     "output_type": "stream",
     "text": [
      "epoch 0, loss 1427.811279296875\n",
      "epoch 1, loss 12178.6796875\n",
      "epoch 2, loss 104770.9765625\n",
      "epoch 3, loss 902226.25\n",
      "epoch 4, loss 7770344.5\n",
      "epoch 5, loss 66922308.0\n",
      "epoch 6, loss 576371392.0\n",
      "epoch 7, loss 4964022784.0\n",
      "epoch 8, loss 42752872448.0\n",
      "epoch 9, loss 368211099648.0\n",
      "epoch 10, loss 3171234086912.0\n",
      "epoch 11, loss 27312395386880.0\n",
      "epoch 12, loss 235229168009216.0\n",
      "epoch 13, loss 2025921443790848.0\n",
      "epoch 14, loss 1.744833685225472e+16\n",
      "epoch 15, loss 1.5027454913544192e+17\n",
      "epoch 16, loss 1.2942462696103608e+18\n",
      "epoch 17, loss 1.1146746627811705e+19\n",
      "epoch 18, loss 9.600183467786633e+19\n",
      "epoch 19, loss 8.268197962386233e+20\n",
      "epoch 20, loss 7.121021925004004e+21\n",
      "epoch 21, loss 6.133011430112359e+22\n",
      "epoch 22, loss 5.282083932622416e+23\n",
      "epoch 23, loss 4.549218713695156e+24\n",
      "epoch 24, loss 3.9180335621922895e+25\n",
      "epoch 25, loss 3.374423786306252e+26\n",
      "epoch 26, loss 2.9062364197043956e+27\n",
      "epoch 27, loss 2.5030084211865777e+28\n",
      "epoch 28, loss 2.155727242864613e+29\n",
      "epoch 29, loss 1.85662898367501e+30\n",
      "epoch 30, loss 1.5990294984279593e+31\n",
      "epoch 31, loss 1.3771714456460037e+32\n",
      "epoch 32, loss 1.1860947235838463e+33\n",
      "epoch 33, loss 1.0215294894207046e+34\n",
      "epoch 34, loss 8.797966573150872e+34\n",
      "epoch 35, loss 7.57728718135085e+35\n",
      "epoch 36, loss 6.525970504974744e+36\n",
      "epoch 37, loss inf\n",
      "epoch 38, loss inf\n",
      "epoch 39, loss inf\n",
      "epoch 40, loss inf\n",
      "epoch 41, loss inf\n",
      "epoch 42, loss inf\n",
      "epoch 43, loss inf\n",
      "epoch 44, loss inf\n",
      "epoch 45, loss inf\n",
      "epoch 46, loss inf\n",
      "epoch 47, loss inf\n",
      "epoch 48, loss inf\n",
      "epoch 49, loss inf\n",
      "epoch 50, loss inf\n",
      "epoch 51, loss inf\n",
      "epoch 52, loss inf\n",
      "epoch 53, loss inf\n",
      "epoch 54, loss inf\n",
      "epoch 55, loss inf\n",
      "epoch 56, loss inf\n",
      "epoch 57, loss inf\n",
      "epoch 58, loss inf\n",
      "epoch 59, loss inf\n",
      "epoch 60, loss inf\n",
      "epoch 61, loss inf\n",
      "epoch 62, loss inf\n",
      "epoch 63, loss inf\n",
      "epoch 64, loss inf\n",
      "epoch 65, loss inf\n",
      "epoch 66, loss inf\n",
      "epoch 67, loss inf\n",
      "epoch 68, loss inf\n",
      "epoch 69, loss inf\n",
      "epoch 70, loss inf\n",
      "epoch 71, loss inf\n",
      "epoch 72, loss inf\n",
      "epoch 73, loss inf\n",
      "epoch 74, loss inf\n",
      "epoch 75, loss inf\n",
      "epoch 76, loss inf\n",
      "epoch 77, loss nan\n",
      "epoch 78, loss nan\n",
      "epoch 79, loss nan\n",
      "epoch 80, loss nan\n",
      "epoch 81, loss nan\n",
      "epoch 82, loss nan\n",
      "epoch 83, loss nan\n",
      "epoch 84, loss nan\n",
      "epoch 85, loss nan\n",
      "epoch 86, loss nan\n",
      "epoch 87, loss nan\n",
      "epoch 88, loss nan\n",
      "epoch 89, loss nan\n",
      "epoch 90, loss nan\n",
      "epoch 91, loss nan\n",
      "epoch 92, loss nan\n",
      "epoch 93, loss nan\n",
      "epoch 94, loss nan\n",
      "epoch 95, loss nan\n",
      "epoch 96, loss nan\n",
      "epoch 97, loss nan\n",
      "epoch 98, loss nan\n",
      "epoch 99, loss nan\n"
     ]
    }
   ],
   "source": [
    "for epoch in range(epochs):\n",
    "    # Converting inputs and labels to Variable\n",
    "    if torch.cuda.is_available():\n",
    "        inputs = Variable(torch.from_numpy(x).cuda())\n",
    "        labels = Variable(torch.from_numpy(y).cuda())\n",
    "    else:\n",
    "        inputs = Variable(torch.from_numpy(x))\n",
    "        labels = Variable(torch.from_numpy(y))\n",
    "\n",
    "    # Clear gradient buffers because we don't want any gradient from previous epoch to carry forward, dont want to cummulate gradients\n",
    "    optimizer.zero_grad()\n",
    "\n",
    "    # get output from the model, given the inputs\n",
    "    outputs = model(inputs)\n",
    "\n",
    "    # get loss for the predicted output\n",
    "    loss = criterion(outputs, labels)\n",
    "    #print(loss)\n",
    "    # get gradients w.r.t to parameters\n",
    "    loss.backward()\n",
    "\n",
    "    # update parameters\n",
    "    optimizer.step()\n",
    "\n",
    "    print('epoch {}, loss {}'.format(epoch, loss.item()))"
   ]
  },
  {
   "cell_type": "code",
   "execution_count": 9,
   "id": "7f40d297",
   "metadata": {},
   "outputs": [],
   "source": [
    "with torch.no_grad(): # we don't need gradients in the testing phase\n",
    "    if torch.cuda.is_available():\n",
    "        predicted = model(Variable(torch.from_numpy(x).cuda())).cpu().data.numpy()\n",
    "    else:\n",
    "        predicted = model(Variable(torch.from_numpy(x))).data.numpy()"
   ]
  },
  {
   "cell_type": "code",
   "execution_count": 10,
   "id": "7be966eb",
   "metadata": {},
   "outputs": [
    {
     "data": {
      "image/png": "[encoded data removed]",
      "text/plain": [
       "<Figure size 432x288 with 1 Axes>"
      ]
     },
     "metadata": {
      "needs_background": "light"
     },
     "output_type": "display_data"
    }
   ],
   "source": [
    "plt.clf()\n",
    "plt.plot(x, y, 'go', label='True data', alpha=0.5)\n",
    "plt.plot(x, predicted, '--', label='Predictions', alpha=0.5)\n",
    "plt.legend(loc='best')\n",
    "plt.show()"
   ]
  },
  {
   "cell_type": "code",
   "execution_count": 11,
   "id": "1a006ae1",
   "metadata": {},
   "outputs": [
    {
     "name": "stdout",
     "output_type": "stream",
     "text": [
      "linear.weight tensor([[nan]])\n",
      "linear.bias tensor([nan])\n"
     ]
    }
   ],
   "source": [
    "for name, param in model.named_parameters():\n",
    "    if param.requires_grad:\n",
    "        print (name, param.data)"
   ]
  },
  {
   "cell_type": "code",
   "execution_count": 12,
   "id": "b062d5ea",
   "metadata": {},
   "outputs": [],
   "source": [
    "# let's delete point at index 2\n",
    "x_d = np.delete(x, [i for i in range(10, 15)])\n",
    "y_d = np.delete(y, [i for i in range(10, 15)])\n",
    "x_d = x_d.reshape(-1, 1)\n",
    "y_d = y_d.reshape(-1, 1)"
   ]
  },
  {
   "cell_type": "code",
   "execution_count": 13,
   "id": "1d30d1c0",
   "metadata": {},
   "outputs": [
    {
     "data": {
      "text/plain": [
       "[<matplotlib.lines.Line2D at 0x22350238970>]"
      ]
     },
     "execution_count": 13,
     "metadata": {},
     "output_type": "execute_result"
    },
    {
     "data": {
      "image/png": "[encoded data removed]",
      "text/plain": [
       "<Figure size 432x288 with 1 Axes>"
      ]
     },
     "metadata": {
      "needs_background": "light"
     },
     "output_type": "display_data"
    }
   ],
   "source": [
    "plt.plot(x_d, y_d, 'go', label='True data', alpha=0.5)"
   ]
  },
  {
   "cell_type": "code",
   "execution_count": 14,
   "id": "d66eae32",
   "metadata": {},
   "outputs": [],
   "source": [
    "inputDim = 1        \n",
    "outputDim = 1      \n",
    "learningRate = 0.01 \n",
    "epochs = 100\n",
    "\n",
    "model_retrain = linearRegression(inputDim, outputDim)\n",
    "\n",
    "if torch.cuda.is_available():\n",
    "    model_retain.cuda()"
   ]
  },
  {
   "cell_type": "code",
   "execution_count": 15,
   "id": "66f34e11",
   "metadata": {},
   "outputs": [],
   "source": [
    "criterion = torch.nn.MSELoss() \n",
    "optimizer = torch.optim.SGD(model_retrain.parameters(), lr=learningRate)"
   ]
  },
  {
   "cell_type": "code",
   "execution_count": 16,
   "id": "6b44646b",
   "metadata": {},
   "outputs": [
    {
     "name": "stdout",
     "output_type": "stream",
     "text": [
      "tensor(783.5491, grad_fn=<MseLossBackward>)\n",
      "epoch 0, loss 783.549072265625\n",
      "tensor(7659.7241, grad_fn=<MseLossBackward>)\n",
      "epoch 1, loss 7659.72412109375\n",
      "tensor(77363.0781, grad_fn=<MseLossBackward>)\n",
      "epoch 2, loss 77363.078125\n",
      "tensor(783932.3750, grad_fn=<MseLossBackward>)\n",
      "epoch 3, loss 783932.375\n",
      "tensor(7946285., grad_fn=<MseLossBackward>)\n",
      "epoch 4, loss 7946285.0\n",
      "tensor(80549576., grad_fn=<MseLossBackward>)\n",
      "epoch 5, loss 80549576.0\n",
      "tensor(8.1651e+08, grad_fn=<MseLossBackward>)\n",
      "epoch 6, loss 816514048.0\n",
      "tensor(8.2768e+09, grad_fn=<MseLossBackward>)\n",
      "epoch 7, loss 8276833280.0\n",
      "tensor(8.3901e+10, grad_fn=<MseLossBackward>)\n",
      "epoch 8, loss 83900555264.0\n",
      "tensor(8.5048e+11, grad_fn=<MseLossBackward>)\n",
      "epoch 9, loss 850482692096.0\n",
      "tensor(8.6212e+12, grad_fn=<MseLossBackward>)\n",
      "epoch 10, loss 8621168001024.0\n",
      "tensor(8.7391e+13, grad_fn=<MseLossBackward>)\n",
      "epoch 11, loss 87391024971776.0\n",
      "tensor(8.8586e+14, grad_fn=<MseLossBackward>)\n",
      "epoch 12, loss 885864922087424.0\n",
      "tensor(8.9798e+15, grad_fn=<MseLossBackward>)\n",
      "epoch 13, loss 8979829038776320.0\n",
      "tensor(9.1027e+16, grad_fn=<MseLossBackward>)\n",
      "epoch 14, loss 9.10266778779648e+16\n",
      "tensor(9.2272e+17, grad_fn=<MseLossBackward>)\n",
      "epoch 15, loss 9.227186105252577e+17\n",
      "tensor(9.3534e+18, grad_fn=<MseLossBackward>)\n",
      "epoch 16, loss 9.353406879025332e+18\n",
      "tensor(9.4814e+19, grad_fn=<MseLossBackward>)\n",
      "epoch 17, loss 9.481356167540323e+19\n",
      "tensor(9.6111e+20, grad_fn=<MseLossBackward>)\n",
      "epoch 18, loss 9.611055262840222e+20\n",
      "tensor(9.7425e+21, grad_fn=<MseLossBackward>)\n",
      "epoch 19, loss 9.74253123929935e+21\n",
      "tensor(9.8758e+22, grad_fn=<MseLossBackward>)\n",
      "epoch 20, loss 9.875806713432089e+22\n",
      "tensor(1.0011e+24, grad_fn=<MseLossBackward>)\n",
      "epoch 21, loss 1.0010903893614098e+24\n",
      "tensor(1.0148e+25, grad_fn=<MseLossBackward>)\n",
      "epoch 22, loss 1.0147849062852804e+25\n",
      "tensor(1.0287e+26, grad_fn=<MseLossBackward>)\n",
      "epoch 23, loss 1.0286664501356283e+26\n",
      "tensor(1.0427e+27, grad_fn=<MseLossBackward>)\n",
      "epoch 24, loss 1.0427379216629591e+27\n",
      "tensor(1.0570e+28, grad_fn=<MseLossBackward>)\n",
      "epoch 25, loss 1.0570024494350677e+28\n",
      "tensor(1.0715e+29, grad_fn=<MseLossBackward>)\n",
      "epoch 26, loss 1.0714618869807987e+29\n",
      "tensor(1.0861e+30, grad_fn=<MseLossBackward>)\n",
      "epoch 27, loss 1.086119054733534e+30\n",
      "tensor(1.1010e+31, grad_fn=<MseLossBackward>)\n",
      "epoch 28, loss 1.1009767228334522e+31\n",
      "tensor(1.1160e+32, grad_fn=<MseLossBackward>)\n",
      "epoch 29, loss 1.1160374723371785e+32\n",
      "tensor(1.1313e+33, grad_fn=<MseLossBackward>)\n",
      "epoch 30, loss 1.1313040390438425e+33\n",
      "tensor(1.1468e+34, grad_fn=<MseLossBackward>)\n",
      "epoch 31, loss 1.1467799917024638e+34\n",
      "tensor(1.1625e+35, grad_fn=<MseLossBackward>)\n",
      "epoch 32, loss 1.1624674897446984e+35\n",
      "tensor(1.1784e+36, grad_fn=<MseLossBackward>)\n",
      "epoch 33, loss 1.1783694930851801e+36\n",
      "tensor(1.1945e+37, grad_fn=<MseLossBackward>)\n",
      "epoch 34, loss 1.1944890331914773e+37\n",
      "tensor(inf, grad_fn=<MseLossBackward>)\n",
      "epoch 35, loss inf\n",
      "tensor(inf, grad_fn=<MseLossBackward>)\n",
      "epoch 36, loss inf\n",
      "tensor(inf, grad_fn=<MseLossBackward>)\n",
      "epoch 37, loss inf\n",
      "tensor(inf, grad_fn=<MseLossBackward>)\n",
      "epoch 38, loss inf\n",
      "tensor(inf, grad_fn=<MseLossBackward>)\n",
      "epoch 39, loss inf\n",
      "tensor(inf, grad_fn=<MseLossBackward>)\n",
      "epoch 40, loss inf\n",
      "tensor(inf, grad_fn=<MseLossBackward>)\n",
      "epoch 41, loss inf\n",
      "tensor(inf, grad_fn=<MseLossBackward>)\n",
      "epoch 42, loss inf\n",
      "tensor(inf, grad_fn=<MseLossBackward>)\n",
      "epoch 43, loss inf\n",
      "tensor(inf, grad_fn=<MseLossBackward>)\n",
      "epoch 44, loss inf\n",
      "tensor(inf, grad_fn=<MseLossBackward>)\n",
      "epoch 45, loss inf\n",
      "tensor(inf, grad_fn=<MseLossBackward>)\n",
      "epoch 46, loss inf\n",
      "tensor(inf, grad_fn=<MseLossBackward>)\n",
      "epoch 47, loss inf\n",
      "tensor(inf, grad_fn=<MseLossBackward>)\n",
      "epoch 48, loss inf\n",
      "tensor(inf, grad_fn=<MseLossBackward>)\n",
      "epoch 49, loss inf\n",
      "tensor(inf, grad_fn=<MseLossBackward>)\n",
      "epoch 50, loss inf\n",
      "tensor(inf, grad_fn=<MseLossBackward>)\n",
      "epoch 51, loss inf\n",
      "tensor(inf, grad_fn=<MseLossBackward>)\n",
      "epoch 52, loss inf\n",
      "tensor(inf, grad_fn=<MseLossBackward>)\n",
      "epoch 53, loss inf\n",
      "tensor(inf, grad_fn=<MseLossBackward>)\n",
      "epoch 54, loss inf\n",
      "tensor(inf, grad_fn=<MseLossBackward>)\n",
      "epoch 55, loss inf\n",
      "tensor(inf, grad_fn=<MseLossBackward>)\n",
      "epoch 56, loss inf\n",
      "tensor(inf, grad_fn=<MseLossBackward>)\n",
      "epoch 57, loss inf\n",
      "tensor(inf, grad_fn=<MseLossBackward>)\n",
      "epoch 58, loss inf\n",
      "tensor(inf, grad_fn=<MseLossBackward>)\n",
      "epoch 59, loss inf\n",
      "tensor(inf, grad_fn=<MseLossBackward>)\n",
      "epoch 60, loss inf\n",
      "tensor(inf, grad_fn=<MseLossBackward>)\n",
      "epoch 61, loss inf\n",
      "tensor(inf, grad_fn=<MseLossBackward>)\n",
      "epoch 62, loss inf\n",
      "tensor(inf, grad_fn=<MseLossBackward>)\n",
      "epoch 63, loss inf\n",
      "tensor(inf, grad_fn=<MseLossBackward>)\n",
      "epoch 64, loss inf\n",
      "tensor(inf, grad_fn=<MseLossBackward>)\n",
      "epoch 65, loss inf\n",
      "tensor(inf, grad_fn=<MseLossBackward>)\n",
      "epoch 66, loss inf\n",
      "tensor(inf, grad_fn=<MseLossBackward>)\n",
      "epoch 67, loss inf\n",
      "tensor(inf, grad_fn=<MseLossBackward>)\n",
      "epoch 68, loss inf\n",
      "tensor(inf, grad_fn=<MseLossBackward>)\n",
      "epoch 69, loss inf\n",
      "tensor(inf, grad_fn=<MseLossBackward>)\n",
      "epoch 70, loss inf\n",
      "tensor(inf, grad_fn=<MseLossBackward>)\n",
      "epoch 71, loss inf\n",
      "tensor(nan, grad_fn=<MseLossBackward>)\n",
      "epoch 72, loss nan\n",
      "tensor(nan, grad_fn=<MseLossBackward>)\n",
      "epoch 73, loss nan\n",
      "tensor(nan, grad_fn=<MseLossBackward>)\n",
      "epoch 74, loss nan\n",
      "tensor(nan, grad_fn=<MseLossBackward>)\n",
      "epoch 75, loss nan\n",
      "tensor(nan, grad_fn=<MseLossBackward>)\n",
      "epoch 76, loss nan\n",
      "tensor(nan, grad_fn=<MseLossBackward>)\n",
      "epoch 77, loss nan\n",
      "tensor(nan, grad_fn=<MseLossBackward>)\n",
      "epoch 78, loss nan\n",
      "tensor(nan, grad_fn=<MseLossBackward>)\n",
      "epoch 79, loss nan\n",
      "tensor(nan, grad_fn=<MseLossBackward>)\n",
      "epoch 80, loss nan\n",
      "tensor(nan, grad_fn=<MseLossBackward>)\n",
      "epoch 81, loss nan\n",
      "tensor(nan, grad_fn=<MseLossBackward>)\n",
      "epoch 82, loss nan\n",
      "tensor(nan, grad_fn=<MseLossBackward>)\n",
      "epoch 83, loss nan\n",
      "tensor(nan, grad_fn=<MseLossBackward>)\n",
      "epoch 84, loss nan\n",
      "tensor(nan, grad_fn=<MseLossBackward>)\n",
      "epoch 85, loss nan\n",
      "tensor(nan, grad_fn=<MseLossBackward>)\n",
      "epoch 86, loss nan\n",
      "tensor(nan, grad_fn=<MseLossBackward>)\n",
      "epoch 87, loss nan\n",
      "tensor(nan, grad_fn=<MseLossBackward>)\n",
      "epoch 88, loss nan\n",
      "tensor(nan, grad_fn=<MseLossBackward>)\n",
      "epoch 89, loss nan\n",
      "tensor(nan, grad_fn=<MseLossBackward>)\n",
      "epoch 90, loss nan\n",
      "tensor(nan, grad_fn=<MseLossBackward>)\n",
      "epoch 91, loss nan\n",
      "tensor(nan, grad_fn=<MseLossBackward>)\n",
      "epoch 92, loss nan\n",
      "tensor(nan, grad_fn=<MseLossBackward>)\n",
      "epoch 93, loss nan\n",
      "tensor(nan, grad_fn=<MseLossBackward>)\n",
      "epoch 94, loss nan\n",
      "tensor(nan, grad_fn=<MseLossBackward>)\n",
      "epoch 95, loss nan\n",
      "tensor(nan, grad_fn=<MseLossBackward>)\n",
      "epoch 96, loss nan\n",
      "tensor(nan, grad_fn=<MseLossBackward>)\n",
      "epoch 97, loss nan\n",
      "tensor(nan, grad_fn=<MseLossBackward>)\n",
      "epoch 98, loss nan\n",
      "tensor(nan, grad_fn=<MseLossBackward>)\n",
      "epoch 99, loss nan\n"
     ]
    }
   ],
   "source": [
    "for epoch in range(epochs):\n",
    "    # Converting inputs and labels to Variable\n",
    "    if torch.cuda.is_available():\n",
    "        inputs = Variable(torch.from_numpy(x_d).cuda())\n",
    "        labels = Variable(torch.from_numpy(y_d).cuda())\n",
    "    else:\n",
    "        inputs = Variable(torch.from_numpy(x_d))\n",
    "        labels = Variable(torch.from_numpy(y_d))\n",
    "\n",
    "    # Clear gradient buffers because we don't want any gradient from previous epoch to carry forward, dont want to cummulate gradients\n",
    "    optimizer.zero_grad()\n",
    "\n",
    "    # get output from the model, given the inputs\n",
    "    outputs = model_retrain(inputs)\n",
    "\n",
    "    # get loss for the predicted output\n",
    "    loss = criterion(outputs, labels)\n",
    "    print(loss)\n",
    "    # get gradients w.r.t to parameters\n",
    "    loss.backward()\n",
    "\n",
    "    # update parameters\n",
    "    optimizer.step()\n",
    "\n",
    "    print('epoch {}, loss {}'.format(epoch, loss.item()))"
   ]
  },
  {
   "cell_type": "code",
   "execution_count": 17,
   "id": "6b07c422",
   "metadata": {},
   "outputs": [],
   "source": [
    "with torch.no_grad(): # we don't need gradients in the testing phase\n",
    "    if torch.cuda.is_available():\n",
    "        predicted_d = model_retrain(Variable(torch.from_numpy(x_d).cuda())).cpu().data.numpy()\n",
    "    else:\n",
    "        predicted_d = model_retrain(Variable(torch.from_numpy(x_d))).data.numpy()"
   ]
  },
  {
   "cell_type": "code",
   "execution_count": 18,
   "id": "a8bcd9e2",
   "metadata": {},
   "outputs": [
    {
     "data": {
      "image/png": "[encoded data removed]",
      "text/plain": [
       "<Figure size 432x288 with 1 Axes>"
      ]
     },
     "metadata": {
      "needs_background": "light"
     },
     "output_type": "display_data"
    }
   ],
   "source": [
    "plt.clf()\n",
    "plt.plot(x_d, y_d, 'go', label='True data', alpha=0.5)\n",
    "plt.plot(x_d, predicted_d, '--', label='Predictions', alpha=0.5)\n",
    "plt.legend(loc='best')\n",
    "plt.show()"
   ]
  },
  {
   "cell_type": "code",
   "execution_count": 19,
   "id": "73f2756b",
   "metadata": {},
   "outputs": [
    {
     "name": "stdout",
     "output_type": "stream",
     "text": [
      "linear.weight tensor([[nan]])\n",
      "linear.bias tensor([nan])\n"
     ]
    }
   ],
   "source": [
    "for name, param in model.named_parameters():\n",
    "    if param.requires_grad:\n",
    "        print (name, param.data)"
   ]
  },
  {
   "cell_type": "code",
   "execution_count": 20,
   "id": "9666286c",
   "metadata": {},
   "outputs": [
    {
     "data": {
      "image/png": "[encoded data removed]",
      "text/plain": [
       "<Figure size 432x288 with 1 Axes>"
      ]
     },
     "metadata": {
      "needs_background": "light"
     },
     "output_type": "display_data"
    }
   ],
   "source": [
    "plt.clf()\n",
    "plt.plot(x_d, y_d, 'go', color='red', label='Initial data', alpha=0.5)\n",
    "plt.plot(x_d, predicted_d, '--', c='red', label='Predictions', alpha=0.5)\n",
    "plt.plot(x, y, 'go', label='Retaied data', alpha=0.5)\n",
    "plt.plot(x, predicted, '--', label='Retrained predictions', alpha=0.5)\n",
    "plt.legend(loc='best')\n",
    "plt.show()"
   ]
  },
  {
   "cell_type": "code",
   "execution_count": null,
   "id": "dd080d2c",
   "metadata": {},
   "outputs": [],
   "source": []
  }
 ],
 "metadata": {
  "kernelspec": {
   "display_name": "Python 3",
   "language": "python",
   "name": "python3"
  },
  "language_info": {
   "codemirror_mode": {
    "name": "ipython",
    "version": 3
   },
   "file_extension": ".py",
   "mimetype": "text/x-python",
   "name": "python",
   "nbconvert_exporter": "python",
   "pygments_lexer": "ipython3",
   "version": "3.8.8"
  }
 },
 "nbformat": 4,
 "nbformat_minor": 5
}
