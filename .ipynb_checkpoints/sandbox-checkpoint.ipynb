{
 "cells": [
  {
   "cell_type": "code",
   "execution_count": 1,
   "id": "e1a0892e",
   "metadata": {},
   "outputs": [],
   "source": [
    "import numpy as np\n",
    "import torch\n",
    "import matplotlib.pyplot as plt\n",
    "%matplotlib inline\n",
    "from torch.autograd import Variable\n",
    "\n",
    "from sklearn.model_selection import train_test_split\n",
    "from sklearn.linear_model import LinearRegression \n",
    "from sklearn.metrics import mean_squared_error\n",
    "import pandas as pd\n"
   ]
  },
  {
   "cell_type": "code",
   "execution_count": 2,
   "id": "cc834a06",
   "metadata": {},
   "outputs": [],
   "source": [
    "#housing = pd.read_csv('housing.csv')\n",
    "# dataset taken from https://www.kaggle.com/camnugent/california-housing-prices#x_train, x_test, y_train, y_test = train_test_split(housing.median_income, housing.median_house_value, test_size = 0.2)\n",
    "#x_train.shape"
   ]
  },
  {
   "cell_type": "code",
   "execution_count": 78,
   "id": "d62a15a9",
   "metadata": {},
   "outputs": [
    {
     "data": {
      "text/plain": [
       "(20, 1)"
      ]
     },
     "execution_count": 78,
     "metadata": {},
     "output_type": "execute_result"
    }
   ],
   "source": [
    "# create dummy data\n",
    "x_values = [i for i in range(20)]\n",
    "x = np.array(x_values, dtype=np.float32)\n",
    "x = x.reshape(-1, 1)\n",
    "\n",
    "y_values = [2*i + 1 +  5*np.random.normal()  for i in x_values] # small noise added\n",
    "y = np.array(y_values, dtype=np.float32)\n",
    "y = y.reshape(-1, 1)\n",
    "y.shape"
   ]
  },
  {
   "cell_type": "code",
   "execution_count": 9,
   "id": "34f51fd6",
   "metadata": {},
   "outputs": [
    {
     "data": {
      "text/plain": [
       "[<matplotlib.lines.Line2D at 0x14020d12a60>]"
      ]
     },
     "execution_count": 9,
     "metadata": {},
     "output_type": "execute_result"
    },
    {
     "data": {
      "image/png": "[encoded data removed]",
      "text/plain": [
       "<Figure size 432x288 with 1 Axes>"
      ]
     },
     "metadata": {
      "needs_background": "light"
     },
     "output_type": "display_data"
    }
   ],
   "source": [
    "plt.plot(x, y, 'go', label='True data', alpha=0.5)"
   ]
  },
  {
   "cell_type": "code",
   "execution_count": 10,
   "id": "8f88db2d",
   "metadata": {},
   "outputs": [],
   "source": [
    "# simple linear regression model\n",
    "class linearRegression(torch.nn.Module):\n",
    "    def __init__(self, inputSize, outputSize):\n",
    "        super(linearRegression, self).__init__()\n",
    "        self.linear = torch.nn.Linear(inputSize, outputSize)\n",
    "\n",
    "    def forward(self, x):\n",
    "        out = self.linear(x)\n",
    "        return out"
   ]
  },
  {
   "cell_type": "code",
   "execution_count": 37,
   "id": "4f40d3ee",
   "metadata": {},
   "outputs": [],
   "source": [
    "inputDim = 1        \n",
    "outputDim = 1      \n",
    "learningRate = 0.005\n",
    "epochs = 200\n",
    "\n",
    "model = linearRegression(inputDim, outputDim)\n",
    "\n",
    "if torch.cuda.is_available():\n",
    "    model.cuda()"
   ]
  },
  {
   "cell_type": "code",
   "execution_count": 38,
   "id": "28179ffc",
   "metadata": {},
   "outputs": [],
   "source": [
    "criterion = torch.nn.MSELoss() \n",
    "optimizer = torch.optim.SGD(model.parameters(), lr=learningRate)"
   ]
  },
  {
   "cell_type": "code",
   "execution_count": 39,
   "id": "3e6240cb",
   "metadata": {},
   "outputs": [
    {
     "name": "stdout",
     "output_type": "stream",
     "text": [
      "epoch 0, loss 217.17947387695312\n",
      "epoch 1, loss 44.564857482910156\n",
      "epoch 2, loss 34.408485412597656\n",
      "epoch 3, loss 33.791908264160156\n",
      "epoch 4, loss 33.735618591308594\n",
      "epoch 5, loss 33.71232223510742\n",
      "epoch 6, loss 33.691097259521484\n",
      "epoch 7, loss 33.670082092285156\n",
      "epoch 8, loss 33.6491813659668\n",
      "epoch 9, loss 33.62839889526367\n",
      "epoch 10, loss 33.60772705078125\n",
      "epoch 11, loss 33.5871696472168\n",
      "epoch 12, loss 33.56671905517578\n",
      "epoch 13, loss 33.54637145996094\n",
      "epoch 14, loss 33.526145935058594\n",
      "epoch 15, loss 33.50602340698242\n",
      "epoch 16, loss 33.486000061035156\n",
      "epoch 17, loss 33.46609878540039\n",
      "epoch 18, loss 33.4462890625\n",
      "epoch 19, loss 33.426597595214844\n",
      "epoch 20, loss 33.40700149536133\n",
      "epoch 21, loss 33.38751983642578\n",
      "epoch 22, loss 33.36812973022461\n",
      "epoch 23, loss 33.348854064941406\n",
      "epoch 24, loss 33.329681396484375\n",
      "epoch 25, loss 33.31060028076172\n",
      "epoch 26, loss 33.29163360595703\n",
      "epoch 27, loss 33.272762298583984\n",
      "epoch 28, loss 33.25399398803711\n",
      "epoch 29, loss 33.235313415527344\n",
      "epoch 30, loss 33.21675491333008\n",
      "epoch 31, loss 33.198280334472656\n",
      "epoch 32, loss 33.179908752441406\n",
      "epoch 33, loss 33.16163635253906\n",
      "epoch 34, loss 33.14345932006836\n",
      "epoch 35, loss 33.1253776550293\n",
      "epoch 36, loss 33.107398986816406\n",
      "epoch 37, loss 33.089515686035156\n",
      "epoch 38, loss 33.07172393798828\n",
      "epoch 39, loss 33.05403137207031\n",
      "epoch 40, loss 33.03643035888672\n",
      "epoch 41, loss 33.0189208984375\n",
      "epoch 42, loss 33.00151443481445\n",
      "epoch 43, loss 32.98419189453125\n",
      "epoch 44, loss 32.96696090698242\n",
      "epoch 45, loss 32.949832916259766\n",
      "epoch 46, loss 32.932777404785156\n",
      "epoch 47, loss 32.915828704833984\n",
      "epoch 48, loss 32.89897155761719\n",
      "epoch 49, loss 32.88219451904297\n",
      "epoch 50, loss 32.865516662597656\n",
      "epoch 51, loss 32.84892654418945\n",
      "epoch 52, loss 32.83241653442383\n",
      "epoch 53, loss 32.816001892089844\n",
      "epoch 54, loss 32.79967498779297\n",
      "epoch 55, loss 32.78343963623047\n",
      "epoch 56, loss 32.76728439331055\n",
      "epoch 57, loss 32.75121307373047\n",
      "epoch 58, loss 32.73523712158203\n",
      "epoch 59, loss 32.719337463378906\n",
      "epoch 60, loss 32.703529357910156\n",
      "epoch 61, loss 32.68779754638672\n",
      "epoch 62, loss 32.672157287597656\n",
      "epoch 63, loss 32.656593322753906\n",
      "epoch 64, loss 32.64112091064453\n",
      "epoch 65, loss 32.6257209777832\n",
      "epoch 66, loss 32.61042022705078\n",
      "epoch 67, loss 32.59518051147461\n",
      "epoch 68, loss 32.580039978027344\n",
      "epoch 69, loss 32.564971923828125\n",
      "epoch 70, loss 32.54998779296875\n",
      "epoch 71, loss 32.53507995605469\n",
      "epoch 72, loss 32.5202522277832\n",
      "epoch 73, loss 32.5055046081543\n",
      "epoch 74, loss 32.4908447265625\n",
      "epoch 75, loss 32.47624969482422\n",
      "epoch 76, loss 32.461734771728516\n",
      "epoch 77, loss 32.44729995727539\n",
      "epoch 78, loss 32.432945251464844\n",
      "epoch 79, loss 32.41866683959961\n",
      "epoch 80, loss 32.404457092285156\n",
      "epoch 81, loss 32.39033889770508\n",
      "epoch 82, loss 32.376277923583984\n",
      "epoch 83, loss 32.36229705810547\n",
      "epoch 84, loss 32.34840393066406\n",
      "epoch 85, loss 32.334571838378906\n",
      "epoch 86, loss 32.3208122253418\n",
      "epoch 87, loss 32.30713653564453\n",
      "epoch 88, loss 32.29352569580078\n",
      "epoch 89, loss 32.279991149902344\n",
      "epoch 90, loss 32.26653289794922\n",
      "epoch 91, loss 32.253135681152344\n",
      "epoch 92, loss 32.23981857299805\n",
      "epoch 93, loss 32.22657012939453\n",
      "epoch 94, loss 32.213401794433594\n",
      "epoch 95, loss 32.200286865234375\n",
      "epoch 96, loss 32.187259674072266\n",
      "epoch 97, loss 32.17428970336914\n",
      "epoch 98, loss 32.1613883972168\n",
      "epoch 99, loss 32.148563385009766\n",
      "epoch 100, loss 32.13580322265625\n",
      "epoch 101, loss 32.123104095458984\n",
      "epoch 102, loss 32.1104850769043\n",
      "epoch 103, loss 32.097923278808594\n",
      "epoch 104, loss 32.08543395996094\n",
      "epoch 105, loss 32.07301712036133\n",
      "epoch 106, loss 32.06066131591797\n",
      "epoch 107, loss 32.048377990722656\n",
      "epoch 108, loss 32.0361442565918\n",
      "epoch 109, loss 32.02398681640625\n",
      "epoch 110, loss 32.01189422607422\n",
      "epoch 111, loss 31.999862670898438\n",
      "epoch 112, loss 31.987895965576172\n",
      "epoch 113, loss 31.975988388061523\n",
      "epoch 114, loss 31.964160919189453\n",
      "epoch 115, loss 31.952383041381836\n",
      "epoch 116, loss 31.9406681060791\n",
      "epoch 117, loss 31.929019927978516\n",
      "epoch 118, loss 31.917434692382812\n",
      "epoch 119, loss 31.905914306640625\n",
      "epoch 120, loss 31.894451141357422\n",
      "epoch 121, loss 31.883047103881836\n",
      "epoch 122, loss 31.871707916259766\n",
      "epoch 123, loss 31.860424041748047\n",
      "epoch 124, loss 31.84920310974121\n",
      "epoch 125, loss 31.838048934936523\n",
      "epoch 126, loss 31.82694435119629\n",
      "epoch 127, loss 31.815908432006836\n",
      "epoch 128, loss 31.804922103881836\n",
      "epoch 129, loss 31.79400062561035\n",
      "epoch 130, loss 31.783130645751953\n",
      "epoch 131, loss 31.772329330444336\n",
      "epoch 132, loss 31.761577606201172\n",
      "epoch 133, loss 31.75088119506836\n",
      "epoch 134, loss 31.740259170532227\n",
      "epoch 135, loss 31.729679107666016\n",
      "epoch 136, loss 31.719161987304688\n",
      "epoch 137, loss 31.708688735961914\n",
      "epoch 138, loss 31.698284149169922\n",
      "epoch 139, loss 31.68792724609375\n",
      "epoch 140, loss 31.67763328552246\n",
      "epoch 141, loss 31.66738510131836\n",
      "epoch 142, loss 31.657196044921875\n",
      "epoch 143, loss 31.64706802368164\n",
      "epoch 144, loss 31.636993408203125\n",
      "epoch 145, loss 31.626962661743164\n",
      "epoch 146, loss 31.616992950439453\n",
      "epoch 147, loss 31.607074737548828\n",
      "epoch 148, loss 31.597209930419922\n",
      "epoch 149, loss 31.587398529052734\n",
      "epoch 150, loss 31.577632904052734\n",
      "epoch 151, loss 31.567922592163086\n",
      "epoch 152, loss 31.558269500732422\n",
      "epoch 153, loss 31.548669815063477\n",
      "epoch 154, loss 31.539113998413086\n",
      "epoch 155, loss 31.529613494873047\n",
      "epoch 156, loss 31.52016258239746\n",
      "epoch 157, loss 31.510753631591797\n",
      "epoch 158, loss 31.501413345336914\n",
      "epoch 159, loss 31.492107391357422\n",
      "epoch 160, loss 31.48285484313965\n",
      "epoch 161, loss 31.47365379333496\n",
      "epoch 162, loss 31.464496612548828\n",
      "epoch 163, loss 31.45540428161621\n",
      "epoch 164, loss 31.446346282958984\n",
      "epoch 165, loss 31.437335968017578\n",
      "epoch 166, loss 31.428375244140625\n",
      "epoch 167, loss 31.41947364807129\n",
      "epoch 168, loss 31.410608291625977\n",
      "epoch 169, loss 31.40178871154785\n",
      "epoch 170, loss 31.393024444580078\n",
      "epoch 171, loss 31.38430404663086\n",
      "epoch 172, loss 31.375629425048828\n",
      "epoch 173, loss 31.367000579833984\n",
      "epoch 174, loss 31.358423233032227\n",
      "epoch 175, loss 31.34988021850586\n",
      "epoch 176, loss 31.34139060974121\n",
      "epoch 177, loss 31.33294677734375\n",
      "epoch 178, loss 31.324539184570312\n",
      "epoch 179, loss 31.316192626953125\n",
      "epoch 180, loss 31.307876586914062\n",
      "epoch 181, loss 31.29961585998535\n",
      "epoch 182, loss 31.291393280029297\n",
      "epoch 183, loss 31.283206939697266\n",
      "epoch 184, loss 31.275075912475586\n",
      "epoch 185, loss 31.26698875427246\n",
      "epoch 186, loss 31.25894546508789\n",
      "epoch 187, loss 31.250934600830078\n",
      "epoch 188, loss 31.242977142333984\n",
      "epoch 189, loss 31.235057830810547\n",
      "epoch 190, loss 31.227182388305664\n",
      "epoch 191, loss 31.219350814819336\n",
      "epoch 192, loss 31.211551666259766\n",
      "epoch 193, loss 31.203805923461914\n",
      "epoch 194, loss 31.196094512939453\n",
      "epoch 195, loss 31.18842124938965\n",
      "epoch 196, loss 31.1807918548584\n",
      "epoch 197, loss 31.173206329345703\n",
      "epoch 198, loss 31.165664672851562\n",
      "epoch 199, loss 31.158153533935547\n"
     ]
    }
   ],
   "source": [
    "for epoch in range(epochs):\n",
    "    # Converting inputs and labels to Variable\n",
    "    if torch.cuda.is_available():\n",
    "        inputs = Variable(torch.from_numpy(x).cuda())\n",
    "        labels = Variable(torch.from_numpy(y).cuda())\n",
    "    else:\n",
    "        inputs = Variable(torch.from_numpy(x))\n",
    "        labels = Variable(torch.from_numpy(y))\n",
    "\n",
    "    # Clear gradient buffers because we don't want any gradient from previous epoch to carry forward, dont want to cummulate gradients\n",
    "    optimizer.zero_grad()\n",
    "\n",
    "    # get output from the model, given the inputs\n",
    "    outputs = model(inputs)\n",
    "\n",
    "    # get loss for the predicted output\n",
    "    loss = criterion(outputs, labels)\n",
    "    #print(loss)\n",
    "    # get gradients w.r.t to parameters\n",
    "    loss.backward()\n",
    "\n",
    "    # update parameters\n",
    "    optimizer.step()\n",
    "\n",
    "    print('epoch {}, loss {}'.format(epoch, loss.item()))"
   ]
  },
  {
   "cell_type": "code",
   "execution_count": 40,
   "id": "7f40d297",
   "metadata": {},
   "outputs": [],
   "source": [
    "with torch.no_grad(): # we don't need gradients in the testing phase\n",
    "    if torch.cuda.is_available():\n",
    "        predicted = model(Variable(torch.from_numpy(x).cuda())).cpu().data.numpy()\n",
    "    else:\n",
    "        predicted = model(Variable(torch.from_numpy(x))).data.numpy()"
   ]
  },
  {
   "cell_type": "code",
   "execution_count": 41,
   "id": "7be966eb",
   "metadata": {},
   "outputs": [
    {
     "data": {
      "image/png": "[encoded data removed]",
      "text/plain": [
       "<Figure size 432x288 with 1 Axes>"
      ]
     },
     "metadata": {
      "needs_background": "light"
     },
     "output_type": "display_data"
    }
   ],
   "source": [
    "plt.clf()\n",
    "plt.plot(x, y, 'go', label='True data', alpha=0.5)\n",
    "plt.plot(x, predicted, '--', label='Predictions', alpha=0.5)\n",
    "plt.legend(loc='best')\n",
    "plt.show()"
   ]
  },
  {
   "cell_type": "code",
   "execution_count": 42,
   "id": "1a006ae1",
   "metadata": {},
   "outputs": [
    {
     "name": "stdout",
     "output_type": "stream",
     "text": [
      "linear.weight tensor([[2.0176]])\n",
      "linear.bias tensor([2.0155])\n"
     ]
    }
   ],
   "source": [
    "for name, param in model.named_parameters():\n",
    "    if param.requires_grad:\n",
    "        print (name, param.data)"
   ]
  },
  {
   "cell_type": "code",
   "execution_count": 57,
   "id": "b062d5ea",
   "metadata": {},
   "outputs": [],
   "source": [
    "# let's delete point at index 2\n",
    "x_r = np.delete(x, [i for i in range(10, 15)])\n",
    "y_r = np.delete(y, [i for i in range(10, 15)])\n",
    "x_r = x_d.reshape(-1, 1)\n",
    "y_r = y_d.reshape(-1, 1)"
   ]
  },
  {
   "cell_type": "code",
   "execution_count": 58,
   "id": "1d30d1c0",
   "metadata": {},
   "outputs": [
    {
     "data": {
      "text/plain": [
       "[<matplotlib.lines.Line2D at 0x14022195ac0>]"
      ]
     },
     "execution_count": 58,
     "metadata": {},
     "output_type": "execute_result"
    },
    {
     "data": {
      "image/png": "[encoded data removed]",
      "text/plain": [
       "<Figure size 432x288 with 1 Axes>"
      ]
     },
     "metadata": {
      "needs_background": "light"
     },
     "output_type": "display_data"
    }
   ],
   "source": [
    "plt.plot(x_r, y_r, 'go', label='True data', alpha=0.5)"
   ]
  },
  {
   "cell_type": "code",
   "execution_count": 59,
   "id": "d66eae32",
   "metadata": {},
   "outputs": [],
   "source": [
    "inputDim = 1        \n",
    "outputDim = 1      \n",
    "learningRate = 0.005 \n",
    "epochs = 100\n",
    "\n",
    "model_retrain = linearRegression(inputDim, outputDim)\n",
    "\n",
    "if torch.cuda.is_available():\n",
    "    model_retain.cuda()"
   ]
  },
  {
   "cell_type": "code",
   "execution_count": 60,
   "id": "66f34e11",
   "metadata": {},
   "outputs": [],
   "source": [
    "criterion = torch.nn.MSELoss() \n",
    "optimizer = torch.optim.SGD(model_retrain.parameters(), lr=learningRate)"
   ]
  },
  {
   "cell_type": "code",
   "execution_count": 61,
   "id": "6b44646b",
   "metadata": {},
   "outputs": [
    {
     "name": "stdout",
     "output_type": "stream",
     "text": [
      "tensor(1084.9591, grad_fn=<MseLossBackward>)\n",
      "epoch 0, loss 1084.9591064453125\n",
      "tensor(64.5350, grad_fn=<MseLossBackward>)\n",
      "epoch 1, loss 64.53504180908203\n",
      "tensor(36.1942, grad_fn=<MseLossBackward>)\n",
      "epoch 2, loss 36.19418716430664\n",
      "tensor(35.3547, grad_fn=<MseLossBackward>)\n",
      "epoch 3, loss 35.35472106933594\n",
      "tensor(35.2780, grad_fn=<MseLossBackward>)\n",
      "epoch 4, loss 35.27799606323242\n",
      "tensor(35.2228, grad_fn=<MseLossBackward>)\n",
      "epoch 5, loss 35.222782135009766\n",
      "tensor(35.1685, grad_fn=<MseLossBackward>)\n",
      "epoch 6, loss 35.16852951049805\n",
      "tensor(35.1147, grad_fn=<MseLossBackward>)\n",
      "epoch 7, loss 35.114681243896484\n",
      "tensor(35.0612, grad_fn=<MseLossBackward>)\n",
      "epoch 8, loss 35.06121826171875\n",
      "tensor(35.0081, grad_fn=<MseLossBackward>)\n",
      "epoch 9, loss 35.00811767578125\n",
      "tensor(34.9554, grad_fn=<MseLossBackward>)\n",
      "epoch 10, loss 34.95539093017578\n",
      "tensor(34.9030, grad_fn=<MseLossBackward>)\n",
      "epoch 11, loss 34.90302658081055\n",
      "tensor(34.8511, grad_fn=<MseLossBackward>)\n",
      "epoch 12, loss 34.851051330566406\n",
      "tensor(34.7994, grad_fn=<MseLossBackward>)\n",
      "epoch 13, loss 34.79942321777344\n",
      "tensor(34.7481, grad_fn=<MseLossBackward>)\n",
      "epoch 14, loss 34.74814987182617\n",
      "tensor(34.6973, grad_fn=<MseLossBackward>)\n",
      "epoch 15, loss 34.69725036621094\n",
      "tensor(34.6467, grad_fn=<MseLossBackward>)\n",
      "epoch 16, loss 34.64668655395508\n",
      "tensor(34.5965, grad_fn=<MseLossBackward>)\n",
      "epoch 17, loss 34.59649658203125\n",
      "tensor(34.5467, grad_fn=<MseLossBackward>)\n",
      "epoch 18, loss 34.546653747558594\n",
      "tensor(34.4972, grad_fn=<MseLossBackward>)\n",
      "epoch 19, loss 34.497154235839844\n",
      "tensor(34.4480, grad_fn=<MseLossBackward>)\n",
      "epoch 20, loss 34.447998046875\n",
      "tensor(34.3992, grad_fn=<MseLossBackward>)\n",
      "epoch 21, loss 34.399208068847656\n",
      "tensor(34.3507, grad_fn=<MseLossBackward>)\n",
      "epoch 22, loss 34.35073471069336\n",
      "tensor(34.3026, grad_fn=<MseLossBackward>)\n",
      "epoch 23, loss 34.3026123046875\n",
      "tensor(34.2548, grad_fn=<MseLossBackward>)\n",
      "epoch 24, loss 34.254817962646484\n",
      "tensor(34.2074, grad_fn=<MseLossBackward>)\n",
      "epoch 25, loss 34.20737075805664\n",
      "tensor(34.1602, grad_fn=<MseLossBackward>)\n",
      "epoch 26, loss 34.160240173339844\n",
      "tensor(34.1134, grad_fn=<MseLossBackward>)\n",
      "epoch 27, loss 34.11344909667969\n",
      "tensor(34.0670, grad_fn=<MseLossBackward>)\n",
      "epoch 28, loss 34.06698989868164\n",
      "tensor(34.0209, grad_fn=<MseLossBackward>)\n",
      "epoch 29, loss 34.020851135253906\n",
      "tensor(33.9750, grad_fn=<MseLossBackward>)\n",
      "epoch 30, loss 33.97502899169922\n",
      "tensor(33.9295, grad_fn=<MseLossBackward>)\n",
      "epoch 31, loss 33.92953872680664\n",
      "tensor(33.8844, grad_fn=<MseLossBackward>)\n",
      "epoch 32, loss 33.88435363769531\n",
      "tensor(33.8395, grad_fn=<MseLossBackward>)\n",
      "epoch 33, loss 33.839500427246094\n",
      "tensor(33.7949, grad_fn=<MseLossBackward>)\n",
      "epoch 34, loss 33.79494857788086\n",
      "tensor(33.7507, grad_fn=<MseLossBackward>)\n",
      "epoch 35, loss 33.75071334838867\n",
      "tensor(33.7068, grad_fn=<MseLossBackward>)\n",
      "epoch 36, loss 33.706787109375\n",
      "tensor(33.6632, grad_fn=<MseLossBackward>)\n",
      "epoch 37, loss 33.66316604614258\n",
      "tensor(33.6199, grad_fn=<MseLossBackward>)\n",
      "epoch 38, loss 33.61985397338867\n",
      "tensor(33.5768, grad_fn=<MseLossBackward>)\n",
      "epoch 39, loss 33.57684326171875\n",
      "tensor(33.5341, grad_fn=<MseLossBackward>)\n",
      "epoch 40, loss 33.53413009643555\n",
      "tensor(33.4917, grad_fn=<MseLossBackward>)\n",
      "epoch 41, loss 33.49172592163086\n",
      "tensor(33.4496, grad_fn=<MseLossBackward>)\n",
      "epoch 42, loss 33.449615478515625\n",
      "tensor(33.4078, grad_fn=<MseLossBackward>)\n",
      "epoch 43, loss 33.40778732299805\n",
      "tensor(33.3663, grad_fn=<MseLossBackward>)\n",
      "epoch 44, loss 33.36626052856445\n",
      "tensor(33.3250, grad_fn=<MseLossBackward>)\n",
      "epoch 45, loss 33.32502746582031\n",
      "tensor(33.2841, grad_fn=<MseLossBackward>)\n",
      "epoch 46, loss 33.28408432006836\n",
      "tensor(33.2434, grad_fn=<MseLossBackward>)\n",
      "epoch 47, loss 33.24342346191406\n",
      "tensor(33.2030, grad_fn=<MseLossBackward>)\n",
      "epoch 48, loss 33.203041076660156\n",
      "tensor(33.1629, grad_fn=<MseLossBackward>)\n",
      "epoch 49, loss 33.16294860839844\n",
      "tensor(33.1231, grad_fn=<MseLossBackward>)\n",
      "epoch 50, loss 33.12313461303711\n",
      "tensor(33.0836, grad_fn=<MseLossBackward>)\n",
      "epoch 51, loss 33.08360290527344\n",
      "tensor(33.0443, grad_fn=<MseLossBackward>)\n",
      "epoch 52, loss 33.044342041015625\n",
      "tensor(33.0054, grad_fn=<MseLossBackward>)\n",
      "epoch 53, loss 33.00536346435547\n",
      "tensor(32.9667, grad_fn=<MseLossBackward>)\n",
      "epoch 54, loss 32.96665573120117\n",
      "tensor(32.9282, grad_fn=<MseLossBackward>)\n",
      "epoch 55, loss 32.9282112121582\n",
      "tensor(32.8900, grad_fn=<MseLossBackward>)\n",
      "epoch 56, loss 32.890037536621094\n",
      "tensor(32.8521, grad_fn=<MseLossBackward>)\n",
      "epoch 57, loss 32.85213851928711\n",
      "tensor(32.8145, grad_fn=<MseLossBackward>)\n",
      "epoch 58, loss 32.814510345458984\n",
      "tensor(32.7771, grad_fn=<MseLossBackward>)\n",
      "epoch 59, loss 32.77712631225586\n",
      "tensor(32.7400, grad_fn=<MseLossBackward>)\n",
      "epoch 60, loss 32.74000930786133\n",
      "tensor(32.7032, grad_fn=<MseLossBackward>)\n",
      "epoch 61, loss 32.70315933227539\n",
      "tensor(32.6666, grad_fn=<MseLossBackward>)\n",
      "epoch 62, loss 32.66657257080078\n",
      "tensor(32.6302, grad_fn=<MseLossBackward>)\n",
      "epoch 63, loss 32.63022994995117\n",
      "tensor(32.5941, grad_fn=<MseLossBackward>)\n",
      "epoch 64, loss 32.594139099121094\n",
      "tensor(32.5583, grad_fn=<MseLossBackward>)\n",
      "epoch 65, loss 32.55830383300781\n",
      "tensor(32.5227, grad_fn=<MseLossBackward>)\n",
      "epoch 66, loss 32.522727966308594\n",
      "tensor(32.4874, grad_fn=<MseLossBackward>)\n",
      "epoch 67, loss 32.48740005493164\n",
      "tensor(32.4523, grad_fn=<MseLossBackward>)\n",
      "epoch 68, loss 32.45231246948242\n",
      "tensor(32.4175, grad_fn=<MseLossBackward>)\n",
      "epoch 69, loss 32.4174690246582\n",
      "tensor(32.3829, grad_fn=<MseLossBackward>)\n",
      "epoch 70, loss 32.382877349853516\n",
      "tensor(32.3485, grad_fn=<MseLossBackward>)\n",
      "epoch 71, loss 32.34852600097656\n",
      "tensor(32.3144, grad_fn=<MseLossBackward>)\n",
      "epoch 72, loss 32.31441116333008\n",
      "tensor(32.2805, grad_fn=<MseLossBackward>)\n",
      "epoch 73, loss 32.28053283691406\n",
      "tensor(32.2469, grad_fn=<MseLossBackward>)\n",
      "epoch 74, loss 32.24689483642578\n",
      "tensor(32.2135, grad_fn=<MseLossBackward>)\n",
      "epoch 75, loss 32.21349334716797\n",
      "tensor(32.1803, grad_fn=<MseLossBackward>)\n",
      "epoch 76, loss 32.180335998535156\n",
      "tensor(32.1474, grad_fn=<MseLossBackward>)\n",
      "epoch 77, loss 32.14739227294922\n",
      "tensor(32.1147, grad_fn=<MseLossBackward>)\n",
      "epoch 78, loss 32.11468505859375\n",
      "tensor(32.0822, grad_fn=<MseLossBackward>)\n",
      "epoch 79, loss 32.08220672607422\n",
      "tensor(32.0500, grad_fn=<MseLossBackward>)\n",
      "epoch 80, loss 32.04995346069336\n",
      "tensor(32.0179, grad_fn=<MseLossBackward>)\n",
      "epoch 81, loss 32.01792907714844\n",
      "tensor(31.9861, grad_fn=<MseLossBackward>)\n",
      "epoch 82, loss 31.986133575439453\n",
      "tensor(31.9546, grad_fn=<MseLossBackward>)\n",
      "epoch 83, loss 31.954553604125977\n",
      "tensor(31.9232, grad_fn=<MseLossBackward>)\n",
      "epoch 84, loss 31.923192977905273\n",
      "tensor(31.8921, grad_fn=<MseLossBackward>)\n",
      "epoch 85, loss 31.892066955566406\n",
      "tensor(31.8611, grad_fn=<MseLossBackward>)\n",
      "epoch 86, loss 31.861143112182617\n",
      "tensor(31.8304, grad_fn=<MseLossBackward>)\n",
      "epoch 87, loss 31.83043670654297\n",
      "tensor(31.8000, grad_fn=<MseLossBackward>)\n",
      "epoch 88, loss 31.79995346069336\n",
      "tensor(31.7697, grad_fn=<MseLossBackward>)\n",
      "epoch 89, loss 31.769678115844727\n",
      "tensor(31.7396, grad_fn=<MseLossBackward>)\n",
      "epoch 90, loss 31.73961639404297\n",
      "tensor(31.7098, grad_fn=<MseLossBackward>)\n",
      "epoch 91, loss 31.70977020263672\n",
      "tensor(31.6801, grad_fn=<MseLossBackward>)\n",
      "epoch 92, loss 31.680118560791016\n",
      "tensor(31.6507, grad_fn=<MseLossBackward>)\n",
      "epoch 93, loss 31.650691986083984\n",
      "tensor(31.6215, grad_fn=<MseLossBackward>)\n",
      "epoch 94, loss 31.6214599609375\n",
      "tensor(31.5924, grad_fn=<MseLossBackward>)\n",
      "epoch 95, loss 31.592432022094727\n",
      "tensor(31.5636, grad_fn=<MseLossBackward>)\n",
      "epoch 96, loss 31.5636043548584\n",
      "tensor(31.5350, grad_fn=<MseLossBackward>)\n",
      "epoch 97, loss 31.534982681274414\n",
      "tensor(31.5066, grad_fn=<MseLossBackward>)\n",
      "epoch 98, loss 31.506563186645508\n",
      "tensor(31.4783, grad_fn=<MseLossBackward>)\n",
      "epoch 99, loss 31.478343963623047\n"
     ]
    }
   ],
   "source": [
    "for epoch in range(epochs):\n",
    "    # Converting inputs and labels to Variable\n",
    "    if torch.cuda.is_available():\n",
    "        inputs = Variable(torch.from_numpy(x_r).cuda())\n",
    "        labels = Variable(torch.from_numpy(y_r).cuda())\n",
    "    else:\n",
    "        inputs = Variable(torch.from_numpy(x_r))\n",
    "        labels = Variable(torch.from_numpy(y_r))\n",
    "\n",
    "    # Clear gradient buffers because we don't want any gradient from previous epoch to carry forward, dont want to cummulate gradients\n",
    "    optimizer.zero_grad()\n",
    "\n",
    "    # get output from the model, given the inputs\n",
    "    outputs = model_retrain(inputs)\n",
    "\n",
    "    # get loss for the predicted output\n",
    "    loss = criterion(outputs, labels)\n",
    "    print(loss)\n",
    "    # get gradients w.r.t to parameters\n",
    "    loss.backward()\n",
    "\n",
    "    # update parameters\n",
    "    optimizer.step()\n",
    "\n",
    "    print('epoch {}, loss {}'.format(epoch, loss.item()))"
   ]
  },
  {
   "cell_type": "code",
   "execution_count": 64,
   "id": "6b07c422",
   "metadata": {},
   "outputs": [],
   "source": [
    "with torch.no_grad(): # we don't need gradients in the testing phase\n",
    "    if torch.cuda.is_available():\n",
    "        predicted_r = model_retrain(Variable(torch.from_numpy(x_d).cuda())).cpu().data.numpy()\n",
    "    else:\n",
    "        predicted_r = model_retrain(Variable(torch.from_numpy(x_d))).data.numpy()"
   ]
  },
  {
   "cell_type": "code",
   "execution_count": 65,
   "id": "a8bcd9e2",
   "metadata": {},
   "outputs": [
    {
     "data": {
      "image/png": "[encoded data removed]",
      "text/plain": [
       "<Figure size 432x288 with 1 Axes>"
      ]
     },
     "metadata": {
      "needs_background": "light"
     },
     "output_type": "display_data"
    }
   ],
   "source": [
    "plt.clf()\n",
    "plt.plot(x_r, y_r, 'go', label='True data', alpha=0.5)\n",
    "plt.plot(x_r, predicted_r, '--', label='Predictions', alpha=0.5)\n",
    "plt.legend(loc='best')\n",
    "plt.show()"
   ]
  },
  {
   "cell_type": "code",
   "execution_count": 69,
   "id": "73f2756b",
   "metadata": {},
   "outputs": [
    {
     "name": "stdout",
     "output_type": "stream",
     "text": [
      "linear.weight tensor([[2.0157]])\n",
      "linear.bias tensor([1.2808])\n"
     ]
    }
   ],
   "source": [
    "for name, param in model_retrain.named_parameters():\n",
    "    if param.requires_grad:\n",
    "        print (name, param.data)"
   ]
  },
  {
   "cell_type": "code",
   "execution_count": 67,
   "id": "9666286c",
   "metadata": {},
   "outputs": [
    {
     "data": {
      "image/png": "[encoded data removed]",
      "text/plain": [
       "<Figure size 432x288 with 1 Axes>"
      ]
     },
     "metadata": {
      "needs_background": "light"
     },
     "output_type": "display_data"
    }
   ],
   "source": [
    "plt.clf()\n",
    "plt.plot(x_r, y_d, 'go', color='red', label='Initial data', alpha=0.5)\n",
    "plt.plot(x_r, predicted_d, '--', c='red', label='Predictions', alpha=0.5)\n",
    "plt.plot(x, y, 'go', label='Retaied data', alpha=0.5)\n",
    "plt.plot(x, predicted, '--', label='Retrained predictions', alpha=0.5)\n",
    "plt.legend(loc='best')\n",
    "plt.show()"
   ]
  },
  {
   "cell_type": "code",
   "execution_count": 68,
   "id": "dd080d2c",
   "metadata": {},
   "outputs": [],
   "source": [
    "# find the reflected point with respect to a line\n",
    "# for two dimensions we have eqn x_r, y_r = (p(a2−b2)−2b(aq+c)a2+b2,q(b2−a2)−2a(bp+c)a2+b2)\n",
    "def reflected_coordinates(position, parameters):\n",
    "    p, q = position\n",
    "    b, c = -1*parameters  \n",
    "    a = 1\n",
    "    x_r = p*(a**2 - b**2) - 2*b*(a*q + c)*a**2 + b**2\n",
    "    y_r = q*(b**2 - a**2) - 2*a*(b*p + c)*a**2 + b**2\n",
    "    reflected = (1 / (a**2 + b**2))*(x_r, y_r)\n",
    "    return reflected"
   ]
  },
  {
   "cell_type": "code",
   "execution_count": 87,
   "id": "0ee440dd",
   "metadata": {},
   "outputs": [
    {
     "data": {
      "text/plain": [
       "array([[16.569832],\n",
       "       [17.3897  ],\n",
       "       [25.10129 ],\n",
       "       [29.442194],\n",
       "       [27.542156]], dtype=float32)"
      ]
     },
     "execution_count": 87,
     "metadata": {},
     "output_type": "execute_result"
    }
   ],
   "source": [
    "x_d = np.array([x[i] for i in range(10, 15)], dtype=np.float32)\n",
    "x_d = x_d.reshape(-1, 1)\n",
    "y_d = np.array([y[i] for i in range(10, 15)], dtype=np.float32)\n",
    "y_d = y_d.reshape(-1, 1)\n",
    "y_d"
   ]
  },
  {
   "cell_type": "code",
   "execution_count": 95,
   "id": "de607d45",
   "metadata": {},
   "outputs": [
    {
     "data": {
      "text/plain": [
       "[tensor([[2.0176]]), tensor([2.0155])]"
      ]
     },
     "execution_count": 95,
     "metadata": {},
     "output_type": "execute_result"
    }
   ],
   "source": [
    "model_forget = model\n",
    "params = []\n",
    "for name, param in model_forget.named_parameters():\n",
    "    if param.requires_grad:\n",
    "        params.append(param.data)\n",
    "params"
   ]
  },
  {
   "cell_type": "code",
   "execution_count": 98,
   "id": "0274d514",
   "metadata": {},
   "outputs": [
    {
     "ename": "TypeError",
     "evalue": "array() missing required argument 'object' (pos 0)",
     "output_type": "error",
     "traceback": [
      "\u001b[1;31m---------------------------------------------------------------------------\u001b[0m",
      "\u001b[1;31mTypeError\u001b[0m                                 Traceback (most recent call last)",
      "\u001b[1;32m<ipython-input-98-94d7be0e7d4b>\u001b[0m in \u001b[0;36m<module>\u001b[1;34m\u001b[0m\n\u001b[0;32m      1\u001b[0m \u001b[1;31m# make reflected coordinates\u001b[0m\u001b[1;33m\u001b[0m\u001b[1;33m\u001b[0m\u001b[1;33m\u001b[0m\u001b[0m\n\u001b[1;32m----> 2\u001b[1;33m \u001b[0mx_reflected\u001b[0m \u001b[1;33m=\u001b[0m \u001b[0mnp\u001b[0m\u001b[1;33m.\u001b[0m\u001b[0marray\u001b[0m\u001b[1;33m(\u001b[0m\u001b[0mdtype\u001b[0m\u001b[1;33m=\u001b[0m\u001b[0mnp\u001b[0m\u001b[1;33m.\u001b[0m\u001b[0mfloat32\u001b[0m\u001b[1;33m)\u001b[0m\u001b[1;33m\u001b[0m\u001b[1;33m\u001b[0m\u001b[0m\n\u001b[0m\u001b[0;32m      3\u001b[0m \u001b[0my_reflected\u001b[0m \u001b[1;33m=\u001b[0m \u001b[0mnp\u001b[0m\u001b[1;33m.\u001b[0m\u001b[0marray\u001b[0m\u001b[1;33m(\u001b[0m\u001b[0mdtype\u001b[0m\u001b[1;33m=\u001b[0m\u001b[0mnp\u001b[0m\u001b[1;33m.\u001b[0m\u001b[0mfloat32\u001b[0m\u001b[1;33m)\u001b[0m\u001b[1;33m\u001b[0m\u001b[1;33m\u001b[0m\u001b[0m\n\u001b[0;32m      4\u001b[0m \u001b[1;32mfor\u001b[0m \u001b[0mi\u001b[0m \u001b[1;32min\u001b[0m \u001b[0mrange\u001b[0m\u001b[1;33m(\u001b[0m\u001b[0mlen\u001b[0m\u001b[1;33m(\u001b[0m\u001b[0mx_d\u001b[0m\u001b[1;33m)\u001b[0m\u001b[1;33m)\u001b[0m\u001b[1;33m:\u001b[0m\u001b[1;33m\u001b[0m\u001b[1;33m\u001b[0m\u001b[0m\n\u001b[0;32m      5\u001b[0m     \u001b[0mcoor\u001b[0m \u001b[1;33m=\u001b[0m \u001b[0mreflected_coordinates\u001b[0m\u001b[1;33m(\u001b[0m\u001b[1;33m(\u001b[0m\u001b[0mx_d\u001b[0m\u001b[1;33m[\u001b[0m\u001b[0mi\u001b[0m\u001b[1;33m]\u001b[0m\u001b[1;33m,\u001b[0m \u001b[0my_d\u001b[0m\u001b[1;33m[\u001b[0m\u001b[0mi\u001b[0m\u001b[1;33m]\u001b[0m\u001b[1;33m)\u001b[0m\u001b[1;33m,\u001b[0m \u001b[1;33m(\u001b[0m\u001b[0mparams\u001b[0m\u001b[1;33m[\u001b[0m\u001b[1;36m0\u001b[0m\u001b[1;33m]\u001b[0m\u001b[1;33m,\u001b[0m \u001b[0mparams\u001b[0m\u001b[1;33m[\u001b[0m\u001b[1;36m1\u001b[0m\u001b[1;33m]\u001b[0m\u001b[1;33m)\u001b[0m\u001b[1;33m)\u001b[0m\u001b[1;33m\u001b[0m\u001b[1;33m\u001b[0m\u001b[0m\n",
      "\u001b[1;31mTypeError\u001b[0m: array() missing required argument 'object' (pos 0)"
     ]
    }
   ],
   "source": [
    "# make reflected coordinates\n",
    "x_reflected = np.array()\n",
    "y_reflected = np.array()\n",
    "for i in range(len(x_d)):\n",
    "    coor = reflected_coordinates((x_d[i], y_d[i]), (params[0], params[1]))"
   ]
  },
  {
   "cell_type": "code",
   "execution_count": null,
   "id": "2983997d",
   "metadata": {},
   "outputs": [],
   "source": []
  }
 ],
 "metadata": {
  "kernelspec": {
   "display_name": "Python 3",
   "language": "python",
   "name": "python3"
  },
  "language_info": {
   "codemirror_mode": {
    "name": "ipython",
    "version": 3
   },
   "file_extension": ".py",
   "mimetype": "text/x-python",
   "name": "python",
   "nbconvert_exporter": "python",
   "pygments_lexer": "ipython3",
   "version": "3.8.5"
  }
 },
 "nbformat": 4,
 "nbformat_minor": 5
}
