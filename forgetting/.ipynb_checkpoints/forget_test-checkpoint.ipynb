{
 "cells": [
  {
   "cell_type": "code",
   "execution_count": 1,
   "id": "a1c03e00",
   "metadata": {
    "executionInfo": {
     "elapsed": 1092,
     "status": "ok",
     "timestamp": 1632740804226,
     "user": {
      "displayName": "URP colab",
      "photoUrl": "https://lh3.googleusercontent.com/a/default-user=s64",
      "userId": "04730477146096450038"
     },
     "user_tz": -540
    },
    "id": "a1c03e00"
   },
   "outputs": [],
   "source": [
    "import torch.nn as nn\n",
    "import sys\n",
    "from matplotlib import pyplot as plt\n",
    "%matplotlib inline"
   ]
  },
  {
   "cell_type": "code",
   "execution_count": 2,
   "id": "jEqFm0c2wUS8",
   "metadata": {
    "colab": {
     "base_uri": "https://localhost:8080/"
    },
    "executionInfo": {
     "elapsed": 12,
     "status": "ok",
     "timestamp": 1632740804750,
     "user": {
      "displayName": "URP colab",
      "photoUrl": "https://lh3.googleusercontent.com/a/default-user=s64",
      "userId": "04730477146096450038"
     },
     "user_tz": -540
    },
    "id": "jEqFm0c2wUS8",
    "outputId": "df94cc7a-a684-4ce9-e8fd-44ec331b239a"
   },
   "outputs": [
    {
     "name": "stdout",
     "output_type": "stream",
     "text": [
      "Drive already mounted at /content/drive; to attempt to forcibly remount, call drive.mount(\"/content/drive\", force_remount=True).\n"
     ]
    }
   ],
   "source": [
    "from google.colab import drive\n",
    "drive.mount('/content/drive')"
   ]
  },
  {
   "cell_type": "code",
   "execution_count": 3,
   "id": "vQ22j6mUv0T2",
   "metadata": {
    "executionInfo": {
     "elapsed": 10,
     "status": "ok",
     "timestamp": 1632740804751,
     "user": {
      "displayName": "URP colab",
      "photoUrl": "https://lh3.googleusercontent.com/a/default-user=s64",
      "userId": "04730477146096450038"
     },
     "user_tz": -540
    },
    "id": "vQ22j6mUv0T2"
   },
   "outputs": [],
   "source": [
    "path = \"/content/drive/My Drive/project/\"\n",
    "\n",
    "sys.path.append(path + \"URP\")\n",
    "sys.path.append(path + \"URP/learning\")\n",
    "sys.path.append(path + \"URP/data\")\n",
    "sys.path.append(path + \"URP/models\")\n",
    "sys.path.append(path + \"URP/forgetting\")"
   ]
  },
  {
   "cell_type": "code",
   "execution_count": 5,
   "id": "a24fc9d6",
   "metadata": {},
   "outputs": [],
   "source": [
    "path = \"..\"\n",
    "sys.path.append(path)\n",
    "sys.path.append(path + \"/learning\")\n",
    "sys.path.append(path + \"/data\")\n",
    "sys.path.append(path + \"/models\")\n",
    "sys.path.append(path + \"/forgetting\")"
   ]
  },
  {
   "cell_type": "code",
   "execution_count": 6,
   "id": "AEFvoZeNwbA1",
   "metadata": {
    "executionInfo": {
     "elapsed": 1158,
     "status": "ok",
     "timestamp": 1632740899830,
     "user": {
      "displayName": "URP colab",
      "photoUrl": "https://lh3.googleusercontent.com/a/default-user=s64",
      "userId": "04730477146096450038"
     },
     "user_tz": -540
    },
    "id": "AEFvoZeNwbA1"
   },
   "outputs": [],
   "source": [
    "from data_utils import show_random, AddNoise, remove_random, remove_class #, separate_data\n",
    "from data import get_dataset, dummy_clusters, dummy_half_doughnuts\n",
    "from models_utils import *\n",
    "import models\n",
    "from learn import *\n",
    "from forget import *"
   ]
  },
  {
   "cell_type": "code",
   "execution_count": 7,
   "id": "3AZSEENV6kuZ",
   "metadata": {
    "colab": {
     "base_uri": "https://localhost:8080/"
    },
    "executionInfo": {
     "elapsed": 11,
     "status": "ok",
     "timestamp": 1632740804752,
     "user": {
      "displayName": "URP colab",
      "photoUrl": "https://lh3.googleusercontent.com/a/default-user=s64",
      "userId": "04730477146096450038"
     },
     "user_tz": -540
    },
    "id": "3AZSEENV6kuZ",
    "outputId": "3c47c815-c272-4abb-df6b-d048e7c77790"
   },
   "outputs": [
    {
     "data": {
      "text/plain": [
       "device(type='cpu')"
      ]
     },
     "execution_count": 7,
     "metadata": {},
     "output_type": "execute_result"
    }
   ],
   "source": [
    "device = torch.device(\"cuda:0\" if torch.cuda.is_available() else \"cpu\")\n",
    "device"
   ]
  },
  {
   "cell_type": "code",
   "execution_count": 8,
   "id": "8Dv5MU_-wg1W",
   "metadata": {
    "colab": {
     "base_uri": "https://localhost:8080/"
    },
    "executionInfo": {
     "elapsed": 8,
     "status": "ok",
     "timestamp": 1632740804752,
     "user": {
      "displayName": "URP colab",
      "photoUrl": "https://lh3.googleusercontent.com/a/default-user=s64",
      "userId": "04730477146096450038"
     },
     "user_tz": -540
    },
    "id": "8Dv5MU_-wg1W",
    "outputId": "57861b70-b2c5-4377-8e3c-45c0f965df56"
   },
   "outputs": [
    {
     "name": "stdout",
     "output_type": "stream",
     "text": [
      "CNN\n"
     ]
    }
   ],
   "source": [
    "cnn = {\"filters_percentage\": 1, \"n_channels\":3,\"num_classes\": 50, \"dropout\": True, \"batch_norm\": True}\n",
    "cnn_model = get_model(\"cnn\", **cnn)\n",
    "print(cnn_model.__class__.__name__)"
   ]
  },
  {
   "cell_type": "code",
   "execution_count": 12,
   "id": "CWh0anO3w7IR",
   "metadata": {
    "colab": {
     "base_uri": "https://localhost:8080/"
    },
    "executionInfo": {
     "elapsed": 3491,
     "status": "ok",
     "timestamp": 1632740808237,
     "user": {
      "displayName": "URP colab",
      "photoUrl": "https://lh3.googleusercontent.com/a/default-user=s64",
      "userId": "04730477146096450038"
     },
     "user_tz": -540
    },
    "id": "CWh0anO3w7IR",
    "outputId": "3f0c534f-5f6d-42a9-8f00-9a05eba0d2c5"
   },
   "outputs": [
    {
     "ename": "FileNotFoundError",
     "evalue": "[Errno 2] No such file or directory: '/content/drive/My Drive/project/URP/checkpoints/CNN_60.pth.tar'",
     "output_type": "error",
     "traceback": [
      "\u001b[1;31m---------------------------------------------------------------------------\u001b[0m",
      "\u001b[1;31mFileNotFoundError\u001b[0m                         Traceback (most recent call last)",
      "\u001b[1;32m<ipython-input-12-a7a0dd96a904>\u001b[0m in \u001b[0;36m<module>\u001b[1;34m\u001b[0m\n\u001b[1;32m----> 1\u001b[1;33m \u001b[0mcheckpoint\u001b[0m \u001b[1;33m=\u001b[0m \u001b[0mtorch\u001b[0m\u001b[1;33m.\u001b[0m\u001b[0mload\u001b[0m\u001b[1;33m(\u001b[0m\u001b[1;34mf\"/content/drive/My Drive/project/URP/checkpoints/{cnn_model.__class__.__name__}_{60}.pth.tar\"\u001b[0m\u001b[1;33m)\u001b[0m\u001b[1;33m\u001b[0m\u001b[1;33m\u001b[0m\u001b[0m\n\u001b[0m\u001b[0;32m      2\u001b[0m \u001b[0mcnn_model\u001b[0m\u001b[1;33m.\u001b[0m\u001b[0mload_state_dict\u001b[0m\u001b[1;33m(\u001b[0m\u001b[0mcheckpoint\u001b[0m\u001b[1;33m[\u001b[0m\u001b[1;34m'model'\u001b[0m\u001b[1;33m]\u001b[0m\u001b[1;33m)\u001b[0m\u001b[1;33m\u001b[0m\u001b[1;33m\u001b[0m\u001b[0m\n",
      "\u001b[1;32m~\\anaconda3\\lib\\site-packages\\torch\\serialization.py\u001b[0m in \u001b[0;36mload\u001b[1;34m(f, map_location, pickle_module, **pickle_load_args)\u001b[0m\n\u001b[0;32m    592\u001b[0m         \u001b[0mpickle_load_args\u001b[0m\u001b[1;33m[\u001b[0m\u001b[1;34m'encoding'\u001b[0m\u001b[1;33m]\u001b[0m \u001b[1;33m=\u001b[0m \u001b[1;34m'utf-8'\u001b[0m\u001b[1;33m\u001b[0m\u001b[1;33m\u001b[0m\u001b[0m\n\u001b[0;32m    593\u001b[0m \u001b[1;33m\u001b[0m\u001b[0m\n\u001b[1;32m--> 594\u001b[1;33m     \u001b[1;32mwith\u001b[0m \u001b[0m_open_file_like\u001b[0m\u001b[1;33m(\u001b[0m\u001b[0mf\u001b[0m\u001b[1;33m,\u001b[0m \u001b[1;34m'rb'\u001b[0m\u001b[1;33m)\u001b[0m \u001b[1;32mas\u001b[0m \u001b[0mopened_file\u001b[0m\u001b[1;33m:\u001b[0m\u001b[1;33m\u001b[0m\u001b[1;33m\u001b[0m\u001b[0m\n\u001b[0m\u001b[0;32m    595\u001b[0m         \u001b[1;32mif\u001b[0m \u001b[0m_is_zipfile\u001b[0m\u001b[1;33m(\u001b[0m\u001b[0mopened_file\u001b[0m\u001b[1;33m)\u001b[0m\u001b[1;33m:\u001b[0m\u001b[1;33m\u001b[0m\u001b[1;33m\u001b[0m\u001b[0m\n\u001b[0;32m    596\u001b[0m             \u001b[1;31m# The zipfile reader is going to advance the current file position.\u001b[0m\u001b[1;33m\u001b[0m\u001b[1;33m\u001b[0m\u001b[1;33m\u001b[0m\u001b[0m\n",
      "\u001b[1;32m~\\anaconda3\\lib\\site-packages\\torch\\serialization.py\u001b[0m in \u001b[0;36m_open_file_like\u001b[1;34m(name_or_buffer, mode)\u001b[0m\n\u001b[0;32m    228\u001b[0m \u001b[1;32mdef\u001b[0m \u001b[0m_open_file_like\u001b[0m\u001b[1;33m(\u001b[0m\u001b[0mname_or_buffer\u001b[0m\u001b[1;33m,\u001b[0m \u001b[0mmode\u001b[0m\u001b[1;33m)\u001b[0m\u001b[1;33m:\u001b[0m\u001b[1;33m\u001b[0m\u001b[1;33m\u001b[0m\u001b[0m\n\u001b[0;32m    229\u001b[0m     \u001b[1;32mif\u001b[0m \u001b[0m_is_path\u001b[0m\u001b[1;33m(\u001b[0m\u001b[0mname_or_buffer\u001b[0m\u001b[1;33m)\u001b[0m\u001b[1;33m:\u001b[0m\u001b[1;33m\u001b[0m\u001b[1;33m\u001b[0m\u001b[0m\n\u001b[1;32m--> 230\u001b[1;33m         \u001b[1;32mreturn\u001b[0m \u001b[0m_open_file\u001b[0m\u001b[1;33m(\u001b[0m\u001b[0mname_or_buffer\u001b[0m\u001b[1;33m,\u001b[0m \u001b[0mmode\u001b[0m\u001b[1;33m)\u001b[0m\u001b[1;33m\u001b[0m\u001b[1;33m\u001b[0m\u001b[0m\n\u001b[0m\u001b[0;32m    231\u001b[0m     \u001b[1;32melse\u001b[0m\u001b[1;33m:\u001b[0m\u001b[1;33m\u001b[0m\u001b[1;33m\u001b[0m\u001b[0m\n\u001b[0;32m    232\u001b[0m         \u001b[1;32mif\u001b[0m \u001b[1;34m'w'\u001b[0m \u001b[1;32min\u001b[0m \u001b[0mmode\u001b[0m\u001b[1;33m:\u001b[0m\u001b[1;33m\u001b[0m\u001b[1;33m\u001b[0m\u001b[0m\n",
      "\u001b[1;32m~\\anaconda3\\lib\\site-packages\\torch\\serialization.py\u001b[0m in \u001b[0;36m__init__\u001b[1;34m(self, name, mode)\u001b[0m\n\u001b[0;32m    209\u001b[0m \u001b[1;32mclass\u001b[0m \u001b[0m_open_file\u001b[0m\u001b[1;33m(\u001b[0m\u001b[0m_opener\u001b[0m\u001b[1;33m)\u001b[0m\u001b[1;33m:\u001b[0m\u001b[1;33m\u001b[0m\u001b[1;33m\u001b[0m\u001b[0m\n\u001b[0;32m    210\u001b[0m     \u001b[1;32mdef\u001b[0m \u001b[0m__init__\u001b[0m\u001b[1;33m(\u001b[0m\u001b[0mself\u001b[0m\u001b[1;33m,\u001b[0m \u001b[0mname\u001b[0m\u001b[1;33m,\u001b[0m \u001b[0mmode\u001b[0m\u001b[1;33m)\u001b[0m\u001b[1;33m:\u001b[0m\u001b[1;33m\u001b[0m\u001b[1;33m\u001b[0m\u001b[0m\n\u001b[1;32m--> 211\u001b[1;33m         \u001b[0msuper\u001b[0m\u001b[1;33m(\u001b[0m\u001b[0m_open_file\u001b[0m\u001b[1;33m,\u001b[0m \u001b[0mself\u001b[0m\u001b[1;33m)\u001b[0m\u001b[1;33m.\u001b[0m\u001b[0m__init__\u001b[0m\u001b[1;33m(\u001b[0m\u001b[0mopen\u001b[0m\u001b[1;33m(\u001b[0m\u001b[0mname\u001b[0m\u001b[1;33m,\u001b[0m \u001b[0mmode\u001b[0m\u001b[1;33m)\u001b[0m\u001b[1;33m)\u001b[0m\u001b[1;33m\u001b[0m\u001b[1;33m\u001b[0m\u001b[0m\n\u001b[0m\u001b[0;32m    212\u001b[0m \u001b[1;33m\u001b[0m\u001b[0m\n\u001b[0;32m    213\u001b[0m     \u001b[1;32mdef\u001b[0m \u001b[0m__exit__\u001b[0m\u001b[1;33m(\u001b[0m\u001b[0mself\u001b[0m\u001b[1;33m,\u001b[0m \u001b[1;33m*\u001b[0m\u001b[0margs\u001b[0m\u001b[1;33m)\u001b[0m\u001b[1;33m:\u001b[0m\u001b[1;33m\u001b[0m\u001b[1;33m\u001b[0m\u001b[0m\n",
      "\u001b[1;31mFileNotFoundError\u001b[0m: [Errno 2] No such file or directory: '/content/drive/My Drive/project/URP/checkpoints/CNN_60.pth.tar'"
     ]
    }
   ],
   "source": [
    "checkpoint = torch.load(f\"/content/drive/My Drive/project/URP/checkpoints/{cnn_model.__class__.__name__}_{60}.pth.tar\")\n",
    "cnn_model.load_state_dict(checkpoint['model'])"
   ]
  },
  {
   "cell_type": "code",
   "execution_count": 12,
   "id": "0QD4xJd-xR6o",
   "metadata": {
    "colab": {
     "base_uri": "https://localhost:8080/"
    },
    "executionInfo": {
     "elapsed": 2725,
     "status": "ok",
     "timestamp": 1632740907565,
     "user": {
      "displayName": "URP colab",
      "photoUrl": "https://lh3.googleusercontent.com/a/default-user=s64",
      "userId": "04730477146096450038"
     },
     "user_tz": -540
    },
    "id": "0QD4xJd-xR6o",
    "outputId": "7e3f3f10-72d1-47f3-e6a7-345655ac524c"
   },
   "outputs": [
    {
     "name": "stdout",
     "output_type": "stream",
     "text": [
      "Files already downloaded and verified\n",
      "Dataset sizes: \t train: 10000 \t val: 1000 \t test: 500\n",
      "Batch size: \t 32\n"
     ]
    }
   ],
   "source": [
    "cifar10_train, cifar10_val, cifar10_test = get_dataset(\"cifar10\", batch_size=32, cuda=0,\n",
    "                  train_size=10000, val_size=1000, test_size=500,\n",
    "                  test_batch_size=10)"
   ]
  },
  {
   "cell_type": "code",
   "execution_count": 13,
   "id": "t5-lRjOj5wg8",
   "metadata": {
    "executionInfo": {
     "elapsed": 5203,
     "status": "ok",
     "timestamp": 1632740916047,
     "user": {
      "displayName": "URP colab",
      "photoUrl": "https://lh3.googleusercontent.com/a/default-user=s64",
      "userId": "04730477146096450038"
     },
     "user_tz": -540
    },
    "id": "t5-lRjOj5wg8"
   },
   "outputs": [],
   "source": [
    "forget, retain = remove_class(cifar10_train, [1])"
   ]
  },
  {
   "cell_type": "code",
   "execution_count": 15,
   "id": "WY9vCv3F55Rq",
   "metadata": {
    "colab": {
     "base_uri": "https://localhost:8080/"
    },
    "executionInfo": {
     "elapsed": 27006,
     "status": "ok",
     "timestamp": 1632740988714,
     "user": {
      "displayName": "URP colab",
      "photoUrl": "https://lh3.googleusercontent.com/a/default-user=s64",
      "userId": "04730477146096450038"
     },
     "user_tz": -540
    },
    "id": "WY9vCv3F55Rq",
    "outputId": "91bd012f-a0b5-49f9-9814-4ae09615c4f6"
   },
   "outputs": [
    {
     "name": "stdout",
     "output_type": "stream",
     "text": [
      "Optimizer: \t  adam\n",
      "\n",
      "Loss function:\n",
      "CrossEntropyLoss()\n",
      "[Logging in CNN_training]\n",
      "[0] train metrics:{\"loss\": 0.0011069272877648473, \"error\": 0.0}\n",
      "Epoch number: 0 :\n",
      " Epoch Time: 0.68 sec\n",
      "[1] train metrics:{\"loss\": 0.00015292831812985241, \"error\": 0.0}\n",
      "Epoch number: 1 :\n",
      " Epoch Time: 0.66 sec\n",
      "[2] train metrics:{\"loss\": 0.00014620687579736114, \"error\": 0.0}\n",
      "Epoch number: 2 :\n",
      " Epoch Time: 0.68 sec\n",
      "[3] train metrics:{\"loss\": 3.642704541562125e-05, \"error\": 0.0}\n",
      "Epoch number: 3 :\n",
      " Epoch Time: 0.66 sec\n",
      "[4] train metrics:{\"loss\": 3.4848766517825425e-05, \"error\": 0.0}\n",
      "Epoch number: 4 :\n",
      " Epoch Time: 0.66 sec\n",
      "[5] train metrics:{\"loss\": 2.515636515454389e-05, \"error\": 0.0}\n",
      "Epoch number: 5 :\n",
      " Epoch Time: 0.67 sec\n",
      "[6] train metrics:{\"loss\": 1.8381886548013426e-05, \"error\": 0.0}\n",
      "Epoch number: 6 :\n",
      " Epoch Time: 0.64 sec\n",
      "[7] train metrics:{\"loss\": 9.373241482535377e-06, \"error\": 0.0}\n",
      "Epoch number: 7 :\n",
      " Epoch Time: 0.65 sec\n",
      "[8] train metrics:{\"loss\": 1.5120691614356474e-06, \"error\": 0.0}\n",
      "Epoch number: 8 :\n",
      " Epoch Time: 0.64 sec\n",
      "[9] train metrics:{\"loss\": 4.329091552790487e-06, \"error\": 0.0}\n",
      "Epoch number: 9 :\n",
      " Epoch Time: 0.66 sec\n",
      "[10] train metrics:{\"loss\": 1.599905203875096e-06, \"error\": 0.0}\n",
      "Epoch number: 10 :\n",
      " Epoch Time: 0.66 sec\n",
      "[11] train metrics:{\"loss\": 3.6201556667947443e-06, \"error\": 0.0}\n",
      "Epoch number: 11 :\n",
      " Epoch Time: 0.66 sec\n",
      "[12] train metrics:{\"loss\": 4.14714577345876e-06, \"error\": 0.0}\n",
      "Epoch number: 12 :\n",
      " Epoch Time: 0.65 sec\n",
      "[13] train metrics:{\"loss\": 1.3337674317881465e-05, \"error\": 0.0}\n",
      "Epoch number: 13 :\n",
      " Epoch Time: 0.69 sec\n",
      "[14] train metrics:{\"loss\": 6.104602562118089e-06, \"error\": 0.0}\n",
      "Epoch number: 14 :\n",
      " Epoch Time: 0.71 sec\n",
      "[15] train metrics:{\"loss\": 4.398123564897105e-06, \"error\": 0.0}\n",
      "Epoch number: 15 :\n",
      " Epoch Time: 0.66 sec\n",
      "[16] train metrics:{\"loss\": 4.3040090531576425e-06, \"error\": 0.0}\n",
      "Epoch number: 16 :\n",
      " Epoch Time: 0.67 sec\n",
      "[17] train metrics:{\"loss\": 4.724355676444247e-06, \"error\": 0.0}\n",
      "Epoch number: 17 :\n",
      " Epoch Time: 0.66 sec\n",
      "[18] train metrics:{\"loss\": 3.1684085115557536e-06, \"error\": 0.0}\n",
      "Epoch number: 18 :\n",
      " Epoch Time: 0.65 sec\n",
      "[19] train metrics:{\"loss\": 1.4054081702852272e-06, \"error\": 0.0}\n",
      "Epoch number: 19 :\n",
      " Epoch Time: 0.68 sec\n",
      "[20] train metrics:{\"loss\": 2.7417806904850295e-06, \"error\": 0.0}\n",
      "Epoch number: 20 :\n",
      " Epoch Time: 0.64 sec\n",
      "[21] train metrics:{\"loss\": 2.208494379374315e-06, \"error\": 0.0}\n",
      "Epoch number: 21 :\n",
      " Epoch Time: 0.66 sec\n",
      "[22] train metrics:{\"loss\": 6.462384476435545e-07, \"error\": 0.0}\n",
      "Epoch number: 22 :\n",
      " Epoch Time: 0.66 sec\n",
      "[23] train metrics:{\"loss\": 4.956400971423136e-06, \"error\": 0.0}\n",
      "Epoch number: 23 :\n",
      " Epoch Time: 0.66 sec\n",
      "[24] train metrics:{\"loss\": 9.41122721087595e-07, \"error\": 0.0}\n",
      "Epoch number: 24 :\n",
      " Epoch Time: 0.66 sec\n",
      "[25] train metrics:{\"loss\": 3.776992571147275e-06, \"error\": 0.0}\n",
      "Epoch number: 25 :\n",
      " Epoch Time: 0.65 sec\n",
      "[26] train metrics:{\"loss\": 1.6249987311311997e-06, \"error\": 0.0}\n",
      "Epoch number: 26 :\n",
      " Epoch Time: 0.65 sec\n",
      "[27] train metrics:{\"loss\": 1.0979734952343279e-06, \"error\": 0.0}\n",
      "Epoch number: 27 :\n",
      " Epoch Time: 0.65 sec\n",
      "[28] train metrics:{\"loss\": 2.396702711848775e-06, \"error\": 0.0}\n",
      "Epoch number: 28 :\n",
      " Epoch Time: 0.66 sec\n",
      "[29] train metrics:{\"loss\": 1.3677614560947404e-06, \"error\": 0.0}\n",
      "Epoch number: 29 :\n",
      " Epoch Time: 0.64 sec\n",
      "[30] train metrics:{\"loss\": 1.0854254242076422e-06, \"error\": 0.0}\n",
      "Epoch number: 30 :\n",
      " Epoch Time: 0.67 sec\n",
      "[31] train metrics:{\"loss\": 1.2171817616035696e-06, \"error\": 0.0}\n",
      "Epoch number: 31 :\n",
      " Epoch Time: 0.64 sec\n",
      "[32] train metrics:{\"loss\": 2.8358876988932025e-06, \"error\": 0.0}\n",
      "Epoch number: 32 :\n",
      " Epoch Time: 0.65 sec\n",
      "[33] train metrics:{\"loss\": 7.968167778926727e-07, \"error\": 0.0}\n",
      "Epoch number: 33 :\n",
      " Epoch Time: 0.66 sec\n",
      "[34] train metrics:{\"loss\": 1.6626421484033926e-06, \"error\": 0.0}\n",
      "Epoch number: 34 :\n",
      " Epoch Time: 0.66 sec\n",
      "[35] train metrics:{\"loss\": 1.3928581665823003e-06, \"error\": 0.0}\n",
      "Epoch number: 35 :\n",
      " Epoch Time: 0.66 sec\n",
      "[36] train metrics:{\"loss\": 7.654468845430529e-07, \"error\": 0.0}\n",
      "Epoch number: 36 :\n",
      " Epoch Time: 0.65 sec\n",
      "[37] train metrics:{\"loss\": 1.091701506084064e-06, \"error\": 0.0}\n",
      "Epoch number: 37 :\n",
      " Epoch Time: 0.68 sec\n",
      "[38] train metrics:{\"loss\": 4.6428823452515644e-07, \"error\": 0.0}\n",
      "Epoch number: 38 :\n",
      " Epoch Time: 0.69 sec\n",
      "[39] train metrics:{\"loss\": 5.458512077893829e-07, \"error\": 0.0}\n",
      "Epoch number: 39 :\n",
      " Epoch Time: 0.71 sec\n",
      "FINISHED TRAINING\n",
      "Forget time is: 26.553462028503418\n"
     ]
    }
   ],
   "source": [
    "neg_gradient(cnn_model, loss='ce', optimizer='adam', epochs=40, device=device, dataset=forget, lossfn=None, train_loader=forget,\n",
    "    scheduler=None, weight_decay=0.0, lr=0.01, momentum=0.9)"
   ]
  },
  {
   "cell_type": "code",
   "execution_count": 17,
   "id": "epUM719O8zC1",
   "metadata": {
    "colab": {
     "base_uri": "https://localhost:8080/"
    },
    "executionInfo": {
     "elapsed": 524,
     "status": "ok",
     "timestamp": 1632741061864,
     "user": {
      "displayName": "URP colab",
      "photoUrl": "https://lh3.googleusercontent.com/a/default-user=s64",
      "userId": "04730477146096450038"
     },
     "user_tz": -540
    },
    "id": "epUM719O8zC1",
    "outputId": "b22acdda-567f-4b59-bd3d-a9c690ad0381"
   },
   "outputs": [
    {
     "name": "stdout",
     "output_type": "stream",
     "text": [
      "CNN_29.pth.tar\tCNN_39.pth.tar\n"
     ]
    }
   ],
   "source": [
    "!ls ./checkpoints/"
   ]
  },
  {
   "cell_type": "code",
   "execution_count": 20,
   "id": "LgUycQQp6h6U",
   "metadata": {
    "colab": {
     "base_uri": "https://localhost:8080/"
    },
    "executionInfo": {
     "elapsed": 2468,
     "status": "ok",
     "timestamp": 1632741143987,
     "user": {
      "displayName": "URP colab",
      "photoUrl": "https://lh3.googleusercontent.com/a/default-user=s64",
      "userId": "04730477146096450038"
     },
     "user_tz": -540
    },
    "id": "LgUycQQp6h6U",
    "outputId": "45b8347d-fc5a-421d-a9d6-b62343754062"
   },
   "outputs": [
    {
     "name": "stdout",
     "output_type": "stream",
     "text": [
      "Optimizer: \t  adam\n",
      "\n",
      "Loss function:\n",
      "CrossEntropyLoss()\n",
      "TESTING\n",
      "[0] test metrics:{\"loss\": 5.251279830932617, \"error\": 0.8620689660310745}\n",
      "FINISHED TESTING\n"
     ]
    }
   ],
   "source": [
    "test(model=cnn_model, loss='ce', lossfn=None, optimizer='adam', device=device, dataset='cifar10', test_loader=retain, at_epoch=39)"
   ]
  },
  {
   "cell_type": "code",
   "execution_count": 21,
   "id": "0RW-GWor8qH8",
   "metadata": {
    "colab": {
     "base_uri": "https://localhost:8080/"
    },
    "executionInfo": {
     "elapsed": 544,
     "status": "ok",
     "timestamp": 1632741154645,
     "user": {
      "displayName": "URP colab",
      "photoUrl": "https://lh3.googleusercontent.com/a/default-user=s64",
      "userId": "04730477146096450038"
     },
     "user_tz": -540
    },
    "id": "0RW-GWor8qH8",
    "outputId": "ebb60811-6ee0-4a1d-9b95-579fb0ab724e"
   },
   "outputs": [
    {
     "name": "stdout",
     "output_type": "stream",
     "text": [
      "Optimizer: \t  adam\n",
      "\n",
      "Loss function:\n",
      "CrossEntropyLoss()\n",
      "TESTING\n",
      "[0] test metrics:{\"loss\": 41.143951416015625, \"error\": 1.0}\n",
      "FINISHED TESTING\n"
     ]
    }
   ],
   "source": [
    "test(model=cnn_model, loss='ce', lossfn=None, optimizer='adam', device=device, dataset='cifar10', test_loader=forget, at_epoch=39)"
   ]
  },
  {
   "cell_type": "code",
   "execution_count": null,
   "id": "0nz5qlqa9NeT",
   "metadata": {
    "id": "0nz5qlqa9NeT"
   },
   "outputs": [],
   "source": []
  }
 ],
 "metadata": {
  "accelerator": "GPU",
  "colab": {
   "collapsed_sections": [],
   "name": "forget_test.ipynb",
   "provenance": []
  },
  "kernelspec": {
   "display_name": "Python 3",
   "language": "python",
   "name": "python3"
  },
  "language_info": {
   "codemirror_mode": {
    "name": "ipython",
    "version": 3
   },
   "file_extension": ".py",
   "mimetype": "text/x-python",
   "name": "python",
   "nbconvert_exporter": "python",
   "pygments_lexer": "ipython3",
   "version": "3.8.5"
  }
 },
 "nbformat": 4,
 "nbformat_minor": 5
}
