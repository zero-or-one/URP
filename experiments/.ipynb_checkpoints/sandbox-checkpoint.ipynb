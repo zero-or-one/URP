{
 "cells": [
  {
   "cell_type": "code",
   "execution_count": 52,
   "id": "e1a0892e",
   "metadata": {},
   "outputs": [],
   "source": [
    "import numpy as np\n",
    "import torch\n",
    "import matplotlib.pyplot as plt\n",
    "%matplotlib inline\n",
    "from torch.autograd import Variable\n",
    "\n",
    "from sklearn.model_selection import train_test_split\n",
    "from sklearn.linear_model import LinearRegression \n",
    "from sklearn.metrics import mean_squared_error\n",
    "import pandas as pd\n"
   ]
  },
  {
   "cell_type": "code",
   "execution_count": 2,
   "id": "cc834a06",
   "metadata": {},
   "outputs": [],
   "source": [
    "#housing = pd.read_csv('housing.csv')\n",
    "# dataset taken from https://www.kaggle.com/camnugent/california-housing-prices#x_train, x_test, y_train, y_test = train_test_split(housing.median_income, housing.median_house_value, test_size = 0.2)\n",
    "#x_train.shape"
   ]
  },
  {
   "cell_type": "code",
   "execution_count": 53,
   "id": "d62a15a9",
   "metadata": {},
   "outputs": [
    {
     "data": {
      "text/plain": [
       "(20, 1)"
      ]
     },
     "execution_count": 53,
     "metadata": {},
     "output_type": "execute_result"
    }
   ],
   "source": [
    "# create dummy data\n",
    "x_values = [i for i in range(20)]\n",
    "x = np.array(x_values, dtype=np.float32)\n",
    "x = x.reshape(-1, 1)\n",
    "\n",
    "y_values = [2*i + 1 +  5*np.random.normal() for i in x_values] # small noise added\n",
    "y = np.array(y_values, dtype=np.float32)\n",
    "y = y.reshape(-1, 1)\n",
    "y.shape"
   ]
  },
  {
   "cell_type": "code",
   "execution_count": 54,
   "id": "34f51fd6",
   "metadata": {},
   "outputs": [
    {
     "data": {
      "text/plain": [
       "[<matplotlib.lines.Line2D at 0x18981962670>]"
      ]
     },
     "execution_count": 54,
     "metadata": {},
     "output_type": "execute_result"
    },
    {
     "data": {
      "image/png": "[encoded data removed]",
      "text/plain": [
       "<Figure size 432x288 with 1 Axes>"
      ]
     },
     "metadata": {
      "needs_background": "light"
     },
     "output_type": "display_data"
    }
   ],
   "source": [
    "plt.plot(x, y, 'go', label='True data', alpha=0.5)"
   ]
  },
  {
   "cell_type": "code",
   "execution_count": 55,
   "id": "8f88db2d",
   "metadata": {},
   "outputs": [],
   "source": [
    "# simple linear regression model\n",
    "class linearRegression(torch.nn.Module):\n",
    "    def __init__(self, inputSize, outputSize):\n",
    "        super(linearRegression, self).__init__()\n",
    "        self.linear = torch.nn.Linear(inputSize, outputSize)\n",
    "\n",
    "    def forward(self, x):\n",
    "        out = self.linear(x)\n",
    "        return out"
   ]
  },
  {
   "cell_type": "code",
   "execution_count": 142,
   "id": "4f40d3ee",
   "metadata": {},
   "outputs": [],
   "source": [
    "inputDim = 1        \n",
    "outputDim = 1      \n",
    "learningRate = 0.005\n",
    "epochs = 200\n",
    "\n",
    "model = linearRegression(inputDim, outputDim)\n",
    "\n",
    "if torch.cuda.is_available():\n",
    "    model.cuda()"
   ]
  },
  {
   "cell_type": "code",
   "execution_count": 143,
   "id": "28179ffc",
   "metadata": {},
   "outputs": [],
   "source": [
    "criterion = torch.nn.MSELoss() \n",
    "optimizer = torch.optim.SGD(model.parameters(), lr=learningRate)"
   ]
  },
  {
   "cell_type": "code",
   "execution_count": 144,
   "id": "3e6240cb",
   "metadata": {},
   "outputs": [
    {
     "name": "stdout",
     "output_type": "stream",
     "text": [
      "epoch 0, loss 401.2725524902344\n",
      "epoch 1, loss 44.56110382080078\n",
      "epoch 2, loss 23.606855392456055\n",
      "epoch 3, loss 22.36855697631836\n",
      "epoch 4, loss 22.288036346435547\n",
      "epoch 5, loss 22.27553367614746\n",
      "epoch 6, loss 22.26706886291504\n",
      "epoch 7, loss 22.25889015197754\n",
      "epoch 8, loss 22.250761032104492\n",
      "epoch 9, loss 22.24268341064453\n",
      "epoch 10, loss 22.234643936157227\n",
      "epoch 11, loss 22.226646423339844\n",
      "epoch 12, loss 22.218692779541016\n",
      "epoch 13, loss 22.21078109741211\n",
      "epoch 14, loss 22.20291519165039\n",
      "epoch 15, loss 22.195087432861328\n",
      "epoch 16, loss 22.187305450439453\n",
      "epoch 17, loss 22.1795597076416\n",
      "epoch 18, loss 22.171857833862305\n",
      "epoch 19, loss 22.164199829101562\n",
      "epoch 20, loss 22.156579971313477\n",
      "epoch 21, loss 22.14900016784668\n",
      "epoch 22, loss 22.141460418701172\n",
      "epoch 23, loss 22.133962631225586\n",
      "epoch 24, loss 22.126506805419922\n",
      "epoch 25, loss 22.119091033935547\n",
      "epoch 26, loss 22.11171531677246\n",
      "epoch 27, loss 22.104373931884766\n",
      "epoch 28, loss 22.097074508666992\n",
      "epoch 29, loss 22.08981704711914\n",
      "epoch 30, loss 22.082597732543945\n",
      "epoch 31, loss 22.075410842895508\n",
      "epoch 32, loss 22.06826400756836\n",
      "epoch 33, loss 22.061153411865234\n",
      "epoch 34, loss 22.054088592529297\n",
      "epoch 35, loss 22.047061920166016\n",
      "epoch 36, loss 22.040063858032227\n",
      "epoch 37, loss 22.033113479614258\n",
      "epoch 38, loss 22.02619171142578\n",
      "epoch 39, loss 22.019311904907227\n",
      "epoch 40, loss 22.012466430664062\n",
      "epoch 41, loss 22.00565528869629\n",
      "epoch 42, loss 21.99888801574707\n",
      "epoch 43, loss 21.992151260375977\n",
      "epoch 44, loss 21.985448837280273\n",
      "epoch 45, loss 21.978788375854492\n",
      "epoch 46, loss 21.9721622467041\n",
      "epoch 47, loss 21.965564727783203\n",
      "epoch 48, loss 21.95901107788086\n",
      "epoch 49, loss 21.952491760253906\n",
      "epoch 50, loss 21.94599723815918\n",
      "epoch 51, loss 21.93954849243164\n",
      "epoch 52, loss 21.93312644958496\n",
      "epoch 53, loss 21.926746368408203\n",
      "epoch 54, loss 21.92039680480957\n",
      "epoch 55, loss 21.914079666137695\n",
      "epoch 56, loss 21.907794952392578\n",
      "epoch 57, loss 21.901546478271484\n",
      "epoch 58, loss 21.89533042907715\n",
      "epoch 59, loss 21.889148712158203\n",
      "epoch 60, loss 21.883005142211914\n",
      "epoch 61, loss 21.87688636779785\n",
      "epoch 62, loss 21.870803833007812\n",
      "epoch 63, loss 21.864749908447266\n",
      "epoch 64, loss 21.85873794555664\n",
      "epoch 65, loss 21.85274887084961\n",
      "epoch 66, loss 21.8467960357666\n",
      "epoch 67, loss 21.840871810913086\n",
      "epoch 68, loss 21.834980010986328\n",
      "epoch 69, loss 21.829120635986328\n",
      "epoch 70, loss 21.823293685913086\n",
      "epoch 71, loss 21.8174991607666\n",
      "epoch 72, loss 21.81172752380371\n",
      "epoch 73, loss 21.80599594116211\n",
      "epoch 74, loss 21.800289154052734\n",
      "epoch 75, loss 21.794618606567383\n",
      "epoch 76, loss 21.78897476196289\n",
      "epoch 77, loss 21.783355712890625\n",
      "epoch 78, loss 21.77777099609375\n",
      "epoch 79, loss 21.772226333618164\n",
      "epoch 80, loss 21.76670265197754\n",
      "epoch 81, loss 21.76120376586914\n",
      "epoch 82, loss 21.7557430267334\n",
      "epoch 83, loss 21.75031089782715\n",
      "epoch 84, loss 21.744895935058594\n",
      "epoch 85, loss 21.739521026611328\n",
      "epoch 86, loss 21.734167098999023\n",
      "epoch 87, loss 21.72884750366211\n",
      "epoch 88, loss 21.723562240600586\n",
      "epoch 89, loss 21.718294143676758\n",
      "epoch 90, loss 21.713064193725586\n",
      "epoch 91, loss 21.70785140991211\n",
      "epoch 92, loss 21.702672958374023\n",
      "epoch 93, loss 21.697521209716797\n",
      "epoch 94, loss 21.692392349243164\n",
      "epoch 95, loss 21.687297821044922\n",
      "epoch 96, loss 21.682231903076172\n",
      "epoch 97, loss 21.677188873291016\n",
      "epoch 98, loss 21.67217254638672\n",
      "epoch 99, loss 21.667179107666016\n",
      "epoch 100, loss 21.66221809387207\n",
      "epoch 101, loss 21.65728187561035\n",
      "epoch 102, loss 21.65237045288086\n",
      "epoch 103, loss 21.647489547729492\n",
      "epoch 104, loss 21.64263153076172\n",
      "epoch 105, loss 21.63780403137207\n",
      "epoch 106, loss 21.63299560546875\n",
      "epoch 107, loss 21.628215789794922\n",
      "epoch 108, loss 21.623462677001953\n",
      "epoch 109, loss 21.61873435974121\n",
      "epoch 110, loss 21.61402702331543\n",
      "epoch 111, loss 21.609352111816406\n",
      "epoch 112, loss 21.60470199584961\n",
      "epoch 113, loss 21.600072860717773\n",
      "epoch 114, loss 21.59546661376953\n",
      "epoch 115, loss 21.59088706970215\n",
      "epoch 116, loss 21.586332321166992\n",
      "epoch 117, loss 21.581806182861328\n",
      "epoch 118, loss 21.577299118041992\n",
      "epoch 119, loss 21.572818756103516\n",
      "epoch 120, loss 21.568357467651367\n",
      "epoch 121, loss 21.563922882080078\n",
      "epoch 122, loss 21.55951499938965\n",
      "epoch 123, loss 21.555126190185547\n",
      "epoch 124, loss 21.550769805908203\n",
      "epoch 125, loss 21.546424865722656\n",
      "epoch 126, loss 21.542110443115234\n",
      "epoch 127, loss 21.53781509399414\n",
      "epoch 128, loss 21.533538818359375\n",
      "epoch 129, loss 21.529298782348633\n",
      "epoch 130, loss 21.525068283081055\n",
      "epoch 131, loss 21.52086639404297\n",
      "epoch 132, loss 21.51668930053711\n",
      "epoch 133, loss 21.512529373168945\n",
      "epoch 134, loss 21.508390426635742\n",
      "epoch 135, loss 21.504283905029297\n",
      "epoch 136, loss 21.500185012817383\n",
      "epoch 137, loss 21.49612045288086\n",
      "epoch 138, loss 21.492069244384766\n",
      "epoch 139, loss 21.488040924072266\n",
      "epoch 140, loss 21.48404312133789\n",
      "epoch 141, loss 21.480058670043945\n",
      "epoch 142, loss 21.47609519958496\n",
      "epoch 143, loss 21.472152709960938\n",
      "epoch 144, loss 21.46823501586914\n",
      "epoch 145, loss 21.464336395263672\n",
      "epoch 146, loss 21.4604549407959\n",
      "epoch 147, loss 21.45659828186035\n",
      "epoch 148, loss 21.452762603759766\n",
      "epoch 149, loss 21.448949813842773\n",
      "epoch 150, loss 21.44515037536621\n",
      "epoch 151, loss 21.44137954711914\n",
      "epoch 152, loss 21.4376220703125\n",
      "epoch 153, loss 21.433887481689453\n",
      "epoch 154, loss 21.4301700592041\n",
      "epoch 155, loss 21.42647361755371\n",
      "epoch 156, loss 21.422801971435547\n",
      "epoch 157, loss 21.419147491455078\n",
      "epoch 158, loss 21.41550636291504\n",
      "epoch 159, loss 21.411893844604492\n",
      "epoch 160, loss 21.408294677734375\n",
      "epoch 161, loss 21.404714584350586\n",
      "epoch 162, loss 21.401153564453125\n",
      "epoch 163, loss 21.397615432739258\n",
      "epoch 164, loss 21.394092559814453\n",
      "epoch 165, loss 21.390592575073242\n",
      "epoch 166, loss 21.387104034423828\n",
      "epoch 167, loss 21.383642196655273\n",
      "epoch 168, loss 21.380197525024414\n",
      "epoch 169, loss 21.376773834228516\n",
      "epoch 170, loss 21.373361587524414\n",
      "epoch 171, loss 21.36996841430664\n",
      "epoch 172, loss 21.366596221923828\n",
      "epoch 173, loss 21.363237380981445\n",
      "epoch 174, loss 21.359899520874023\n",
      "epoch 175, loss 21.35658073425293\n",
      "epoch 176, loss 21.353282928466797\n",
      "epoch 177, loss 21.349994659423828\n",
      "epoch 178, loss 21.346729278564453\n",
      "epoch 179, loss 21.34347915649414\n",
      "epoch 180, loss 21.340246200561523\n",
      "epoch 181, loss 21.337032318115234\n",
      "epoch 182, loss 21.33383560180664\n",
      "epoch 183, loss 21.330650329589844\n",
      "epoch 184, loss 21.32749366760254\n",
      "epoch 185, loss 21.324344635009766\n",
      "epoch 186, loss 21.321216583251953\n",
      "epoch 187, loss 21.318099975585938\n",
      "epoch 188, loss 21.315004348754883\n",
      "epoch 189, loss 21.311925888061523\n",
      "epoch 190, loss 21.308862686157227\n",
      "epoch 191, loss 21.305816650390625\n",
      "epoch 192, loss 21.302783966064453\n",
      "epoch 193, loss 21.29977035522461\n",
      "epoch 194, loss 21.296772003173828\n",
      "epoch 195, loss 21.29378890991211\n",
      "epoch 196, loss 21.290821075439453\n",
      "epoch 197, loss 21.287872314453125\n",
      "epoch 198, loss 21.28493881225586\n",
      "epoch 199, loss 21.28202247619629\n"
     ]
    }
   ],
   "source": [
    "for epoch in range(epochs):\n",
    "    model.train()\n",
    "    # Converting inputs and labels to Variable\n",
    "    if torch.cuda.is_available():\n",
    "        inputs = Variable(torch.from_numpy(x).cuda())\n",
    "        labels = Variable(torch.from_numpy(y).cuda())\n",
    "    else:\n",
    "        inputs = Variable(torch.from_numpy(x))\n",
    "        labels = Variable(torch.from_numpy(y))\n",
    "\n",
    "    # Clear gradient buffers because we don't want any gradient from previous epoch to carry forward, dont want to cummulate gradients\n",
    "    optimizer.zero_grad()\n",
    "\n",
    "    # get output from the model, given the inputs\n",
    "    outputs = model(inputs)\n",
    "\n",
    "    # get loss for the predicted output\n",
    "    loss = criterion(outputs, labels)\n",
    "    #print(loss)\n",
    "    # get gradients w.r.t to parameters\n",
    "    loss.backward()\n",
    "\n",
    "    # update parameters\n",
    "    optimizer.step()\n",
    "\n",
    "    print('epoch {}, loss {}'.format(epoch, loss.item()))"
   ]
  },
  {
   "cell_type": "code",
   "execution_count": 77,
   "id": "7f40d297",
   "metadata": {},
   "outputs": [],
   "source": [
    "with torch.no_grad(): # we don't need gradients in the testing phase\n",
    "    if torch.cuda.is_available():\n",
    "        predicted = model(Variable(torch.from_numpy(x).cuda())).cpu().data.numpy()\n",
    "    else:\n",
    "        predicted = model(Variable(torch.from_numpy(x))).data.numpy()"
   ]
  },
  {
   "cell_type": "code",
   "execution_count": 78,
   "id": "7be966eb",
   "metadata": {},
   "outputs": [
    {
     "data": {
      "image/png": "[encoded data removed]",
      "text/plain": [
       "<Figure size 432x288 with 1 Axes>"
      ]
     },
     "metadata": {
      "needs_background": "light"
     },
     "output_type": "display_data"
    }
   ],
   "source": [
    "plt.clf()\n",
    "plt.plot(x, y, 'go', label='True data', alpha=0.5)\n",
    "plt.plot(x, predicted, '--', label='Predictions', alpha=0.5)\n",
    "plt.legend(loc='best')\n",
    "plt.show()"
   ]
  },
  {
   "cell_type": "code",
   "execution_count": 79,
   "id": "1a006ae1",
   "metadata": {},
   "outputs": [
    {
     "name": "stdout",
     "output_type": "stream",
     "text": [
      "linear.weight tensor([[2.0322]])\n",
      "linear.bias tensor([1.1565])\n"
     ]
    }
   ],
   "source": [
    "for name, param in model.named_parameters():\n",
    "    if param.requires_grad:\n",
    "        print (name, param.data)"
   ]
  },
  {
   "cell_type": "code",
   "execution_count": 80,
   "id": "b062d5ea",
   "metadata": {},
   "outputs": [],
   "source": [
    "# let's delete point at index 2\n",
    "x_r = np.delete(x, [i for i in range(10, 15)])\n",
    "y_r = np.delete(y, [i for i in range(10, 15)])\n",
    "x_r = x_r.reshape(-1, 1)\n",
    "y_r = y_r.reshape(-1, 1)"
   ]
  },
  {
   "cell_type": "code",
   "execution_count": 81,
   "id": "1d30d1c0",
   "metadata": {},
   "outputs": [
    {
     "data": {
      "text/plain": [
       "[<matplotlib.lines.Line2D at 0x189815613d0>]"
      ]
     },
     "execution_count": 81,
     "metadata": {},
     "output_type": "execute_result"
    },
    {
     "data": {
      "image/png": "[encoded data removed]",
      "text/plain": [
       "<Figure size 432x288 with 1 Axes>"
      ]
     },
     "metadata": {
      "needs_background": "light"
     },
     "output_type": "display_data"
    }
   ],
   "source": [
    "plt.plot(x_r, y_r, 'go', label='True data', alpha=0.5)"
   ]
  },
  {
   "cell_type": "code",
   "execution_count": 82,
   "id": "d66eae32",
   "metadata": {},
   "outputs": [],
   "source": [
    "inputDim = 1        \n",
    "outputDim = 1      \n",
    "learningRate = 0.005 \n",
    "epochs = 100\n",
    "\n",
    "model_retrain = linearRegression(inputDim, outputDim)\n",
    "\n",
    "if torch.cuda.is_available():\n",
    "    model_retain.cuda()"
   ]
  },
  {
   "cell_type": "code",
   "execution_count": 83,
   "id": "66f34e11",
   "metadata": {},
   "outputs": [],
   "source": [
    "criterion = torch.nn.MSELoss() \n",
    "optimizer = torch.optim.SGD(model_retrain.parameters(), lr=learningRate)"
   ]
  },
  {
   "cell_type": "code",
   "execution_count": 179,
   "id": "6b44646b",
   "metadata": {},
   "outputs": [
    {
     "name": "stdout",
     "output_type": "stream",
     "text": [
      "epoch 0, loss 23.943668365478516\n",
      "epoch 1, loss 23.943668365478516\n",
      "epoch 2, loss 23.943668365478516\n",
      "epoch 3, loss 23.943668365478516\n",
      "epoch 4, loss 23.943668365478516\n",
      "epoch 5, loss 23.943668365478516\n",
      "epoch 6, loss 23.943668365478516\n",
      "epoch 7, loss 23.943668365478516\n",
      "epoch 8, loss 23.943668365478516\n",
      "epoch 9, loss 23.943668365478516\n",
      "epoch 10, loss 23.943668365478516\n",
      "epoch 11, loss 23.943668365478516\n",
      "epoch 12, loss 23.943668365478516\n",
      "epoch 13, loss 23.943668365478516\n",
      "epoch 14, loss 23.943668365478516\n",
      "epoch 15, loss 23.943668365478516\n",
      "epoch 16, loss 23.943668365478516\n",
      "epoch 17, loss 23.943668365478516\n",
      "epoch 18, loss 23.943668365478516\n",
      "epoch 19, loss 23.943668365478516\n",
      "epoch 20, loss 23.943668365478516\n",
      "epoch 21, loss 23.943668365478516\n",
      "epoch 22, loss 23.943668365478516\n",
      "epoch 23, loss 23.943668365478516\n",
      "epoch 24, loss 23.943668365478516\n",
      "epoch 25, loss 23.943668365478516\n",
      "epoch 26, loss 23.943668365478516\n",
      "epoch 27, loss 23.943668365478516\n",
      "epoch 28, loss 23.943668365478516\n",
      "epoch 29, loss 23.943668365478516\n",
      "epoch 30, loss 23.943668365478516\n",
      "epoch 31, loss 23.943668365478516\n",
      "epoch 32, loss 23.943668365478516\n",
      "epoch 33, loss 23.943668365478516\n",
      "epoch 34, loss 23.943668365478516\n",
      "epoch 35, loss 23.943668365478516\n",
      "epoch 36, loss 23.943668365478516\n",
      "epoch 37, loss 23.943668365478516\n",
      "epoch 38, loss 23.943668365478516\n",
      "epoch 39, loss 23.943668365478516\n",
      "epoch 40, loss 23.943668365478516\n",
      "epoch 41, loss 23.943668365478516\n",
      "epoch 42, loss 23.943668365478516\n",
      "epoch 43, loss 23.943668365478516\n",
      "epoch 44, loss 23.943668365478516\n",
      "epoch 45, loss 23.943668365478516\n",
      "epoch 46, loss 23.943668365478516\n",
      "epoch 47, loss 23.943668365478516\n",
      "epoch 48, loss 23.943668365478516\n",
      "epoch 49, loss 23.943668365478516\n",
      "epoch 50, loss 23.943668365478516\n",
      "epoch 51, loss 23.943668365478516\n",
      "epoch 52, loss 23.943668365478516\n",
      "epoch 53, loss 23.943668365478516\n",
      "epoch 54, loss 23.943668365478516\n",
      "epoch 55, loss 23.943668365478516\n",
      "epoch 56, loss 23.943668365478516\n",
      "epoch 57, loss 23.943668365478516\n",
      "epoch 58, loss 23.943668365478516\n",
      "epoch 59, loss 23.943668365478516\n",
      "epoch 60, loss 23.943668365478516\n",
      "epoch 61, loss 23.943668365478516\n",
      "epoch 62, loss 23.943668365478516\n",
      "epoch 63, loss 23.943668365478516\n",
      "epoch 64, loss 23.943668365478516\n",
      "epoch 65, loss 23.943668365478516\n",
      "epoch 66, loss 23.943668365478516\n",
      "epoch 67, loss 23.943668365478516\n",
      "epoch 68, loss 23.943668365478516\n",
      "epoch 69, loss 23.943668365478516\n",
      "epoch 70, loss 23.943668365478516\n",
      "epoch 71, loss 23.943668365478516\n",
      "epoch 72, loss 23.943668365478516\n",
      "epoch 73, loss 23.943668365478516\n",
      "epoch 74, loss 23.943668365478516\n",
      "epoch 75, loss 23.943668365478516\n",
      "epoch 76, loss 23.943668365478516\n",
      "epoch 77, loss 23.943668365478516\n",
      "epoch 78, loss 23.943668365478516\n",
      "epoch 79, loss 23.943668365478516\n",
      "epoch 80, loss 23.943668365478516\n",
      "epoch 81, loss 23.943668365478516\n",
      "epoch 82, loss 23.943668365478516\n",
      "epoch 83, loss 23.943668365478516\n",
      "epoch 84, loss 23.943668365478516\n",
      "epoch 85, loss 23.943668365478516\n",
      "epoch 86, loss 23.943668365478516\n",
      "epoch 87, loss 23.943668365478516\n",
      "epoch 88, loss 23.943668365478516\n",
      "epoch 89, loss 23.943668365478516\n",
      "epoch 90, loss 23.943668365478516\n",
      "epoch 91, loss 23.943668365478516\n",
      "epoch 92, loss 23.943668365478516\n",
      "epoch 93, loss 23.943668365478516\n",
      "epoch 94, loss 23.943668365478516\n",
      "epoch 95, loss 23.943668365478516\n",
      "epoch 96, loss 23.943668365478516\n",
      "epoch 97, loss 23.943668365478516\n",
      "epoch 98, loss 23.943668365478516\n",
      "epoch 99, loss 23.943668365478516\n",
      "epoch 100, loss 23.943668365478516\n",
      "epoch 101, loss 23.943668365478516\n",
      "epoch 102, loss 23.943668365478516\n",
      "epoch 103, loss 23.943668365478516\n",
      "epoch 104, loss 23.943668365478516\n",
      "epoch 105, loss 23.943668365478516\n",
      "epoch 106, loss 23.943668365478516\n",
      "epoch 107, loss 23.943668365478516\n",
      "epoch 108, loss 23.943668365478516\n",
      "epoch 109, loss 23.943668365478516\n",
      "epoch 110, loss 23.943668365478516\n",
      "epoch 111, loss 23.943668365478516\n",
      "epoch 112, loss 23.943668365478516\n",
      "epoch 113, loss 23.943668365478516\n",
      "epoch 114, loss 23.943668365478516\n",
      "epoch 115, loss 23.943668365478516\n",
      "epoch 116, loss 23.943668365478516\n",
      "epoch 117, loss 23.943668365478516\n",
      "epoch 118, loss 23.943668365478516\n",
      "epoch 119, loss 23.943668365478516\n",
      "epoch 120, loss 23.943668365478516\n",
      "epoch 121, loss 23.943668365478516\n",
      "epoch 122, loss 23.943668365478516\n",
      "epoch 123, loss 23.943668365478516\n",
      "epoch 124, loss 23.943668365478516\n",
      "epoch 125, loss 23.943668365478516\n",
      "epoch 126, loss 23.943668365478516\n",
      "epoch 127, loss 23.943668365478516\n",
      "epoch 128, loss 23.943668365478516\n",
      "epoch 129, loss 23.943668365478516\n",
      "epoch 130, loss 23.943668365478516\n",
      "epoch 131, loss 23.943668365478516\n",
      "epoch 132, loss 23.943668365478516\n",
      "epoch 133, loss 23.943668365478516\n",
      "epoch 134, loss 23.943668365478516\n",
      "epoch 135, loss 23.943668365478516\n",
      "epoch 136, loss 23.943668365478516\n",
      "epoch 137, loss 23.943668365478516\n",
      "epoch 138, loss 23.943668365478516\n",
      "epoch 139, loss 23.943668365478516\n",
      "epoch 140, loss 23.943668365478516\n",
      "epoch 141, loss 23.943668365478516\n",
      "epoch 142, loss 23.943668365478516\n",
      "epoch 143, loss 23.943668365478516\n",
      "epoch 144, loss 23.943668365478516\n",
      "epoch 145, loss 23.943668365478516\n",
      "epoch 146, loss 23.943668365478516\n",
      "epoch 147, loss 23.943668365478516\n",
      "epoch 148, loss 23.943668365478516\n",
      "epoch 149, loss 23.943668365478516\n",
      "epoch 150, loss 23.943668365478516\n",
      "epoch 151, loss 23.943668365478516\n",
      "epoch 152, loss 23.943668365478516\n",
      "epoch 153, loss 23.943668365478516\n",
      "epoch 154, loss 23.943668365478516\n",
      "epoch 155, loss 23.943668365478516\n",
      "epoch 156, loss 23.943668365478516\n",
      "epoch 157, loss 23.943668365478516\n",
      "epoch 158, loss 23.943668365478516\n",
      "epoch 159, loss 23.943668365478516\n",
      "epoch 160, loss 23.943668365478516\n",
      "epoch 161, loss 23.943668365478516\n",
      "epoch 162, loss 23.943668365478516\n",
      "epoch 163, loss 23.943668365478516\n",
      "epoch 164, loss 23.943668365478516\n",
      "epoch 165, loss 23.943668365478516\n",
      "epoch 166, loss 23.943668365478516\n",
      "epoch 167, loss 23.943668365478516\n",
      "epoch 168, loss 23.943668365478516\n",
      "epoch 169, loss 23.943668365478516\n",
      "epoch 170, loss 23.943668365478516\n",
      "epoch 171, loss 23.943668365478516\n",
      "epoch 172, loss 23.943668365478516\n",
      "epoch 173, loss 23.943668365478516\n",
      "epoch 174, loss 23.943668365478516\n",
      "epoch 175, loss 23.943668365478516\n",
      "epoch 176, loss 23.943668365478516\n",
      "epoch 177, loss 23.943668365478516\n",
      "epoch 178, loss 23.943668365478516\n",
      "epoch 179, loss 23.943668365478516\n",
      "epoch 180, loss 23.943668365478516\n",
      "epoch 181, loss 23.943668365478516\n",
      "epoch 182, loss 23.943668365478516\n",
      "epoch 183, loss 23.943668365478516\n",
      "epoch 184, loss 23.943668365478516\n",
      "epoch 185, loss 23.943668365478516\n",
      "epoch 186, loss 23.943668365478516\n",
      "epoch 187, loss 23.943668365478516\n",
      "epoch 188, loss 23.943668365478516\n",
      "epoch 189, loss 23.943668365478516\n",
      "epoch 190, loss 23.943668365478516\n",
      "epoch 191, loss 23.943668365478516\n",
      "epoch 192, loss 23.943668365478516\n",
      "epoch 193, loss 23.943668365478516\n",
      "epoch 194, loss 23.943668365478516\n",
      "epoch 195, loss 23.943668365478516\n",
      "epoch 196, loss 23.943668365478516\n",
      "epoch 197, loss 23.943668365478516\n",
      "epoch 198, loss 23.943668365478516\n",
      "epoch 199, loss 23.943668365478516\n"
     ]
    }
   ],
   "source": [
    "for epoch in range(epochs):\n",
    "    model_retrain.train()\n",
    "    # Converting inputs and labels to Variable\n",
    "    if torch.cuda.is_available():\n",
    "        inputs = Variable(torch.from_numpy(x_r).cuda())\n",
    "        labels = Variable(torch.from_numpy(y_r).cuda())\n",
    "    else:\n",
    "        inputs = Variable(torch.from_numpy(x_r))\n",
    "        labels = Variable(torch.from_numpy(y_r))\n",
    "\n",
    "    # Clear gradient buffers because we don't want any gradient from previous epoch to carry forward, dont want to cummulate gradients\n",
    "    optimizer.zero_grad()\n",
    "\n",
    "    # get output from the model, given the inputs\n",
    "    outputs = model_retrain(inputs)\n",
    "\n",
    "    # get loss for the predicted output\n",
    "    loss = criterion(outputs, labels)\n",
    "    #print(loss)\n",
    "    # get gradients w.r.t to parameters\n",
    "    loss.backward()\n",
    "\n",
    "    # update parameters\n",
    "    optimizer.step()\n",
    "\n",
    "    print('epoch {}, loss {}'.format(epoch, loss.item()))"
   ]
  },
  {
   "cell_type": "code",
   "execution_count": 180,
   "id": "6b07c422",
   "metadata": {},
   "outputs": [],
   "source": [
    "with torch.no_grad(): # we don't need gradients in the testing phase\n",
    "    if torch.cuda.is_available():\n",
    "        predicted_r = model_retrain(Variable(torch.from_numpy(x_r).cuda())).cpu().data.numpy()\n",
    "    else:\n",
    "        predicted_r = model_retrain(Variable(torch.from_numpy(x_r))).data.numpy()"
   ]
  },
  {
   "cell_type": "code",
   "execution_count": 181,
   "id": "a8bcd9e2",
   "metadata": {},
   "outputs": [
    {
     "data": {
      "image/png": "[encoded data removed]",
      "text/plain": [
       "<Figure size 432x288 with 1 Axes>"
      ]
     },
     "metadata": {
      "needs_background": "light"
     },
     "output_type": "display_data"
    }
   ],
   "source": [
    "plt.clf()\n",
    "plt.plot(x_r, y_r, 'go', label='True data', alpha=0.5)\n",
    "plt.plot(x_r, predicted_r, '--', label='Predictions', alpha=0.5)\n",
    "plt.legend(loc='best')\n",
    "plt.show()"
   ]
  },
  {
   "cell_type": "code",
   "execution_count": 182,
   "id": "73f2756b",
   "metadata": {},
   "outputs": [
    {
     "name": "stdout",
     "output_type": "stream",
     "text": [
      "linear.weight tensor([[1.9882]])\n",
      "linear.bias tensor([0.8292])\n"
     ]
    },
    {
     "data": {
      "text/plain": [
       "array([1.9882025, 0.8292452], dtype=float32)"
      ]
     },
     "execution_count": 182,
     "metadata": {},
     "output_type": "execute_result"
    }
   ],
   "source": [
    "weights = np.array([], dtype=np.float32)\n",
    "for name, param in model_retrain.named_parameters():\n",
    "    if param.requires_grad:\n",
    "        print (name, param.data)\n",
    "        weights = np.append(weights, param.data)\n",
    "weights"
   ]
  },
  {
   "cell_type": "code",
   "execution_count": 183,
   "id": "9666286c",
   "metadata": {},
   "outputs": [
    {
     "name": "stderr",
     "output_type": "stream",
     "text": [
      "C:\\Users\\sab\\AppData\\Local\\Temp/ipykernel_5656/2545443786.py:2: UserWarning: color is redundantly defined by the 'color' keyword argument and the fmt string \"go\" (-> color='g'). The keyword argument will take precedence.\n",
      "  plt.plot(x_r, y_r, 'go', color='red', label='Initial data', alpha=0.5)\n"
     ]
    },
    {
     "data": {
      "image/png": "[encoded data removed]",
      "text/plain": [
       "<Figure size 432x288 with 1 Axes>"
      ]
     },
     "metadata": {
      "needs_background": "light"
     },
     "output_type": "display_data"
    }
   ],
   "source": [
    "plt.clf()\n",
    "plt.plot(x_r, y_r, 'go', color='red', label='Initial data', alpha=0.5)\n",
    "plt.plot(x_r, predicted_r, '--', c='red', label='Predictions', alpha=0.5)\n",
    "plt.plot(x, y, 'go', label='Retaied data', alpha=0.5)\n",
    "plt.plot(x, predicted, '--', label='Retrained predictions', alpha=0.5)\n",
    "plt.legend(loc='best')\n",
    "plt.show()"
   ]
  },
  {
   "cell_type": "code",
   "execution_count": 184,
   "id": "dd080d2c",
   "metadata": {},
   "outputs": [],
   "source": [
    "# find the reflected point with respect to a line\n",
    "# for two dimensions we have eqn x_r, y_r = (p(a2−b2)−2b(aq+c)a2+b2,q(b2−a2)−2a(bp+c)a2+b2)\n",
    "def reflected_coordinates(position, parameters):\n",
    "    p, q = position\n",
    "    b, c = parameters\n",
    "    b =-1*b\n",
    "    c =-1*c\n",
    "    a = 1\n",
    "    x_r = p*(a**2 - b**2) - 2*b*(a*q + c)*a**2 + b**2\n",
    "    y_r = q*(b**2 - a**2) - 2*a*(b*p + c)*a**2 + b**2\n",
    "    reflected = ((1 / (a**2 + b**2))*x_r, (1 / (a**2 + b**2))*y_r)\n",
    "    return reflected\n",
    "\n",
    "def reflect(x, y, line):\n",
    "    x_reflected = np.array([], dtype=np.float32)\n",
    "    y_reflected = np.array([], dtype=np.float32)\n",
    "    for i in range(len(x)):\n",
    "        coor = reflected_coordinates((x[i], y[i]), (line[0], line[1]))\n",
    "        x_reflected = np.append(x_reflected, coor[0])\n",
    "        y_reflected = np.append(y_reflected, coor[1])\n",
    "\n",
    "    x_reflected = x_reflected.reshape(-1, 1)\n",
    "    y_reflected = y_reflected.reshape(-1, 1)\n",
    "    return x_reflected, y_reflected\n",
    "\n",
    "def get_weights(model):\n",
    "    weights = np.array([], dtype=np.float32)\n",
    "    for name, param in model.named_parameters():\n",
    "        if param.requires_grad:\n",
    "            weights = np.append(weights, param.data)\n",
    "    return weights\n",
    "#find the geometric center of points\n",
    "#def geometric_center(coor):\n",
    "#    gm = np.sum(coor) / len(coor)\n",
    "#    return gl, len(coor)\n",
    "    "
   ]
  },
  {
   "cell_type": "code",
   "execution_count": 185,
   "id": "07a1af78",
   "metadata": {},
   "outputs": [
    {
     "data": {
      "text/plain": [
       "array([[18.758244],\n",
       "       [23.696842],\n",
       "       [30.165668],\n",
       "       [30.284187],\n",
       "       [33.43646 ]], dtype=float32)"
      ]
     },
     "execution_count": 185,
     "metadata": {},
     "output_type": "execute_result"
    }
   ],
   "source": [
    "x_d = np.array([x[i] for i in range(10, 15)], dtype=np.float32)\n",
    "x_d = x_d.reshape(-1, 1)\n",
    "y_d = np.array([y[i] for i in range(10, 15)], dtype=np.float32)\n",
    "y_d = y_d.reshape(-1, 1)\n",
    "y_d"
   ]
  },
  {
   "cell_type": "code",
   "execution_count": 186,
   "id": "e305dfe7",
   "metadata": {},
   "outputs": [
    {
     "data": {
      "text/plain": [
       "<All keys matched successfully>"
      ]
     },
     "execution_count": 186,
     "metadata": {},
     "output_type": "execute_result"
    }
   ],
   "source": [
    "model_forget = linearRegression(inputDim, outputDim)\n",
    "model_forget.load_state_dict(model.state_dict())"
   ]
  },
  {
   "cell_type": "code",
   "execution_count": 187,
   "id": "30efbb43",
   "metadata": {},
   "outputs": [
    {
     "data": {
      "text/plain": [
       "array([2.1070561 , 0.18496162], dtype=float32)"
      ]
     },
     "execution_count": 187,
     "metadata": {},
     "output_type": "execute_result"
    }
   ],
   "source": [
    "weights = get_weights(model_forget)\n",
    "weights"
   ]
  },
  {
   "cell_type": "code",
   "execution_count": 188,
   "id": "d9efa2f1",
   "metadata": {},
   "outputs": [
    {
     "data": {
      "text/plain": [
       "array([[ 8.88153 ],\n",
       "       [12.075118],\n",
       "       [16.454172],\n",
       "       [15.913655],\n",
       "       [17.723381]], dtype=float32)"
      ]
     },
     "execution_count": 188,
     "metadata": {},
     "output_type": "execute_result"
    }
   ],
   "source": [
    "# make reflected coordinates\n",
    "'''\n",
    "x_reflected = np.array([], dtype=np.float32)\n",
    "y_reflected = np.array([], dtype=np.float32)\n",
    "for i in range(len(x_d)):\n",
    "    coor = reflected_coordinates((x_d[i], y_d[i]), ([2.0176], [2.0155]))\n",
    "    x_reflected = np.append(x_reflected, coor[0])\n",
    "    y_reflected = np.append(y_reflected, coor[1])\n",
    "\n",
    "x_reflected = x_reflected.reshape(-1, 1)\n",
    "y_reflected = y_reflected.reshape(-1, 1)\n",
    "'''\n",
    "x_reflected, y_reflected = reflect(x_d, y_d, weights)\n",
    "x_reflected"
   ]
  },
  {
   "cell_type": "code",
   "execution_count": 189,
   "id": "28a53531",
   "metadata": {},
   "outputs": [],
   "source": [
    "learningRate = 0.0000005\n",
    "criterion = torch.nn.MSELoss() \n",
    "optimizer = torch.optim.SGD(model_forget.parameters(), lr=learningRate)"
   ]
  },
  {
   "cell_type": "code",
   "execution_count": 190,
   "id": "0b82b2f1",
   "metadata": {},
   "outputs": [
    {
     "name": "stdout",
     "output_type": "stream",
     "text": [
      "epoch 0, loss 14.029531478881836\n",
      "epoch 1, loss 14.032605171203613\n",
      "epoch 2, loss 14.035646438598633\n",
      "epoch 3, loss 14.038702011108398\n",
      "epoch 4, loss 14.041784286499023\n",
      "epoch 5, loss 14.0448637008667\n",
      "epoch 6, loss 14.047932624816895\n",
      "epoch 7, loss 14.051007270812988\n",
      "epoch 8, loss 14.054104804992676\n",
      "epoch 9, loss 14.057205200195312\n"
     ]
    }
   ],
   "source": [
    "\n",
    "for epoch in range(10):\n",
    "    model_forget.train()\n",
    "    # Converting inputs and labels to Variable\n",
    "    if torch.cuda.is_available():\n",
    "        inputs = Variable(torch.from_numpy(x_reflected).cuda())\n",
    "        labels = Variable(torch.from_numpy(y_reflected).cuda())\n",
    "    else:\n",
    "        inputs = Variable(torch.from_numpy(x_reflected))\n",
    "        labels = Variable(torch.from_numpy(y_reflected))\n",
    "\n",
    "    # Clear gradient buffers because we don't want any gradient from previous epoch to carry forward, dont want to cummulate gradients\n",
    "    optimizer.zero_grad()\n",
    "\n",
    "    # get output from the model, given the inputs\n",
    "    outputs = model_forget(inputs)\n",
    "\n",
    "    # get loss for the predicted output\n",
    "    loss = criterion(outputs, labels)\n",
    "    #print(loss)\n",
    "    # get gradients w.r.t to parameters\n",
    "    loss.backward()\n",
    "\n",
    "    # update parameters\n",
    "    optimizer.step()\n",
    "    \n",
    "    weights = get_weights(model_forget)\n",
    "    #print(weights)\n",
    "    x_reflected, y_reflected = reflect(x_d, y_d, weights)\n",
    "    #print(x_reflected, y_reflected)\n",
    "\n",
    "    print('epoch {}, loss {}'.format(epoch, loss.item()))"
   ]
  },
  {
   "cell_type": "code",
   "execution_count": 191,
   "id": "5eee4b1f",
   "metadata": {},
   "outputs": [
    {
     "data": {
      "text/plain": [
       "array([2.1065898 , 0.18493457], dtype=float32)"
      ]
     },
     "execution_count": 191,
     "metadata": {},
     "output_type": "execute_result"
    }
   ],
   "source": [
    "get_weights(model_forget)"
   ]
  },
  {
   "cell_type": "code",
   "execution_count": 192,
   "id": "1624c5a5",
   "metadata": {},
   "outputs": [],
   "source": [
    "with torch.no_grad(): # we don't need gradients in the testing phase\n",
    "    if torch.cuda.is_available():\n",
    "        predicted_d = model_forget(Variable(torch.from_numpy(x).cuda())).cpu().data.numpy()\n",
    "    else:\n",
    "        predicted_d = model_forget(Variable(torch.from_numpy(x))).data.numpy()"
   ]
  },
  {
   "cell_type": "code",
   "execution_count": 193,
   "id": "d525c86b",
   "metadata": {},
   "outputs": [
    {
     "name": "stderr",
     "output_type": "stream",
     "text": [
      "C:\\Users\\sab\\AppData\\Local\\Temp/ipykernel_5656/444040868.py:2: UserWarning: color is redundantly defined by the 'color' keyword argument and the fmt string \"go\" (-> color='g'). The keyword argument will take precedence.\n",
      "  plt.plot(x_r, y_r, 'go', color='red', label='Initial data', alpha=0.5)\n"
     ]
    },
    {
     "data": {
      "image/png": "[encoded data removed]",
      "text/plain": [
       "<Figure size 432x288 with 1 Axes>"
      ]
     },
     "metadata": {
      "needs_background": "light"
     },
     "output_type": "display_data"
    }
   ],
   "source": [
    "plt.clf()\n",
    "plt.plot(x_r, y_r, 'go', color='red', label='Initial data', alpha=0.5)\n",
    "plt.plot(x, predicted, '--', c='red', label='Predictions', alpha=0.5)\n",
    "plt.plot(x, y, 'go', label='Retaied data', alpha=0.5)\n",
    "#plt.plot(x_r, predicted_r, '--', label='Retrained predictions', alpha=0.5)\n",
    "plt.plot(x, predicted_d, '--', c='blue', label='Forgetted predictions', alpha=0.5)\n",
    "plt.legend(loc='best')\n",
    "plt.show()"
   ]
  },
  {
   "cell_type": "code",
   "execution_count": 194,
   "id": "b04c978d",
   "metadata": {},
   "outputs": [
    {
     "name": "stderr",
     "output_type": "stream",
     "text": [
      "C:\\Users\\sab\\AppData\\Local\\Temp/ipykernel_5656/3149042205.py:2: UserWarning: color is redundantly defined by the 'color' keyword argument and the fmt string \"go\" (-> color='g'). The keyword argument will take precedence.\n",
      "  plt.plot(x_r, y_r, 'go', color='red', label='Initial data', alpha=0.5)\n"
     ]
    },
    {
     "data": {
      "image/png": "[encoded data removed]",
      "text/plain": [
       "<Figure size 432x288 with 1 Axes>"
      ]
     },
     "metadata": {
      "needs_background": "light"
     },
     "output_type": "display_data"
    }
   ],
   "source": [
    "plt.clf()\n",
    "plt.plot(x_r, y_r, 'go', color='red', label='Initial data', alpha=0.5)\n",
    "#plt.plot(x, predicted, '--', c='red', label='Predictions', alpha=0.5)\n",
    "plt.plot(x, y, 'go', label='Retaied data', alpha=0.5)\n",
    "plt.plot(x_r, predicted_r, '--', label='Retrained predictions', alpha=0.5)\n",
    "plt.plot(x, predicted_d, '--', c='blue', label='Forgetted predictions', alpha=0.5)\n",
    "plt.legend(loc='best')\n",
    "plt.show()"
   ]
  },
  {
   "cell_type": "code",
   "execution_count": null,
   "id": "c393e3f9",
   "metadata": {},
   "outputs": [],
   "source": [
    "# simple linear regression model\n",
    "class MLP(torch.nn.Module):\n",
    "    def __init__(self, inputSize, outputSize):\n",
    "        super(linearRegression, self).__init__()\n",
    "        self.linear = torch.nn.Linear(inputSize, outputSize)\n",
    "\n",
    "    def forward(self, x):\n",
    "        out = self.linear(x)\n",
    "        return out"
   ]
  }
 ],
 "metadata": {
  "kernelspec": {
   "display_name": "Python 3 (ipykernel)",
   "language": "python",
   "name": "python3"
  },
  "language_info": {
   "codemirror_mode": {
    "name": "ipython",
    "version": 3
   },
   "file_extension": ".py",
   "mimetype": "text/x-python",
   "name": "python",
   "nbconvert_exporter": "python",
   "pygments_lexer": "ipython3",
   "version": "3.8.11"
  }
 },
 "nbformat": 4,
 "nbformat_minor": 5
}
