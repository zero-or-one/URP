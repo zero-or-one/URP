{
 "cells": [
  {
   "cell_type": "code",
   "execution_count": 1,
   "metadata": {
    "colab": {
     "base_uri": "https://localhost:8080/"
    },
    "executionInfo": {
     "elapsed": 1848,
     "status": "ok",
     "timestamp": 1632458408882,
     "user": {
      "displayName": "Sabina Abdurakhmanova",
      "photoUrl": "https://lh3.googleusercontent.com/a/default-user=s64",
      "userId": "17258100122457202458"
     },
     "user_tz": -540
    },
    "id": "OYuH5RzACEJS",
    "outputId": "435d5329-3fd0-4b63-b7a0-15bd1d8d2d2b"
   },
   "outputs": [
    {
     "name": "stdout",
     "output_type": "stream",
     "text": [
      "Cloning into 'URP'...\n",
      "remote: Enumerating objects: 457, done.\u001b[K\n",
      "remote: Counting objects: 100% (457/457), done.\u001b[K\n",
      "remote: Compressing objects: 100% (320/320), done.\u001b[K\n",
      "remote: Total 457 (delta 214), reused 280 (delta 106), pack-reused 0\u001b[K\n",
      "Receiving objects: 100% (457/457), 12.25 MiB | 23.76 MiB/s, done.\n",
      "Resolving deltas: 100% (214/214), done.\n"
     ]
    }
   ],
   "source": [
    "'''Using google colab'''\n",
    "!git clone https://github.com/zero-or-one/URP.git"
   ]
  },
  {
   "cell_type": "code",
   "execution_count": 2,
   "metadata": {
    "executionInfo": {
     "elapsed": 4,
     "status": "ok",
     "timestamp": 1632458408883,
     "user": {
      "displayName": "Sabina Abdurakhmanova",
      "photoUrl": "https://lh3.googleusercontent.com/a/default-user=s64",
      "userId": "17258100122457202458"
     },
     "user_tz": -540
    },
    "id": "JGxWojgPybdm"
   },
   "outputs": [],
   "source": [
    "import sys\n",
    "from matplotlib import pyplot as plt\n",
    "%matplotlib inline"
   ]
  },
  {
   "cell_type": "code",
   "execution_count": 3,
   "metadata": {
    "executionInfo": {
     "elapsed": 2,
     "status": "ok",
     "timestamp": 1632458409893,
     "user": {
      "displayName": "Sabina Abdurakhmanova",
      "photoUrl": "https://lh3.googleusercontent.com/a/default-user=s64",
      "userId": "17258100122457202458"
     },
     "user_tz": -540
    },
    "id": "AYmV4tijDOOZ"
   },
   "outputs": [],
   "source": [
    "sys.path.append(\"URP\")\n",
    "sys.path.append(\"URP/learning\")\n",
    "sys.path.append(\"URP/data\")\n",
    "sys.path.append(\"URP/models\")"
   ]
  },
  {
   "cell_type": "code",
   "execution_count": 4,
   "metadata": {
    "executionInfo": {
     "elapsed": 1217,
     "status": "ok",
     "timestamp": 1632458412000,
     "user": {
      "displayName": "Sabina Abdurakhmanova",
      "photoUrl": "https://lh3.googleusercontent.com/a/default-user=s64",
      "userId": "17258100122457202458"
     },
     "user_tz": -540
    },
    "id": "rA96mr6t_5k6"
   },
   "outputs": [],
   "source": [
    "'''Test created models here'''\n",
    "\n",
    "### for pc\n",
    "#sys.path.append(\"..\")\n",
    "#sys.path.append(\"../data\")\n",
    "#sys.path.append(\"../models\")\n",
    "\n",
    "from data import get_dataset, dummy_clusters, dummy_half_doughnuts\n",
    "from models_utils import *\n",
    "import models\n",
    "import torch.nn as nn\n",
    "from learn import *"
   ]
  },
  {
   "cell_type": "code",
   "execution_count": 20,
   "metadata": {
    "colab": {
     "base_uri": "https://localhost:8080/"
    },
    "executionInfo": {
     "elapsed": 216,
     "status": "ok",
     "timestamp": 1632458632588,
     "user": {
      "displayName": "Sabina Abdurakhmanova",
      "photoUrl": "https://lh3.googleusercontent.com/a/default-user=s64",
      "userId": "17258100122457202458"
     },
     "user_tz": -540
    },
    "id": "N1sgTVks_fv7",
    "outputId": "f590fab9-cbe6-4bef-bf2a-3235111ca5de"
   },
   "outputs": [
    {
     "data": {
      "text/plain": [
       "device(type='cuda', index=0)"
      ]
     },
     "execution_count": 20,
     "metadata": {},
     "output_type": "execute_result"
    }
   ],
   "source": [
    "device = torch.device(\"cuda:0\" if torch.cuda.is_available() else \"cpu\")\n",
    "device"
   ]
  },
  {
   "cell_type": "code",
   "execution_count": null,
   "metadata": {
    "colab": {
     "base_uri": "https://localhost:8080/"
    },
    "executionInfo": {
     "elapsed": 4,
     "status": "ok",
     "timestamp": 1632382884907,
     "user": {
      "displayName": "Sabina Abdurakhmanova",
      "photoUrl": "https://lh3.googleusercontent.com/a/default-user=s64",
      "userId": "17258100122457202458"
     },
     "user_tz": -540
    },
    "id": "p21LJME8_fv-",
    "outputId": "2f16dc8b-0080-4ab1-ce5d-1376d884bab3"
   },
   "outputs": [
    {
     "name": "stdout",
     "output_type": "stream",
     "text": [
      "CNN\n"
     ]
    }
   ],
   "source": [
    "cnn = {\"filters_percentage\": 1, \"n_channels\":3,\"num_classes\": 50, \"dropout\": True, \"batch_norm\": True}\n",
    "cnn_model = get_model(\"cnn\", **cnn)\n",
    "print(cnn_model.__class__.__name__)"
   ]
  },
  {
   "cell_type": "code",
   "execution_count": 11,
   "metadata": {
    "colab": {
     "base_uri": "https://localhost:8080/"
    },
    "executionInfo": {
     "elapsed": 2278,
     "status": "ok",
     "timestamp": 1632458554567,
     "user": {
      "displayName": "Sabina Abdurakhmanova",
      "photoUrl": "https://lh3.googleusercontent.com/a/default-user=s64",
      "userId": "17258100122457202458"
     },
     "user_tz": -540
    },
    "id": "9nPxr2ri_fv_",
    "outputId": "67ab423f-fcf7-4cef-f7f9-979c08280c46"
   },
   "outputs": [
    {
     "name": "stdout",
     "output_type": "stream",
     "text": [
      "Files already downloaded and verified\n",
      "Dataset sizes: \t train: 10000 \t val: 1000 \t test: 500\n",
      "Batch size: \t 32\n"
     ]
    }
   ],
   "source": [
    "cifar10_train, cifar10_val, cifar10_test = get_dataset(\"cifar10\", batch_size=32, cuda=0,\n",
    "                  train_size=10000, val_size=1000, test_size=500,\n",
    "                  test_batch_size=10)"
   ]
  },
  {
   "cell_type": "code",
   "execution_count": null,
   "metadata": {
    "colab": {
     "base_uri": "https://localhost:8080/",
     "height": 1000
    },
    "executionInfo": {
     "elapsed": 801854,
     "status": "ok",
     "timestamp": 1632383941431,
     "user": {
      "displayName": "Sabina Abdurakhmanova",
      "photoUrl": "https://lh3.googleusercontent.com/a/default-user=s64",
      "userId": "17258100122457202458"
     },
     "user_tz": -540
    },
    "id": "RnFl9GMs_fwA",
    "outputId": "b94be71d-b728-4f07-8ca6-05ad456c3f1d",
    "scrolled": false
   },
   "outputs": [
    {
     "name": "stdout",
     "output_type": "stream",
     "text": [
      "Optimizer: \t  adam\n",
      "\n",
      "Loss function:\n",
      "CrossEntropyLoss()\n",
      "[Logging in CNN_training]\n",
      "[0] train metrics:{\"loss\": 1.5637495517730713, \"error\": 0.4375}\n",
      "[0] test metrics:{\"loss\": 0.8987796306610107, \"error\": 0.5}\n",
      "0.8987796306610107\n",
      "validation loss  0.8987796306610107\n",
      "Epoch number: 0 \n",
      "Epoch Time: 13.27 sec\n",
      "[1] train metrics:{\"loss\": 1.1687754392623901, \"error\": 0.4375}\n",
      "[1] test metrics:{\"loss\": 1.5070515871047974, \"error\": 0.5}\n",
      "1.5070515871047974\n",
      "validation loss  1.5070515871047974\n",
      "Epoch number: 1 \n",
      "Epoch Time: 13.18 sec\n",
      "[2] train metrics:{\"loss\": 1.402037262916565, \"error\": 0.625}\n",
      "[2] test metrics:{\"loss\": 1.3658870458602905, \"error\": 0.375}\n",
      "1.3658870458602905\n",
      "validation loss  1.3658870458602905\n",
      "Epoch number: 2 \n",
      "Epoch Time: 13.27 sec\n",
      "[3] train metrics:{\"loss\": 1.2812395095825195, \"error\": 0.375}\n",
      "[3] test metrics:{\"loss\": 0.9951825737953186, \"error\": 0.625}\n",
      "0.9951825737953186\n",
      "validation loss  0.9951825737953186\n",
      "Epoch number: 3 \n",
      "Epoch Time: 13.28 sec\n",
      "[4] train metrics:{\"loss\": 1.5567991733551025, \"error\": 0.4375}\n",
      "[4] test metrics:{\"loss\": 0.9262835383415222, \"error\": 0.375}\n",
      "0.9262835383415222\n",
      "validation loss  0.9262835383415222\n",
      "Epoch number: 4 \n",
      "Epoch Time: 13.37 sec\n",
      "[5] train metrics:{\"loss\": 1.3012961149215698, \"error\": 0.625}\n",
      "[5] test metrics:{\"loss\": 0.7686613202095032, \"error\": 0.125}\n",
      "0.7686613202095032\n",
      "validation loss  0.7686613202095032\n",
      "Epoch number: 5 \n",
      "Epoch Time: 13.32 sec\n",
      "[6] train metrics:{\"loss\": 0.5482046008110046, \"error\": 0.125}\n",
      "[6] test metrics:{\"loss\": 0.6453659534454346, \"error\": 0.125}\n",
      "0.6453659534454346\n",
      "validation loss  0.6453659534454346\n",
      "Epoch number: 6 \n",
      "Epoch Time: 13.37 sec\n",
      "[7] train metrics:{\"loss\": 1.1885117292404175, \"error\": 0.375}\n",
      "[7] test metrics:{\"loss\": 0.5270869731903076, \"error\": 0.25}\n",
      "0.5270869731903076\n",
      "validation loss  0.5270869731903076\n",
      "Epoch number: 7 \n",
      "Epoch Time: 13.33 sec\n",
      "[8] train metrics:{\"loss\": 0.7428224682807922, \"error\": 0.1875}\n",
      "[8] test metrics:{\"loss\": 0.9213470220565796, \"error\": 0.375}\n",
      "0.9213470220565796\n",
      "validation loss  0.9213470220565796\n",
      "Epoch number: 8 \n",
      "Epoch Time: 13.37 sec\n",
      "[9] train metrics:{\"loss\": 0.5858175158500671, \"error\": 0.25}\n",
      "[9] test metrics:{\"loss\": 0.9111455082893372, \"error\": 0.25}\n",
      "0.9111455082893372\n",
      "validation loss  0.9111455082893372\n",
      "Epoch number: 9 \n",
      "Epoch Time: 13.3 sec\n",
      "[10] train metrics:{\"loss\": 1.453611969947815, \"error\": 0.5}\n",
      "[10] test metrics:{\"loss\": 0.9219094514846802, \"error\": 0.375}\n",
      "0.9219094514846802\n",
      "validation loss  0.9219094514846802\n",
      "Epoch number: 10 \n",
      "Epoch Time: 13.39 sec\n",
      "[11] train metrics:{\"loss\": 0.7874013781547546, \"error\": 0.3125}\n",
      "[11] test metrics:{\"loss\": 0.4304284155368805, \"error\": 0.375}\n",
      "0.4304284155368805\n",
      "validation loss  0.4304284155368805\n",
      "Epoch number: 11 \n",
      "Epoch Time: 13.34 sec\n",
      "[12] train metrics:{\"loss\": 1.6331623792648315, \"error\": 0.5625}\n",
      "[12] test metrics:{\"loss\": 0.5660381317138672, \"error\": 0.25}\n",
      "0.5660381317138672\n",
      "validation loss  0.5660381317138672\n",
      "Epoch number: 12 \n",
      "Epoch Time: 13.35 sec\n",
      "[13] train metrics:{\"loss\": 0.5035557746887207, \"error\": 0.0625}\n",
      "[13] test metrics:{\"loss\": 0.3323100805282593, \"error\": 0.125}\n",
      "0.3323100805282593\n",
      "validation loss  0.3323100805282593\n",
      "Epoch number: 13 \n",
      "Epoch Time: 13.31 sec\n",
      "[14] train metrics:{\"loss\": 1.3535337448120117, \"error\": 0.375}\n",
      "[14] test metrics:{\"loss\": 0.9397281408309937, \"error\": 0.5}\n",
      "0.9397281408309937\n",
      "validation loss  0.9397281408309937\n",
      "Epoch number: 14 \n",
      "Epoch Time: 13.38 sec\n",
      "[15] train metrics:{\"loss\": 1.0297194719314575, \"error\": 0.375}\n",
      "[15] test metrics:{\"loss\": 0.7993668913841248, \"error\": 0.25}\n",
      "0.7993668913841248\n",
      "validation loss  0.7993668913841248\n",
      "Epoch number: 15 \n",
      "Epoch Time: 13.33 sec\n",
      "[16] train metrics:{\"loss\": 0.7803403735160828, \"error\": 0.125}\n",
      "[16] test metrics:{\"loss\": 0.9336740970611572, \"error\": 0.25}\n",
      "0.9336740970611572\n",
      "validation loss  0.9336740970611572\n",
      "Epoch number: 16 \n",
      "Epoch Time: 13.37 sec\n",
      "[17] train metrics:{\"loss\": 0.688714325428009, \"error\": 0.25}\n",
      "[17] test metrics:{\"loss\": 0.38872116804122925, \"error\": 0.25}\n",
      "0.38872116804122925\n",
      "validation loss  0.38872116804122925\n",
      "Epoch number: 17 \n",
      "Epoch Time: 13.3 sec\n",
      "[18] train metrics:{\"loss\": 1.1419882774353027, \"error\": 0.4375}\n",
      "[18] test metrics:{\"loss\": 0.3643113076686859, \"error\": 0.125}\n",
      "0.3643113076686859\n",
      "validation loss  0.3643113076686859\n",
      "Epoch number: 18 \n",
      "Epoch Time: 13.33 sec\n",
      "[19] train metrics:{\"loss\": 0.9020168781280518, \"error\": 0.4375}\n",
      "[19] test metrics:{\"loss\": 0.4233596920967102, \"error\": 0.125}\n",
      "0.4233596920967102\n",
      "validation loss  0.4233596920967102\n",
      "Epoch number: 19 \n",
      "Epoch Time: 13.33 sec\n",
      "[20] train metrics:{\"loss\": 0.32021546363830566, \"error\": 0.125}\n",
      "[20] test metrics:{\"loss\": 0.36899855732917786, \"error\": 0.25}\n",
      "0.36899855732917786\n",
      "validation loss  0.36899855732917786\n",
      "Epoch number: 20 \n",
      "Epoch Time: 13.38 sec\n",
      "[21] train metrics:{\"loss\": 0.6460581421852112, \"error\": 0.25}\n",
      "[21] test metrics:{\"loss\": 0.28182148933410645, \"error\": 0.125}\n",
      "0.28182148933410645\n",
      "validation loss  0.28182148933410645\n",
      "Epoch number: 21 \n",
      "Epoch Time: 13.32 sec\n",
      "[22] train metrics:{\"loss\": 0.4807853102684021, \"error\": 0.1875}\n",
      "[22] test metrics:{\"loss\": 0.7711544632911682, \"error\": 0.375}\n",
      "0.7711544632911682\n",
      "validation loss  0.7711544632911682\n",
      "Epoch number: 22 \n",
      "Epoch Time: 13.39 sec\n",
      "[23] train metrics:{\"loss\": 0.20746424794197083, \"error\": 0.0625}\n",
      "[23] test metrics:{\"loss\": 0.5389783978462219, \"error\": 0.125}\n",
      "0.5389783978462219\n",
      "validation loss  0.5389783978462219\n",
      "Epoch number: 23 \n",
      "Epoch Time: 13.36 sec\n",
      "[24] train metrics:{\"loss\": 0.43595027923583984, \"error\": 0.125}\n",
      "[24] test metrics:{\"loss\": 0.46019551157951355, \"error\": 0.125}\n",
      "0.46019551157951355\n",
      "validation loss  0.46019551157951355\n",
      "Epoch number: 24 \n",
      "Epoch Time: 13.35 sec\n",
      "[25] train metrics:{\"loss\": 0.4166382849216461, \"error\": 0.125}\n",
      "[25] test metrics:{\"loss\": 0.3410584330558777, \"error\": 0.125}\n",
      "0.3410584330558777\n",
      "validation loss  0.3410584330558777\n",
      "Epoch number: 25 \n",
      "Epoch Time: 13.31 sec\n",
      "[26] train metrics:{\"loss\": 0.6595858335494995, \"error\": 0.25}\n",
      "[26] test metrics:{\"loss\": 0.42976754903793335, \"error\": 0.125}\n",
      "0.42976754903793335\n",
      "validation loss  0.42976754903793335\n",
      "Epoch number: 26 \n",
      "Epoch Time: 13.39 sec\n",
      "[27] train metrics:{\"loss\": 0.47001177072525024, \"error\": 0.1875}\n",
      "[27] test metrics:{\"loss\": 0.22411569952964783, \"error\": 0.125}\n",
      "0.22411569952964783\n",
      "validation loss  0.22411569952964783\n",
      "Epoch number: 27 \n",
      "Epoch Time: 13.34 sec\n",
      "[28] train metrics:{\"loss\": 0.7162467837333679, \"error\": 0.25}\n",
      "[28] test metrics:{\"loss\": 0.9204796552658081, \"error\": 0.375}\n",
      "0.9204796552658081\n",
      "validation loss  0.9204796552658081\n",
      "Epoch number: 28 \n",
      "Epoch Time: 13.37 sec\n",
      "[29] train metrics:{\"loss\": 0.37067171931266785, \"error\": 0.0625}\n",
      "[29] test metrics:{\"loss\": 0.5967943072319031, \"error\": 0.25}\n",
      "0.5967943072319031\n",
      "validation loss  0.5967943072319031\n",
      "Epoch number: 29 \n",
      "Epoch Time: 13.33 sec\n",
      "[30] train metrics:{\"loss\": 0.5691519975662231, \"error\": 0.125}\n",
      "[30] test metrics:{\"loss\": 0.14460419118404388, \"error\": 0.0}\n",
      "0.14460419118404388\n",
      "validation loss  0.14460419118404388\n",
      "Epoch number: 30 \n",
      "Epoch Time: 13.4 sec\n",
      "[31] train metrics:{\"loss\": 0.25877025723457336, \"error\": 0.125}\n",
      "[31] test metrics:{\"loss\": 0.2568221688270569, \"error\": 0.125}\n",
      "0.2568221688270569\n",
      "validation loss  0.2568221688270569\n",
      "Epoch number: 31 \n",
      "Epoch Time: 13.31 sec\n",
      "[32] train metrics:{\"loss\": 0.33361998200416565, \"error\": 0.125}\n",
      "[32] test metrics:{\"loss\": 0.17451249063014984, \"error\": 0.0}\n",
      "0.17451249063014984\n",
      "validation loss  0.17451249063014984\n",
      "Epoch number: 32 \n",
      "Epoch Time: 13.37 sec\n",
      "[33] train metrics:{\"loss\": 0.25584694743156433, \"error\": 0.0625}\n",
      "[33] test metrics:{\"loss\": 0.07115364074707031, \"error\": 0.0}\n",
      "0.07115364074707031\n",
      "validation loss  0.07115364074707031\n",
      "Epoch number: 33 \n",
      "Epoch Time: 13.32 sec\n",
      "[34] train metrics:{\"loss\": 0.26833999156951904, \"error\": 0.0625}\n",
      "[34] test metrics:{\"loss\": 0.040779147297143936, \"error\": 0.0}\n",
      "0.040779147297143936\n",
      "validation loss  0.040779147297143936\n",
      "Epoch number: 34 \n",
      "Epoch Time: 13.4 sec\n",
      "[35] train metrics:{\"loss\": 0.5053853392601013, \"error\": 0.125}\n",
      "[35] test metrics:{\"loss\": 0.2826012372970581, \"error\": 0.125}\n",
      "0.2826012372970581\n",
      "validation loss  0.2826012372970581\n",
      "Epoch number: 35 \n",
      "Epoch Time: 13.35 sec\n",
      "[36] train metrics:{\"loss\": 0.5304118394851685, \"error\": 0.1875}\n",
      "[36] test metrics:{\"loss\": 0.06439749896526337, \"error\": 0.0}\n",
      "0.06439749896526337\n",
      "validation loss  0.06439749896526337\n",
      "Epoch number: 36 \n",
      "Epoch Time: 13.41 sec\n",
      "[37] train metrics:{\"loss\": 0.266136109828949, \"error\": 0.125}\n",
      "[37] test metrics:{\"loss\": 0.29258835315704346, \"error\": 0.125}\n",
      "0.29258835315704346\n",
      "validation loss  0.29258835315704346\n",
      "Epoch number: 37 \n",
      "Epoch Time: 13.33 sec\n",
      "[38] train metrics:{\"loss\": 0.12574824690818787, \"error\": 0.0}\n",
      "[38] test metrics:{\"loss\": 0.11460107564926147, \"error\": 0.0}\n",
      "0.11460107564926147\n",
      "validation loss  0.11460107564926147\n",
      "Epoch number: 38 \n",
      "Epoch Time: 13.4 sec\n",
      "[39] train metrics:{\"loss\": 0.5342303514480591, \"error\": 0.1875}\n",
      "[39] test metrics:{\"loss\": 0.10325109958648682, \"error\": 0.0}\n",
      "0.10325109958648682\n",
      "validation loss  0.10325109958648682\n",
      "Epoch number: 39 \n",
      "Epoch Time: 13.3 sec\n",
      "[40] train metrics:{\"loss\": 0.22161199152469635, \"error\": 0.0625}\n",
      "[40] test metrics:{\"loss\": 0.20138275623321533, \"error\": 0.125}\n",
      "0.20138275623321533\n",
      "validation loss  0.20138275623321533\n",
      "Epoch number: 40 \n",
      "Epoch Time: 13.35 sec\n",
      "[41] train metrics:{\"loss\": 0.3365767300128937, \"error\": 0.1875}\n",
      "[41] test metrics:{\"loss\": 0.08075214922428131, \"error\": 0.0}\n",
      "0.08075214922428131\n",
      "validation loss  0.08075214922428131\n",
      "Epoch number: 41 \n",
      "Epoch Time: 13.29 sec\n",
      "[42] train metrics:{\"loss\": 0.34338894486427307, \"error\": 0.1875}\n",
      "[42] test metrics:{\"loss\": 0.1391703486442566, \"error\": 0.125}\n",
      "0.1391703486442566\n",
      "validation loss  0.1391703486442566\n",
      "Epoch number: 42 \n",
      "Epoch Time: 13.36 sec\n",
      "[43] train metrics:{\"loss\": 0.9843363761901855, \"error\": 0.3125}\n",
      "[43] test metrics:{\"loss\": 0.06572137027978897, \"error\": 0.0}\n",
      "0.06572137027978897\n",
      "validation loss  0.06572137027978897\n",
      "Epoch number: 43 \n",
      "Epoch Time: 13.38 sec\n",
      "[44] train metrics:{\"loss\": 0.23966370522975922, \"error\": 0.0625}\n",
      "[44] test metrics:{\"loss\": 0.13828682899475098, \"error\": 0.125}\n",
      "0.13828682899475098\n",
      "validation loss  0.13828682899475098\n",
      "Epoch number: 44 \n",
      "Epoch Time: 13.38 sec\n",
      "[45] train metrics:{\"loss\": 0.04685991629958153, \"error\": 0.0}\n",
      "[45] test metrics:{\"loss\": 0.11057408154010773, \"error\": 0.0}\n",
      "0.11057408154010773\n",
      "validation loss  0.11057408154010773\n",
      "Epoch number: 45 \n",
      "Epoch Time: 13.31 sec\n",
      "[46] train metrics:{\"loss\": 0.22431719303131104, \"error\": 0.0625}\n",
      "[46] test metrics:{\"loss\": 0.08510152995586395, \"error\": 0.0}\n",
      "0.08510152995586395\n",
      "validation loss  0.08510152995586395\n",
      "Epoch number: 46 \n",
      "Epoch Time: 13.37 sec\n",
      "[47] train metrics:{\"loss\": 0.08442853391170502, \"error\": 0.0}\n",
      "[47] test metrics:{\"loss\": 0.10008236020803452, \"error\": 0.125}\n",
      "0.10008236020803452\n",
      "validation loss  0.10008236020803452\n",
      "Epoch number: 47 \n",
      "Epoch Time: 13.36 sec\n",
      "[48] train metrics:{\"loss\": 0.6452605128288269, \"error\": 0.125}\n",
      "[48] test metrics:{\"loss\": 0.04979749023914337, \"error\": 0.0}\n",
      "0.04979749023914337\n",
      "validation loss  0.04979749023914337\n",
      "Epoch number: 48 \n",
      "Epoch Time: 13.39 sec\n",
      "[49] train metrics:{\"loss\": 0.41675442457199097, \"error\": 0.25}\n",
      "[49] test metrics:{\"loss\": 0.04256374016404152, \"error\": 0.0}\n",
      "0.04256374016404152\n",
      "validation loss  0.04256374016404152\n",
      "Epoch number: 49 \n",
      "Epoch Time: 13.3 sec\n",
      "[50] train metrics:{\"loss\": 0.24034447968006134, \"error\": 0.1875}\n",
      "[50] test metrics:{\"loss\": 0.11712250858545303, \"error\": 0.0}\n",
      "0.11712250858545303\n",
      "validation loss  0.11712250858545303\n",
      "Epoch number: 50 \n",
      "Epoch Time: 13.37 sec\n",
      "[51] train metrics:{\"loss\": 0.42353418469429016, \"error\": 0.125}\n",
      "[51] test metrics:{\"loss\": 0.02091287635266781, \"error\": 0.0}\n",
      "0.02091287635266781\n",
      "validation loss  0.02091287635266781\n",
      "Epoch number: 51 \n",
      "Epoch Time: 13.37 sec\n",
      "[52] train metrics:{\"loss\": 0.4498348534107208, \"error\": 0.125}\n",
      "[52] test metrics:{\"loss\": 0.014114896766841412, \"error\": 0.0}\n",
      "0.014114896766841412\n",
      "validation loss  0.014114896766841412\n",
      "Epoch number: 52 \n",
      "Epoch Time: 13.4 sec\n",
      "[53] train metrics:{\"loss\": 0.14406758546829224, \"error\": 0.0625}\n",
      "[53] test metrics:{\"loss\": 0.013113675639033318, \"error\": 0.0}\n",
      "0.013113675639033318\n",
      "validation loss  0.013113675639033318\n",
      "Epoch number: 53 \n",
      "Epoch Time: 13.34 sec\n",
      "[54] train metrics:{\"loss\": 0.3219001591205597, \"error\": 0.125}\n",
      "[54] test metrics:{\"loss\": 0.12653803825378418, \"error\": 0.125}\n",
      "0.12653803825378418\n",
      "validation loss  0.12653803825378418\n",
      "Epoch number: 54 \n",
      "Epoch Time: 13.38 sec\n",
      "[55] train metrics:{\"loss\": 0.22875092923641205, \"error\": 0.125}\n",
      "[55] test metrics:{\"loss\": 0.031747397035360336, \"error\": 0.0}\n",
      "0.031747397035360336\n",
      "validation loss  0.031747397035360336\n",
      "Epoch number: 55 \n",
      "Epoch Time: 13.33 sec\n",
      "[56] train metrics:{\"loss\": 0.07335121184587479, \"error\": 0.0}\n",
      "[56] test metrics:{\"loss\": 0.031188905239105225, \"error\": 0.0}\n",
      "0.031188905239105225\n",
      "validation loss  0.031188905239105225\n",
      "Epoch number: 56 \n",
      "Epoch Time: 13.43 sec\n",
      "[57] train metrics:{\"loss\": 0.5331816673278809, \"error\": 0.25}\n",
      "[57] test metrics:{\"loss\": 0.09035468101501465, \"error\": 0.0}\n",
      "0.09035468101501465\n",
      "validation loss  0.09035468101501465\n",
      "Epoch number: 57 \n",
      "Epoch Time: 13.28 sec\n",
      "[58] train metrics:{\"loss\": 0.133612722158432, \"error\": 0.125}\n",
      "[58] test metrics:{\"loss\": 0.020448971539735794, \"error\": 0.0}\n",
      "0.020448971539735794\n",
      "validation loss  0.020448971539735794\n",
      "Epoch number: 58 \n",
      "Epoch Time: 13.34 sec\n",
      "[59] train metrics:{\"loss\": 0.16675572097301483, \"error\": 0.125}\n",
      "[59] test metrics:{\"loss\": 0.11330584436655045, \"error\": 0.0}\n",
      "0.11330584436655045\n",
      "validation loss  0.11330584436655045\n",
      "Epoch number: 59 \n",
      "Epoch Time: 13.31 sec\n",
      "FINISHED TRAINING\n"
     ]
    },
    {
     "data": {
      "image/png": "[encoded data removed]",
      "text/plain": [
       "<Figure size 720x360 with 1 Axes>"
      ]
     },
     "metadata": {
      "needs_background": "light"
     },
     "output_type": "display_data"
    },
    {
     "data": {
      "image/png": "[encoded data removed]",
      "text/plain": [
       "<Figure size 720x360 with 1 Axes>"
      ]
     },
     "metadata": {
      "needs_background": "light"
     },
     "output_type": "display_data"
    }
   ],
   "source": [
    "train(model=cnn_model, loss='ce', optimizer='adam', scheduler=None, epochs=60, device=device, dataset='cifar10', lossfn=None, train_loader=cifar10_train,\n",
    "      val_loader=cifar10_val, weight_decay=0.0, lr=0.001, momentum=0, patience=10, min_delta=-2)"
   ]
  },
  {
   "cell_type": "code",
   "execution_count": null,
   "metadata": {
    "colab": {
     "base_uri": "https://localhost:8080/"
    },
    "executionInfo": {
     "elapsed": 629,
     "status": "ok",
     "timestamp": 1632383963914,
     "user": {
      "displayName": "Sabina Abdurakhmanova",
      "photoUrl": "https://lh3.googleusercontent.com/a/default-user=s64",
      "userId": "17258100122457202458"
     },
     "user_tz": -540
    },
    "id": "rilGo5V5b8ud",
    "outputId": "db48adce-7c27-4b29-d2e9-f2b880a92653"
   },
   "outputs": [
    {
     "name": "stdout",
     "output_type": "stream",
     "text": [
      "Optimizer: \t  adam\n",
      "\n",
      "Loss function:\n",
      "CrossEntropyLoss()\n",
      "TESTING\n",
      "[0] test metrics:{\"loss\": 0.20632104575634003, \"error\": 0.09999996423721313}\n",
      "FINISHED TESTING\n"
     ]
    }
   ],
   "source": [
    "test(model=cnn_model, loss='ce', lossfn=None, optimizer='adam', device=device, dataset='cifar10', test_loader=cifar10_test, at_epoch=60)"
   ]
  },
  {
   "cell_type": "code",
   "execution_count": null,
   "metadata": {
    "colab": {
     "base_uri": "https://localhost:8080/",
     "height": 17
    },
    "executionInfo": {
     "elapsed": 614,
     "status": "ok",
     "timestamp": 1632383987746,
     "user": {
      "displayName": "Sabina Abdurakhmanova",
      "photoUrl": "https://lh3.googleusercontent.com/a/default-user=s64",
      "userId": "17258100122457202458"
     },
     "user_tz": -540
    },
    "id": "NxBHz4gkEr8z",
    "outputId": "d317aff8-cc6c-4c5b-c876-2077e27ffedd"
   },
   "outputs": [
    {
     "data": {
      "application/javascript": [
       "\n",
       "    async function download(id, filename, size) {\n",
       "      if (!google.colab.kernel.accessAllowed) {\n",
       "        return;\n",
       "      }\n",
       "      const div = document.createElement('div');\n",
       "      const label = document.createElement('label');\n",
       "      label.textContent = `Downloading \"${filename}\": `;\n",
       "      div.appendChild(label);\n",
       "      const progress = document.createElement('progress');\n",
       "      progress.max = size;\n",
       "      div.appendChild(progress);\n",
       "      document.body.appendChild(div);\n",
       "\n",
       "      const buffers = [];\n",
       "      let downloaded = 0;\n",
       "\n",
       "      const channel = await google.colab.kernel.comms.open(id);\n",
       "      // Send a message to notify the kernel that we're ready.\n",
       "      channel.send({})\n",
       "\n",
       "      for await (const message of channel.messages) {\n",
       "        // Send a message to notify the kernel that we're ready.\n",
       "        channel.send({})\n",
       "        if (message.buffers) {\n",
       "          for (const buffer of message.buffers) {\n",
       "            buffers.push(buffer);\n",
       "            downloaded += buffer.byteLength;\n",
       "            progress.value = downloaded;\n",
       "          }\n",
       "        }\n",
       "      }\n",
       "      const blob = new Blob(buffers, {type: 'application/binary'});\n",
       "      const a = document.createElement('a');\n",
       "      a.href = window.URL.createObjectURL(blob);\n",
       "      a.download = filename;\n",
       "      div.appendChild(a);\n",
       "      a.click();\n",
       "      div.remove();\n",
       "    }\n",
       "  "
      ],
      "text/plain": [
       "<IPython.core.display.Javascript object>"
      ]
     },
     "metadata": {},
     "output_type": "display_data"
    },
    {
     "data": {
      "application/javascript": [
       "download(\"download_c4245c62-ec5b-488d-8a54-5ae6681b306d\", \"CNN_60.pth.tar\", 19575221)"
      ],
      "text/plain": [
       "<IPython.core.display.Javascript object>"
      ]
     },
     "metadata": {},
     "output_type": "display_data"
    }
   ],
   "source": [
    "from google.colab import files\n",
    "files.download('./checkpoints/CNN_60.pth.tar') "
   ]
  },
  {
   "cell_type": "code",
   "execution_count": null,
   "metadata": {
    "colab": {
     "base_uri": "https://localhost:8080/"
    },
    "executionInfo": {
     "elapsed": 221,
     "status": "ok",
     "timestamp": 1632389552407,
     "user": {
      "displayName": "Sabina Abdurakhmanova",
      "photoUrl": "https://lh3.googleusercontent.com/a/default-user=s64",
      "userId": "17258100122457202458"
     },
     "user_tz": -540
    },
    "id": "a_jykWJm_fwD",
    "outputId": "fe452aca-7658-4bf1-f54a-1845ac727c47"
   },
   "outputs": [
    {
     "name": "stdout",
     "output_type": "stream",
     "text": [
      "MLP\n"
     ]
    }
   ],
   "source": [
    "dnn = {\"input_size\": 1024, \"hidden_size\":32, \"num_classes\":10,\"num_layer\": 6, \"activation\": nn.ReLU()}\n",
    "model = get_model(\"mlp\", **dnn)\n",
    "print(model.__class__.__name__)"
   ]
  },
  {
   "cell_type": "code",
   "execution_count": null,
   "metadata": {
    "colab": {
     "base_uri": "https://localhost:8080/"
    },
    "executionInfo": {
     "elapsed": 225,
     "status": "ok",
     "timestamp": 1632389553331,
     "user": {
      "displayName": "Sabina Abdurakhmanova",
      "photoUrl": "https://lh3.googleusercontent.com/a/default-user=s64",
      "userId": "17258100122457202458"
     },
     "user_tz": -540
    },
    "id": "PVyn4UMSfklj",
    "outputId": "614a86a6-e880-40de-81d0-82eb7fe4989e"
   },
   "outputs": [
    {
     "name": "stdout",
     "output_type": "stream",
     "text": [
      "Dataset sizes: \t train: 10000 \t val: 1000 \t test: 500\n",
      "Batch size: \t 16\n"
     ]
    }
   ],
   "source": [
    "mnist_train, mnist_val, mnist_test = get_dataset(\"mnist\", batch_size=16, cuda=0,\n",
    "                  train_size=10000, val_size=1000, test_size=500,\n",
    "                  test_batch_size=10)"
   ]
  },
  {
   "cell_type": "code",
   "execution_count": null,
   "metadata": {
    "colab": {
     "base_uri": "https://localhost:8080/",
     "height": 1000
    },
    "executionInfo": {
     "elapsed": 399702,
     "status": "ok",
     "timestamp": 1632389953906,
     "user": {
      "displayName": "Sabina Abdurakhmanova",
      "photoUrl": "https://lh3.googleusercontent.com/a/default-user=s64",
      "userId": "17258100122457202458"
     },
     "user_tz": -540
    },
    "id": "hKK2Di9JzFzb",
    "outputId": "0342d763-e5e7-4d26-a917-cabefc5f6bb2"
   },
   "outputs": [
    {
     "name": "stdout",
     "output_type": "stream",
     "text": [
      "Optimizer: \t  sgd\n",
      "\n",
      "Loss function:\n",
      "CrossEntropyLoss()\n",
      "[Logging in MLP_training]\n",
      "[0] train metrics:{\"loss\": 2.155388593673706, \"error\": 0.8125}\n",
      "[0] test metrics:{\"loss\": 2.0400190353393555, \"error\": 0.75}\n",
      "Epoch number: 0 \n",
      "Epoch Time: 5.66 sec\n",
      "[1] train metrics:{\"loss\": 1.9363903999328613, \"error\": 0.8125}\n",
      "[1] test metrics:{\"loss\": 1.641015887260437, \"error\": 0.625}\n",
      "Epoch number: 1 \n",
      "Epoch Time: 5.72 sec\n",
      "[2] train metrics:{\"loss\": 1.6502424478530884, \"error\": 0.5625}\n",
      "[2] test metrics:{\"loss\": 1.3189431428909302, \"error\": 0.5}\n",
      "Epoch number: 2 \n",
      "Epoch Time: 5.64 sec\n",
      "[3] train metrics:{\"loss\": 1.4183483123779297, \"error\": 0.375}\n",
      "[3] test metrics:{\"loss\": 1.1614638566970825, \"error\": 0.625}\n",
      "Epoch number: 3 \n",
      "Epoch Time: 5.59 sec\n",
      "[4] train metrics:{\"loss\": 0.9972471594810486, \"error\": 0.3125}\n",
      "[4] test metrics:{\"loss\": 1.1386728286743164, \"error\": 0.5}\n",
      "Epoch number: 4 \n",
      "Epoch Time: 5.74 sec\n",
      "[5] train metrics:{\"loss\": 1.4088622331619263, \"error\": 0.5625}\n",
      "[5] test metrics:{\"loss\": 0.9883172512054443, \"error\": 0.25}\n",
      "Epoch number: 5 \n",
      "Epoch Time: 5.68 sec\n",
      "[6] train metrics:{\"loss\": 0.756821870803833, \"error\": 0.25}\n",
      "[6] test metrics:{\"loss\": 1.234443187713623, \"error\": 0.375}\n",
      "Epoch number: 6 \n",
      "Epoch Time: 5.68 sec\n",
      "[7] train metrics:{\"loss\": 1.2300059795379639, \"error\": 0.3125}\n",
      "[7] test metrics:{\"loss\": 1.1097421646118164, \"error\": 0.5}\n",
      "Epoch number: 7 \n",
      "Epoch Time: 5.53 sec\n",
      "[8] train metrics:{\"loss\": 0.987037718296051, \"error\": 0.4375}\n",
      "[8] test metrics:{\"loss\": 1.174460530281067, \"error\": 0.375}\n",
      "Epoch number: 8 \n",
      "Epoch Time: 5.57 sec\n",
      "[9] train metrics:{\"loss\": 0.7047076225280762, \"error\": 0.3125}\n",
      "[9] test metrics:{\"loss\": 1.0678056478500366, \"error\": 0.25}\n",
      "Epoch number: 9 \n",
      "Epoch Time: 5.75 sec\n",
      "[10] train metrics:{\"loss\": 0.3218832314014435, \"error\": 0.125}\n",
      "[10] test metrics:{\"loss\": 1.3292971849441528, \"error\": 0.25}\n",
      "Epoch number: 10 \n",
      "Epoch Time: 5.67 sec\n",
      "[11] train metrics:{\"loss\": 0.4216485619544983, \"error\": 0.0625}\n",
      "[11] test metrics:{\"loss\": 1.1699846982955933, \"error\": 0.5}\n",
      "Epoch number: 11 \n",
      "Epoch Time: 5.6 sec\n",
      "[12] train metrics:{\"loss\": 0.5801634788513184, \"error\": 0.125}\n",
      "[12] test metrics:{\"loss\": 1.2190651893615723, \"error\": 0.375}\n",
      "Epoch number: 12 \n",
      "Epoch Time: 5.66 sec\n",
      "[13] train metrics:{\"loss\": 0.27162155508995056, \"error\": 0.0625}\n",
      "[13] test metrics:{\"loss\": 1.2281500101089478, \"error\": 0.375}\n",
      "Epoch number: 13 \n",
      "Epoch Time: 5.66 sec\n",
      "[14] train metrics:{\"loss\": 0.7797702550888062, \"error\": 0.3125}\n",
      "[14] test metrics:{\"loss\": 1.025965929031372, \"error\": 0.375}\n",
      "Epoch number: 14 \n",
      "Epoch Time: 5.78 sec\n",
      "[15] train metrics:{\"loss\": 0.44413506984710693, \"error\": 0.1875}\n",
      "[15] test metrics:{\"loss\": 1.1839919090270996, \"error\": 0.25}\n",
      "Epoch number: 15 \n",
      "Epoch Time: 5.63 sec\n",
      "[16] train metrics:{\"loss\": 0.4496575891971588, \"error\": 0.125}\n",
      "[16] test metrics:{\"loss\": 0.8170373439788818, \"error\": 0.375}\n",
      "Epoch number: 16 \n",
      "Epoch Time: 5.71 sec\n",
      "[17] train metrics:{\"loss\": 0.28816282749176025, \"error\": 0.0625}\n",
      "[17] test metrics:{\"loss\": 0.671584963798523, \"error\": 0.25}\n",
      "Epoch number: 17 \n",
      "Epoch Time: 5.72 sec\n",
      "[18] train metrics:{\"loss\": 0.5067576766014099, \"error\": 0.1875}\n",
      "[18] test metrics:{\"loss\": 0.8265747427940369, \"error\": 0.375}\n",
      "Epoch number: 18 \n",
      "Epoch Time: 5.7 sec\n",
      "[19] train metrics:{\"loss\": 0.6742979288101196, \"error\": 0.1875}\n",
      "[19] test metrics:{\"loss\": 0.9919511079788208, \"error\": 0.375}\n",
      "Epoch number: 19 \n",
      "Epoch Time: 5.63 sec\n",
      "[20] train metrics:{\"loss\": 1.2933043241500854, \"error\": 0.3125}\n",
      "[20] test metrics:{\"loss\": 0.9260122776031494, \"error\": 0.375}\n",
      "Epoch number: 20 \n",
      "Epoch Time: 5.7 sec\n",
      "[21] train metrics:{\"loss\": 0.47506338357925415, \"error\": 0.1875}\n",
      "[21] test metrics:{\"loss\": 0.9234049916267395, \"error\": 0.375}\n",
      "Epoch number: 21 \n",
      "Epoch Time: 5.74 sec\n",
      "[22] train metrics:{\"loss\": 0.4739513695240021, \"error\": 0.1875}\n",
      "[22] test metrics:{\"loss\": 1.2178679704666138, \"error\": 0.25}\n",
      "Epoch number: 22 \n",
      "Epoch Time: 5.74 sec\n",
      "[23] train metrics:{\"loss\": 0.20608031749725342, \"error\": 0.0}\n",
      "[23] test metrics:{\"loss\": 0.9163063168525696, \"error\": 0.375}\n",
      "Epoch number: 23 \n",
      "Epoch Time: 5.63 sec\n",
      "[24] train metrics:{\"loss\": 0.06490643322467804, \"error\": 0.0}\n",
      "[24] test metrics:{\"loss\": 0.574583113193512, \"error\": 0.375}\n",
      "Epoch number: 24 \n",
      "Epoch Time: 5.66 sec\n",
      "[25] train metrics:{\"loss\": 0.18084163963794708, \"error\": 0.0625}\n",
      "[25] test metrics:{\"loss\": 0.684788703918457, \"error\": 0.375}\n",
      "Epoch number: 25 \n",
      "Epoch Time: 5.57 sec\n",
      "[26] train metrics:{\"loss\": 0.177342027425766, \"error\": 0.0625}\n",
      "[26] test metrics:{\"loss\": 0.5845162272453308, \"error\": 0.25}\n",
      "Epoch number: 26 \n",
      "Epoch Time: 5.65 sec\n",
      "[27] train metrics:{\"loss\": 0.27936428785324097, \"error\": 0.125}\n",
      "[27] test metrics:{\"loss\": 0.6042143106460571, \"error\": 0.25}\n",
      "Epoch number: 27 \n",
      "Epoch Time: 5.63 sec\n",
      "[28] train metrics:{\"loss\": 0.4405486285686493, \"error\": 0.125}\n",
      "[28] test metrics:{\"loss\": 0.7524406313896179, \"error\": 0.25}\n",
      "Epoch number: 28 \n",
      "Epoch Time: 5.67 sec\n",
      "[29] train metrics:{\"loss\": 0.6786800026893616, \"error\": 0.1875}\n",
      "[29] test metrics:{\"loss\": 0.6200295090675354, \"error\": 0.25}\n",
      "Epoch number: 29 \n",
      "Epoch Time: 5.75 sec\n",
      "[30] train metrics:{\"loss\": 0.4801703095436096, \"error\": 0.25}\n",
      "[30] test metrics:{\"loss\": 0.440765380859375, \"error\": 0.25}\n",
      "Epoch number: 30 \n",
      "Epoch Time: 5.69 sec\n",
      "[31] train metrics:{\"loss\": 0.5375940799713135, \"error\": 0.125}\n",
      "[31] test metrics:{\"loss\": 0.5339881777763367, \"error\": 0.125}\n",
      "Epoch number: 31 \n",
      "Epoch Time: 5.67 sec\n",
      "[32] train metrics:{\"loss\": 0.37792664766311646, \"error\": 0.125}\n",
      "[32] test metrics:{\"loss\": 0.5154019594192505, \"error\": 0.25}\n",
      "Epoch number: 32 \n",
      "Epoch Time: 5.68 sec\n",
      "[33] train metrics:{\"loss\": 0.8734824657440186, \"error\": 0.1875}\n",
      "[33] test metrics:{\"loss\": 0.48760589957237244, \"error\": 0.125}\n",
      "Epoch number: 33 \n",
      "Epoch Time: 5.7 sec\n",
      "[34] train metrics:{\"loss\": 0.3649985194206238, \"error\": 0.1875}\n",
      "[34] test metrics:{\"loss\": 0.5350471138954163, \"error\": 0.125}\n",
      "Epoch number: 34 \n",
      "Epoch Time: 5.57 sec\n",
      "[35] train metrics:{\"loss\": 0.6735547780990601, \"error\": 0.1875}\n",
      "[35] test metrics:{\"loss\": 0.5758689045906067, \"error\": 0.125}\n",
      "Epoch number: 35 \n",
      "Epoch Time: 5.56 sec\n",
      "[36] train metrics:{\"loss\": 0.9642847180366516, \"error\": 0.4375}\n",
      "[36] test metrics:{\"loss\": 0.6041511297225952, \"error\": 0.125}\n",
      "Epoch number: 36 \n",
      "Epoch Time: 5.54 sec\n",
      "[37] train metrics:{\"loss\": 0.24945250153541565, \"error\": 0.125}\n",
      "[37] test metrics:{\"loss\": 0.5127387046813965, \"error\": 0.25}\n",
      "Epoch number: 37 \n",
      "Epoch Time: 5.6 sec\n",
      "[38] train metrics:{\"loss\": 0.46628260612487793, \"error\": 0.1875}\n",
      "[38] test metrics:{\"loss\": 0.5440000891685486, \"error\": 0.125}\n",
      "Epoch number: 38 \n",
      "Epoch Time: 5.71 sec\n",
      "[39] train metrics:{\"loss\": 0.415386825799942, \"error\": 0.125}\n",
      "[39] test metrics:{\"loss\": 0.5952385067939758, \"error\": 0.125}\n",
      "Epoch number: 39 \n",
      "Epoch Time: 5.68 sec\n",
      "[40] train metrics:{\"loss\": 0.4268816411495209, \"error\": 0.125}\n",
      "[40] test metrics:{\"loss\": 0.549140214920044, \"error\": 0.125}\n",
      "Epoch number: 40 \n",
      "Epoch Time: 5.67 sec\n",
      "[41] train metrics:{\"loss\": 0.25894418358802795, \"error\": 0.0625}\n",
      "[41] test metrics:{\"loss\": 0.3946135640144348, \"error\": 0.125}\n",
      "Epoch number: 41 \n",
      "Epoch Time: 5.73 sec\n",
      "[42] train metrics:{\"loss\": 0.08848068118095398, \"error\": 0.0}\n",
      "[42] test metrics:{\"loss\": 0.5573246479034424, \"error\": 0.125}\n",
      "Epoch number: 42 \n",
      "Epoch Time: 5.93 sec\n",
      "[43] train metrics:{\"loss\": 0.5947278141975403, \"error\": 0.25}\n",
      "[43] test metrics:{\"loss\": 0.3691698908805847, \"error\": 0.125}\n",
      "Epoch number: 43 \n",
      "Epoch Time: 5.62 sec\n",
      "[44] train metrics:{\"loss\": 0.13595502078533173, \"error\": 0.0}\n",
      "[44] test metrics:{\"loss\": 0.46292001008987427, \"error\": 0.25}\n",
      "Epoch number: 44 \n",
      "Epoch Time: 5.58 sec\n",
      "[45] train metrics:{\"loss\": 0.2545737624168396, \"error\": 0.125}\n",
      "[45] test metrics:{\"loss\": 0.463649183511734, \"error\": 0.25}\n",
      "Epoch number: 45 \n",
      "Epoch Time: 5.57 sec\n",
      "[46] train metrics:{\"loss\": 0.3008542060852051, \"error\": 0.1875}\n",
      "[46] test metrics:{\"loss\": 0.38845095038414, \"error\": 0.125}\n",
      "Epoch number: 46 \n",
      "Epoch Time: 5.76 sec\n",
      "[47] train metrics:{\"loss\": 0.35540571808815, \"error\": 0.125}\n",
      "[47] test metrics:{\"loss\": 0.3375834822654724, \"error\": 0.125}\n",
      "Epoch number: 47 \n",
      "Epoch Time: 5.68 sec\n",
      "[48] train metrics:{\"loss\": 0.5206537842750549, \"error\": 0.0625}\n",
      "[48] test metrics:{\"loss\": 0.45036762952804565, \"error\": 0.125}\n",
      "Epoch number: 48 \n",
      "Epoch Time: 5.57 sec\n",
      "[49] train metrics:{\"loss\": 0.8346341252326965, \"error\": 0.25}\n",
      "[49] test metrics:{\"loss\": 0.3037481904029846, \"error\": 0.125}\n",
      "Epoch number: 49 \n",
      "Epoch Time: 5.64 sec\n",
      "[50] train metrics:{\"loss\": 0.38502243161201477, \"error\": 0.125}\n",
      "[50] test metrics:{\"loss\": 0.19119548797607422, \"error\": 0.125}\n",
      "Epoch number: 50 \n",
      "Epoch Time: 5.76 sec\n",
      "[51] train metrics:{\"loss\": 0.5751370787620544, \"error\": 0.1875}\n",
      "[51] test metrics:{\"loss\": 0.4023348391056061, \"error\": 0.125}\n",
      "Epoch number: 51 \n",
      "Epoch Time: 5.76 sec\n",
      "[52] train metrics:{\"loss\": 0.25214245915412903, \"error\": 0.125}\n",
      "[52] test metrics:{\"loss\": 0.4084028899669647, \"error\": 0.125}\n",
      "Epoch number: 52 \n",
      "Epoch Time: 5.67 sec\n",
      "[53] train metrics:{\"loss\": 0.12210319191217422, \"error\": 0.0}\n",
      "[53] test metrics:{\"loss\": 0.43955379724502563, \"error\": 0.125}\n",
      "Epoch number: 53 \n",
      "Epoch Time: 5.77 sec\n",
      "[54] train metrics:{\"loss\": 0.4343715310096741, \"error\": 0.1875}\n",
      "[54] test metrics:{\"loss\": 0.4259184002876282, \"error\": 0.125}\n",
      "Epoch number: 54 \n",
      "Epoch Time: 5.88 sec\n",
      "[55] train metrics:{\"loss\": 0.19508865475654602, \"error\": 0.125}\n",
      "[55] test metrics:{\"loss\": 0.22701533138751984, \"error\": 0.125}\n",
      "Epoch number: 55 \n",
      "Epoch Time: 5.9 sec\n",
      "[56] train metrics:{\"loss\": 0.15275050699710846, \"error\": 0.0625}\n",
      "[56] test metrics:{\"loss\": 0.44802966713905334, \"error\": 0.125}\n",
      "Epoch number: 56 \n",
      "Epoch Time: 5.79 sec\n",
      "[57] train metrics:{\"loss\": 0.467695415019989, \"error\": 0.1875}\n",
      "[57] test metrics:{\"loss\": 0.3838247060775757, \"error\": 0.125}\n",
      "Epoch number: 57 \n",
      "Epoch Time: 5.82 sec\n",
      "[58] train metrics:{\"loss\": 0.36091625690460205, \"error\": 0.125}\n",
      "[58] test metrics:{\"loss\": 0.3686022162437439, \"error\": 0.125}\n",
      "Epoch number: 58 \n",
      "Epoch Time: 5.84 sec\n",
      "[59] train metrics:{\"loss\": 0.27082329988479614, \"error\": 0.125}\n",
      "[59] test metrics:{\"loss\": 0.41668954491615295, \"error\": 0.125}\n",
      "Epoch number: 59 \n",
      "Epoch Time: 5.76 sec\n",
      "[60] train metrics:{\"loss\": 0.4320951998233795, \"error\": 0.125}\n",
      "[60] test metrics:{\"loss\": 0.35214754939079285, \"error\": 0.125}\n",
      "Epoch number: 60 \n",
      "Epoch Time: 5.67 sec\n",
      "[61] train metrics:{\"loss\": 0.21611186861991882, \"error\": 0.0625}\n",
      "[61] test metrics:{\"loss\": 0.3085458278656006, \"error\": 0.125}\n",
      "Epoch number: 61 \n",
      "Epoch Time: 5.73 sec\n",
      "[62] train metrics:{\"loss\": 0.05947830155491829, \"error\": 0.0}\n",
      "[62] test metrics:{\"loss\": 0.2572089433670044, \"error\": 0.125}\n",
      "Epoch number: 62 \n",
      "Epoch Time: 5.68 sec\n",
      "[63] train metrics:{\"loss\": 0.16823232173919678, \"error\": 0.0625}\n",
      "[63] test metrics:{\"loss\": 0.2955282926559448, \"error\": 0.125}\n",
      "Epoch number: 63 \n",
      "Epoch Time: 5.64 sec\n",
      "[64] train metrics:{\"loss\": 0.18398259580135345, \"error\": 0.0625}\n",
      "[64] test metrics:{\"loss\": 0.3128618896007538, \"error\": 0.125}\n",
      "Epoch number: 64 \n",
      "Epoch Time: 5.77 sec\n",
      "[65] train metrics:{\"loss\": 0.4422839283943176, \"error\": 0.1875}\n",
      "[65] test metrics:{\"loss\": 0.3278214931488037, \"error\": 0.125}\n",
      "Epoch number: 65 \n",
      "Epoch Time: 5.79 sec\n",
      "[66] train metrics:{\"loss\": 0.5564455986022949, \"error\": 0.125}\n",
      "[66] test metrics:{\"loss\": 0.3231649696826935, \"error\": 0.125}\n",
      "Epoch number: 66 \n",
      "Epoch Time: 5.81 sec\n",
      "[67] train metrics:{\"loss\": 0.6694391369819641, \"error\": 0.125}\n",
      "[67] test metrics:{\"loss\": 0.271908700466156, \"error\": 0.125}\n",
      "Epoch number: 67 \n",
      "Epoch Time: 5.76 sec\n",
      "[68] train metrics:{\"loss\": 0.22580108046531677, \"error\": 0.0625}\n",
      "[68] test metrics:{\"loss\": 0.3533216714859009, \"error\": 0.125}\n",
      "Epoch number: 68 \n",
      "Epoch Time: 5.81 sec\n",
      "[69] train metrics:{\"loss\": 0.1828085333108902, \"error\": 0.0625}\n",
      "[69] test metrics:{\"loss\": 0.3517838418483734, \"error\": 0.125}\n",
      "Epoch number: 69 \n",
      "Epoch Time: 5.8 sec\n",
      "FINISHED TRAINING\n"
     ]
    },
    {
     "data": {
      "image/png": "[encoded data removed]",
      "text/plain": [
       "<Figure size 720x360 with 1 Axes>"
      ]
     },
     "metadata": {
      "needs_background": "light"
     },
     "output_type": "display_data"
    },
    {
     "data": {
      "image/png": "[encoded data removed]",
      "text/plain": [
       "<Figure size 720x360 with 1 Axes>"
      ]
     },
     "metadata": {
      "needs_background": "light"
     },
     "output_type": "display_data"
    }
   ],
   "source": [
    "train(model=model, loss='ce', optimizer='sgd', scheduler=None, epochs=70, device=device, dataset='mnist', lossfn=None, train_loader=mnist_train,\n",
    "      val_loader=mnist_val, weight_decay=0, lr=0.001, momentum=0.7, patience=5, min_delta=-0.6)"
   ]
  },
  {
   "cell_type": "code",
   "execution_count": null,
   "metadata": {
    "colab": {
     "base_uri": "https://localhost:8080/"
    },
    "executionInfo": {
     "elapsed": 586,
     "status": "ok",
     "timestamp": 1632390087989,
     "user": {
      "displayName": "Sabina Abdurakhmanova",
      "photoUrl": "https://lh3.googleusercontent.com/a/default-user=s64",
      "userId": "17258100122457202458"
     },
     "user_tz": -540
    },
    "id": "0s_P84UkK-Ld",
    "outputId": "b6aec093-f308-4814-b48b-c262e1de69df"
   },
   "outputs": [
    {
     "name": "stdout",
     "output_type": "stream",
     "text": [
      "Optimizer: \t  sgd\n",
      "\n",
      "Loss function:\n",
      "CrossEntropyLoss()\n",
      "TESTING\n",
      "[0] test metrics:{\"loss\": 0.17309275269508362, \"error\": 0.0}\n",
      "FINISHED TESTING\n"
     ]
    }
   ],
   "source": [
    "test(model=model, loss='ce', optimizer='sgd', device=device, lossfn=None, dataset='mnist', test_loader=mnist_test, at_epoch=70)"
   ]
  },
  {
   "cell_type": "code",
   "execution_count": null,
   "metadata": {
    "colab": {
     "base_uri": "https://localhost:8080/",
     "height": 17
    },
    "executionInfo": {
     "elapsed": 226,
     "status": "ok",
     "timestamp": 1632390173904,
     "user": {
      "displayName": "Sabina Abdurakhmanova",
      "photoUrl": "https://lh3.googleusercontent.com/a/default-user=s64",
      "userId": "17258100122457202458"
     },
     "user_tz": -540
    },
    "id": "6fKjnyFjCCvn",
    "outputId": "792e0aa4-d235-485d-cc22-60f59c6d4b64"
   },
   "outputs": [
    {
     "data": {
      "application/javascript": [
       "\n",
       "    async function download(id, filename, size) {\n",
       "      if (!google.colab.kernel.accessAllowed) {\n",
       "        return;\n",
       "      }\n",
       "      const div = document.createElement('div');\n",
       "      const label = document.createElement('label');\n",
       "      label.textContent = `Downloading \"${filename}\": `;\n",
       "      div.appendChild(label);\n",
       "      const progress = document.createElement('progress');\n",
       "      progress.max = size;\n",
       "      div.appendChild(progress);\n",
       "      document.body.appendChild(div);\n",
       "\n",
       "      const buffers = [];\n",
       "      let downloaded = 0;\n",
       "\n",
       "      const channel = await google.colab.kernel.comms.open(id);\n",
       "      // Send a message to notify the kernel that we're ready.\n",
       "      channel.send({})\n",
       "\n",
       "      for await (const message of channel.messages) {\n",
       "        // Send a message to notify the kernel that we're ready.\n",
       "        channel.send({})\n",
       "        if (message.buffers) {\n",
       "          for (const buffer of message.buffers) {\n",
       "            buffers.push(buffer);\n",
       "            downloaded += buffer.byteLength;\n",
       "            progress.value = downloaded;\n",
       "          }\n",
       "        }\n",
       "      }\n",
       "      const blob = new Blob(buffers, {type: 'application/binary'});\n",
       "      const a = document.createElement('a');\n",
       "      a.href = window.URL.createObjectURL(blob);\n",
       "      a.download = filename;\n",
       "      div.appendChild(a);\n",
       "      a.click();\n",
       "      div.remove();\n",
       "    }\n",
       "  "
      ],
      "text/plain": [
       "<IPython.core.display.Javascript object>"
      ]
     },
     "metadata": {},
     "output_type": "display_data"
    },
    {
     "data": {
      "application/javascript": [
       "download(\"download_e78fe450-8202-42f1-b125-da6952eb9ad8\", \"MLP_70.pth.tar\", 305757)"
      ],
      "text/plain": [
       "<IPython.core.display.Javascript object>"
      ]
     },
     "metadata": {},
     "output_type": "display_data"
    }
   ],
   "source": [
    "from google.colab import files\n",
    "files.download('./checkpoints/MLP_70.pth.tar')"
   ]
  },
  {
   "cell_type": "code",
   "execution_count": 16,
   "metadata": {
    "colab": {
     "base_uri": "https://localhost:8080/"
    },
    "executionInfo": {
     "elapsed": 218,
     "status": "ok",
     "timestamp": 1632458615268,
     "user": {
      "displayName": "Sabina Abdurakhmanova",
      "photoUrl": "https://lh3.googleusercontent.com/a/default-user=s64",
      "userId": "17258100122457202458"
     },
     "user_tz": -540
    },
    "id": "lxIhhY--HZ1v",
    "outputId": "054d76d9-1e63-463a-fcd1-98030cf3a17d"
   },
   "outputs": [
    {
     "name": "stdout",
     "output_type": "stream",
     "text": [
      "Dataset sizes: \t train: 10000 \t val: 1000 \t test: 500\n",
      "Batch size: \t 16\n"
     ]
    }
   ],
   "source": [
    "fashion_train, fashion_val, fashion_test =get_dataset(\"fashion-mnist\", batch_size=16, cuda=0,\n",
    "                  train_size=10000, val_size=1000, test_size=500,\n",
    "                  test_batch_size=10)"
   ]
  },
  {
   "cell_type": "code",
   "execution_count": 17,
   "metadata": {
    "colab": {
     "base_uri": "https://localhost:8080/"
    },
    "executionInfo": {
     "elapsed": 2430,
     "status": "ok",
     "timestamp": 1632458619379,
     "user": {
      "displayName": "Sabina Abdurakhmanova",
      "photoUrl": "https://lh3.googleusercontent.com/a/default-user=s64",
      "userId": "17258100122457202458"
     },
     "user_tz": -540
    },
    "id": "3vuptcNOzWUL",
    "outputId": "d52815c4-3555-434d-a67c-3d272734afba"
   },
   "outputs": [
    {
     "name": "stdout",
     "output_type": "stream",
     "text": [
      "Files already downloaded and verified\n",
      "Dataset sizes: \t train: 10000 \t val: 1000 \t test: 500\n",
      "Batch size: \t 32\n"
     ]
    }
   ],
   "source": [
    "cifar100_train, cifar100_val, cifar100_test = get_dataset(\"cifar100\", batch_size=32, cuda=0,\n",
    "                  train_size=10000, val_size=1000, test_size=500,\n",
    "                  test_batch_size=10)"
   ]
  },
  {
   "cell_type": "code",
   "execution_count": 18,
   "metadata": {
    "colab": {
     "base_uri": "https://localhost:8080/"
    },
    "executionInfo": {
     "elapsed": 4,
     "status": "ok",
     "timestamp": 1632458620254,
     "user": {
      "displayName": "Sabina Abdurakhmanova",
      "photoUrl": "https://lh3.googleusercontent.com/a/default-user=s64",
      "userId": "17258100122457202458"
     },
     "user_tz": -540
    },
    "id": "FSJWnkVszW-i",
    "outputId": "8fd0c93d-5650-4a51-bb75-407ec09bc745"
   },
   "outputs": [
    {
     "name": "stdout",
     "output_type": "stream",
     "text": [
      "ResNet18\n"
     ]
    }
   ],
   "source": [
    "resnet18 = {\"filters_percentage\": 0.3, \"n_channels\":3,\"num_classes\": 10, \"block\": ResBlock, \"num_blocks\": [2,2,2,2]}\n",
    "model = get_model(\"resnet18\", **resnet18)\n",
    "print(model.__class__.__name__)"
   ]
  },
  {
   "cell_type": "code",
   "execution_count": 21,
   "metadata": {
    "colab": {
     "base_uri": "https://localhost:8080/",
     "height": 833
    },
    "executionInfo": {
     "elapsed": 215,
     "status": "error",
     "timestamp": 1632458638241,
     "user": {
      "displayName": "Sabina Abdurakhmanova",
      "photoUrl": "https://lh3.googleusercontent.com/a/default-user=s64",
      "userId": "17258100122457202458"
     },
     "user_tz": -540
    },
    "id": "uk3T_3TR6tOD",
    "outputId": "d3ddbbe9-0ec4-48cf-ea4d-01fa9c26dc7b"
   },
   "outputs": [
    {
     "ename": "RuntimeError",
     "evalue": "ignored",
     "output_type": "error",
     "traceback": [
      "\u001b[0;31m---------------------------------------------------------------------------\u001b[0m",
      "\u001b[0;31mRuntimeError\u001b[0m                              Traceback (most recent call last)",
      "\u001b[0;32m<ipython-input-21-c1c307afb477>\u001b[0m in \u001b[0;36m<module>\u001b[0;34m()\u001b[0m\n\u001b[1;32m      1\u001b[0m train(model=model, loss='ce', optimizer='sgd', scheduler=None, epochs=70, device=device, dataset='cifar100', lossfn=None, train_loader=cifar100_train,\n\u001b[0;32m----> 2\u001b[0;31m       val_loader=cifar100_val, weight_decay=0, lr=0.001, momentum=0.7, patience=5, min_delta=-0.6)\n\u001b[0m",
      "\u001b[0;32m/content/URP/learning/learn.py\u001b[0m in \u001b[0;36mtrain\u001b[0;34m(model, loss, optimizer, epochs, device, dataset, lossfn, train_loader, val_loader, scheduler, weight_decay, lr, momentum, curves, patience, min_delta)\u001b[0m\n\u001b[1;32m     46\u001b[0m def train(model, loss, optimizer, epochs, device, dataset, lossfn, train_loader, val_loader, scheduler=None,\n\u001b[1;32m     47\u001b[0m     weight_decay=0.0, lr=0.001, momentum=0.9, curves=True, patience=7, min_delta=0):\n\u001b[0;32m---> 48\u001b[0;31m     \u001b[0mmodel\u001b[0m\u001b[0;34m.\u001b[0m\u001b[0mto\u001b[0m\u001b[0;34m(\u001b[0m\u001b[0mdevice\u001b[0m\u001b[0;34m)\u001b[0m\u001b[0;34m\u001b[0m\u001b[0;34m\u001b[0m\u001b[0m\n\u001b[0m\u001b[1;32m     49\u001b[0m     \u001b[0moptimizer\u001b[0m \u001b[0;34m=\u001b[0m \u001b[0mset_optimizer\u001b[0m\u001b[0;34m(\u001b[0m\u001b[0moptimizer\u001b[0m\u001b[0;34m,\u001b[0m \u001b[0mmodel\u001b[0m\u001b[0;34m.\u001b[0m\u001b[0mparameters\u001b[0m\u001b[0;34m(\u001b[0m\u001b[0;34m)\u001b[0m\u001b[0;34m,\u001b[0m \u001b[0mlr\u001b[0m\u001b[0;34m,\u001b[0m \u001b[0mweight_decay\u001b[0m\u001b[0;34m,\u001b[0m \u001b[0mmomentum\u001b[0m\u001b[0;34m)\u001b[0m\u001b[0;34m\u001b[0m\u001b[0;34m\u001b[0m\u001b[0m\n\u001b[1;32m     50\u001b[0m     \u001b[0mcriterion\u001b[0m \u001b[0;34m=\u001b[0m \u001b[0mset_loss\u001b[0m\u001b[0;34m(\u001b[0m\u001b[0mloss\u001b[0m\u001b[0;34m)\u001b[0m\u001b[0;34m\u001b[0m\u001b[0;34m\u001b[0m\u001b[0m\n",
      "\u001b[0;32m/usr/local/lib/python3.7/dist-packages/torch/nn/modules/module.py\u001b[0m in \u001b[0;36mto\u001b[0;34m(self, *args, **kwargs)\u001b[0m\n\u001b[1;32m    850\u001b[0m             \u001b[0;32mreturn\u001b[0m \u001b[0mt\u001b[0m\u001b[0;34m.\u001b[0m\u001b[0mto\u001b[0m\u001b[0;34m(\u001b[0m\u001b[0mdevice\u001b[0m\u001b[0;34m,\u001b[0m \u001b[0mdtype\u001b[0m \u001b[0;32mif\u001b[0m \u001b[0mt\u001b[0m\u001b[0;34m.\u001b[0m\u001b[0mis_floating_point\u001b[0m\u001b[0;34m(\u001b[0m\u001b[0;34m)\u001b[0m \u001b[0;32mor\u001b[0m \u001b[0mt\u001b[0m\u001b[0;34m.\u001b[0m\u001b[0mis_complex\u001b[0m\u001b[0;34m(\u001b[0m\u001b[0;34m)\u001b[0m \u001b[0;32melse\u001b[0m \u001b[0;32mNone\u001b[0m\u001b[0;34m,\u001b[0m \u001b[0mnon_blocking\u001b[0m\u001b[0;34m)\u001b[0m\u001b[0;34m\u001b[0m\u001b[0;34m\u001b[0m\u001b[0m\n\u001b[1;32m    851\u001b[0m \u001b[0;34m\u001b[0m\u001b[0m\n\u001b[0;32m--> 852\u001b[0;31m         \u001b[0;32mreturn\u001b[0m \u001b[0mself\u001b[0m\u001b[0;34m.\u001b[0m\u001b[0m_apply\u001b[0m\u001b[0;34m(\u001b[0m\u001b[0mconvert\u001b[0m\u001b[0;34m)\u001b[0m\u001b[0;34m\u001b[0m\u001b[0;34m\u001b[0m\u001b[0m\n\u001b[0m\u001b[1;32m    853\u001b[0m \u001b[0;34m\u001b[0m\u001b[0m\n\u001b[1;32m    854\u001b[0m     def register_backward_hook(\n",
      "\u001b[0;32m/usr/local/lib/python3.7/dist-packages/torch/nn/modules/module.py\u001b[0m in \u001b[0;36m_apply\u001b[0;34m(self, fn)\u001b[0m\n\u001b[1;32m    528\u001b[0m     \u001b[0;32mdef\u001b[0m \u001b[0m_apply\u001b[0m\u001b[0;34m(\u001b[0m\u001b[0mself\u001b[0m\u001b[0;34m,\u001b[0m \u001b[0mfn\u001b[0m\u001b[0;34m)\u001b[0m\u001b[0;34m:\u001b[0m\u001b[0;34m\u001b[0m\u001b[0;34m\u001b[0m\u001b[0m\n\u001b[1;32m    529\u001b[0m         \u001b[0;32mfor\u001b[0m \u001b[0mmodule\u001b[0m \u001b[0;32min\u001b[0m \u001b[0mself\u001b[0m\u001b[0;34m.\u001b[0m\u001b[0mchildren\u001b[0m\u001b[0;34m(\u001b[0m\u001b[0;34m)\u001b[0m\u001b[0;34m:\u001b[0m\u001b[0;34m\u001b[0m\u001b[0;34m\u001b[0m\u001b[0m\n\u001b[0;32m--> 530\u001b[0;31m             \u001b[0mmodule\u001b[0m\u001b[0;34m.\u001b[0m\u001b[0m_apply\u001b[0m\u001b[0;34m(\u001b[0m\u001b[0mfn\u001b[0m\u001b[0;34m)\u001b[0m\u001b[0;34m\u001b[0m\u001b[0;34m\u001b[0m\u001b[0m\n\u001b[0m\u001b[1;32m    531\u001b[0m \u001b[0;34m\u001b[0m\u001b[0m\n\u001b[1;32m    532\u001b[0m         \u001b[0;32mdef\u001b[0m \u001b[0mcompute_should_use_set_data\u001b[0m\u001b[0;34m(\u001b[0m\u001b[0mtensor\u001b[0m\u001b[0;34m,\u001b[0m \u001b[0mtensor_applied\u001b[0m\u001b[0;34m)\u001b[0m\u001b[0;34m:\u001b[0m\u001b[0;34m\u001b[0m\u001b[0;34m\u001b[0m\u001b[0m\n",
      "\u001b[0;32m/usr/local/lib/python3.7/dist-packages/torch/nn/modules/module.py\u001b[0m in \u001b[0;36m_apply\u001b[0;34m(self, fn)\u001b[0m\n\u001b[1;32m    550\u001b[0m                 \u001b[0;31m# `with torch.no_grad():`\u001b[0m\u001b[0;34m\u001b[0m\u001b[0;34m\u001b[0m\u001b[0;34m\u001b[0m\u001b[0m\n\u001b[1;32m    551\u001b[0m                 \u001b[0;32mwith\u001b[0m \u001b[0mtorch\u001b[0m\u001b[0;34m.\u001b[0m\u001b[0mno_grad\u001b[0m\u001b[0;34m(\u001b[0m\u001b[0;34m)\u001b[0m\u001b[0;34m:\u001b[0m\u001b[0;34m\u001b[0m\u001b[0;34m\u001b[0m\u001b[0m\n\u001b[0;32m--> 552\u001b[0;31m                     \u001b[0mparam_applied\u001b[0m \u001b[0;34m=\u001b[0m \u001b[0mfn\u001b[0m\u001b[0;34m(\u001b[0m\u001b[0mparam\u001b[0m\u001b[0;34m)\u001b[0m\u001b[0;34m\u001b[0m\u001b[0;34m\u001b[0m\u001b[0m\n\u001b[0m\u001b[1;32m    553\u001b[0m                 \u001b[0mshould_use_set_data\u001b[0m \u001b[0;34m=\u001b[0m \u001b[0mcompute_should_use_set_data\u001b[0m\u001b[0;34m(\u001b[0m\u001b[0mparam\u001b[0m\u001b[0;34m,\u001b[0m \u001b[0mparam_applied\u001b[0m\u001b[0;34m)\u001b[0m\u001b[0;34m\u001b[0m\u001b[0;34m\u001b[0m\u001b[0m\n\u001b[1;32m    554\u001b[0m                 \u001b[0;32mif\u001b[0m \u001b[0mshould_use_set_data\u001b[0m\u001b[0;34m:\u001b[0m\u001b[0;34m\u001b[0m\u001b[0;34m\u001b[0m\u001b[0m\n",
      "\u001b[0;32m/usr/local/lib/python3.7/dist-packages/torch/nn/modules/module.py\u001b[0m in \u001b[0;36mconvert\u001b[0;34m(t)\u001b[0m\n\u001b[1;32m    848\u001b[0m                 return t.to(device, dtype if t.is_floating_point() or t.is_complex() else None,\n\u001b[1;32m    849\u001b[0m                             non_blocking, memory_format=convert_to_format)\n\u001b[0;32m--> 850\u001b[0;31m             \u001b[0;32mreturn\u001b[0m \u001b[0mt\u001b[0m\u001b[0;34m.\u001b[0m\u001b[0mto\u001b[0m\u001b[0;34m(\u001b[0m\u001b[0mdevice\u001b[0m\u001b[0;34m,\u001b[0m \u001b[0mdtype\u001b[0m \u001b[0;32mif\u001b[0m \u001b[0mt\u001b[0m\u001b[0;34m.\u001b[0m\u001b[0mis_floating_point\u001b[0m\u001b[0;34m(\u001b[0m\u001b[0;34m)\u001b[0m \u001b[0;32mor\u001b[0m \u001b[0mt\u001b[0m\u001b[0;34m.\u001b[0m\u001b[0mis_complex\u001b[0m\u001b[0;34m(\u001b[0m\u001b[0;34m)\u001b[0m \u001b[0;32melse\u001b[0m \u001b[0;32mNone\u001b[0m\u001b[0;34m,\u001b[0m \u001b[0mnon_blocking\u001b[0m\u001b[0;34m)\u001b[0m\u001b[0;34m\u001b[0m\u001b[0;34m\u001b[0m\u001b[0m\n\u001b[0m\u001b[1;32m    851\u001b[0m \u001b[0;34m\u001b[0m\u001b[0m\n\u001b[1;32m    852\u001b[0m         \u001b[0;32mreturn\u001b[0m \u001b[0mself\u001b[0m\u001b[0;34m.\u001b[0m\u001b[0m_apply\u001b[0m\u001b[0;34m(\u001b[0m\u001b[0mconvert\u001b[0m\u001b[0;34m)\u001b[0m\u001b[0;34m\u001b[0m\u001b[0;34m\u001b[0m\u001b[0m\n",
      "\u001b[0;31mRuntimeError\u001b[0m: CUDA error: device-side assert triggered\nCUDA kernel errors might be asynchronously reported at some other API call,so the stacktrace below might be incorrect.\nFor debugging consider passing CUDA_LAUNCH_BLOCKING=1."
     ]
    }
   ],
   "source": [
    "train(model=model, loss='ce', optimizer='sgd', scheduler=None, epochs=70, device=device, dataset='cifar100', lossfn=None, train_loader=cifar100_train,\n",
    "      val_loader=cifar100_val, weight_decay=0, lr=0.001, momentum=0.7, patience=5, min_delta=-0.6)"
   ]
  },
  {
   "cell_type": "code",
   "execution_count": null,
   "metadata": {
    "id": "uN7Hj9kc7qAw"
   },
   "outputs": [],
   "source": [
    "test(model=model, loss='ce', optimizer='sgd', device=device, lossfn=None, dataset='fashion-mnist', test_loader=fashion_test, at_epoch=70)"
   ]
  },
  {
   "cell_type": "code",
   "execution_count": null,
   "metadata": {
    "id": "t0fcePMYHvJH"
   },
   "outputs": [],
   "source": []
  },
  {
   "cell_type": "code",
   "execution_count": null,
   "metadata": {
    "id": "LzJmte_HbvvV"
   },
   "outputs": [],
   "source": [
    "train, val, test = get_dataset(\"csv\", path='../data/csv_datasets/winequality-red.csv')\n",
    "train(model=model, loss='ce', optimizer='sgd', scheduler=None, epochs=30, device=device, dataset='non', lossfn=None, train_loader=train, val_loader=test, weight_decay=0.0, lr=0.001, momentum=0.9)"
   ]
  }
 ],
 "metadata": {
  "accelerator": "GPU",
  "colab": {
   "collapsed_sections": [],
   "name": "learn_test.ipynb",
   "provenance": []
  },
  "kernelspec": {
   "display_name": "Python 3",
   "language": "python",
   "name": "python3"
  },
  "language_info": {
   "codemirror_mode": {
    "name": "ipython",
    "version": 3
   },
   "file_extension": ".py",
   "mimetype": "text/x-python",
   "name": "python",
   "nbconvert_exporter": "python",
   "pygments_lexer": "ipython3",
   "version": "3.8.5"
  }
 },
 "nbformat": 4,
 "nbformat_minor": 1
}
