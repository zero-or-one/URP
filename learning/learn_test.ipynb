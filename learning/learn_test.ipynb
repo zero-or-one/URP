{
 "cells": [
  {
   "cell_type": "code",
   "execution_count": null,
   "metadata": {
    "collapsed": true
   },
   "outputs": [],
   "source": [
    "'''Test created models here'''\n",
    "from cuda import set_cuda\n",
    "import mlogger\n",
    "'''\n",
    "from cli import parse_command\n",
    "from losses import get_loss\n",
    "from utils import setup_xp, set_seed\n",
    "from data import get_data_loaders\n",
    "from models import get_model, load_best_model\n",
    "from optim import get_optimizer, decay_optimizer\n",
    "from epoch import train, test\n",
    "'''"
   ]
  },
  {
   "cell_type": "code",
   "execution_count": null,
   "outputs": [],
   "source": [],
   "metadata": {
    "collapsed": false,
    "pycharm": {
     "name": "#%%\n"
    }
   }
  }
 ],
 "metadata": {
  "kernelspec": {
   "display_name": "Python 3",
   "language": "python",
   "name": "python3"
  },
  "language_info": {
   "codemirror_mode": {
    "name": "ipython",
    "version": 2
   },
   "file_extension": ".py",
   "mimetype": "text/x-python",
   "name": "python",
   "nbconvert_exporter": "python",
   "pygments_lexer": "ipython2",
   "version": "2.7.6"
  }
 },
 "nbformat": 4,
 "nbformat_minor": 0
}